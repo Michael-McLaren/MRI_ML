{
 "cells": [
  {
   "cell_type": "code",
   "execution_count": 4,
   "metadata": {},
   "outputs": [],
   "source": [
    "import torch\n",
    "import torch.nn as nn\n",
    "import torch.optim as optim\n",
    "import torch.utils.data as Data\n",
    "import torch.nn.functional as F\n",
    "\n",
    "from torch.autograd import Variable\n",
    "from torchvision import datasets, transforms\n",
    "\n",
    "import numpy as np\n",
    "import matplotlib.pyplot as plt\n",
    "import scipy.stats as st\n",
    "import seaborn as sns\n",
    "\n",
    "from tkmodel.TwoCUM_copy import TwoCUMfittingConc\n",
    "from tkmodel.TwoCUM_copy import TwoCUM\n",
    "\n",
    "from ml_model.data_generation import uterus\n",
    "from ml_model.arg_extractor import get_args\n",
    "from ml_model.experiment_build import ExperimentBuilder\n",
    "from ml_model.model_architectures import BasicNet\n",
    "import os "
   ]
  },
  {
   "cell_type": "code",
   "execution_count": null,
   "metadata": {},
   "outputs": [],
   "source": [
    "batch_train = args.batch_size\n",
    "\n",
    "batch_val = args.batch_size_test\n",
    "\n",
    "num = 100000\n",
    "\n",
    "uterus_data = uterus(num)\n",
    "train, val, test, scaler = uterus_data.create_data(batch_train, batch_val, shuffle = True)\n",
    "\n",
    "custom_conv_net = BasicNet()\n",
    "\n",
    "mri_experiment = ExperimentBuilder(network_model=custom_conv_net,\n",
    "                                    experiment_name=args.experiment_name,\n",
    "                                    num_epochs=args.num_epochs,\n",
    "                                    weight_decay_coefficient=args.weight_decay_coefficient,\n",
    "                                    pk_weight = args.pk_weight, \n",
    "                                    curve_weight = args.curve_weight,\n",
    "                                    lr = args.lr,\n",
    "                                    train_data=train, \n",
    "                                    val_data=val,\n",
    "                                    test_data=test,\n",
    "                                    scaler = scaler)  # build an experiment object"
   ]
  }
 ],
 "metadata": {
  "kernelspec": {
   "display_name": "Python 3",
   "language": "python",
   "name": "python3"
  },
  "language_info": {
   "codemirror_mode": {
    "name": "ipython",
    "version": 3
   },
   "file_extension": ".py",
   "mimetype": "text/x-python",
   "name": "python",
   "nbconvert_exporter": "python",
   "pygments_lexer": "ipython3",
   "version": "3.8.10"
  }
 },
 "nbformat": 4,
 "nbformat_minor": 4
}
