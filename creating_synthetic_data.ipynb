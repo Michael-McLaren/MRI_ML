{
 "cells": [
  {
   "cell_type": "code",
   "execution_count": 5,
   "metadata": {},
   "outputs": [],
   "source": [
    "import torch\n",
    "import torch.nn as nn\n",
    "import torch.optim as optim\n",
    "import torch.utils.data as Data\n",
    "import torch.nn.functional as F\n",
    "\n",
    "from torch.autograd import Variable\n",
    "from torchvision import datasets, transforms\n",
    "\n",
    "import numpy as np\n",
    "import matplotlib.pyplot as plt\n",
    "import scipy.stats as st\n",
    "\n",
    "from tkmodel.TwoCUM_copy import TwoCUMfittingConc\n",
    "from tkmodel.TwoCUM_copy import TwoCUM"
   ]
  },
  {
   "cell_type": "code",
   "execution_count": 4,
   "metadata": {},
   "outputs": [
    {
     "data": {
      "text/plain": [
       "array([4.38512085e-02, 0.00000000e+00, 1.68928530e-01, 1.02423649e-01,\n",
       "       1.39036270e-01, 1.36740597e-01, 8.06717497e-02, 1.95099205e-01,\n",
       "       0.00000000e+00, 1.34267907e-02, 9.74253943e-02, 0.00000000e+00,\n",
       "       8.24417098e-02, 1.51790270e-01, 1.46028359e-01, 1.14178520e-01,\n",
       "       7.70471000e-02, 5.80831042e-02, 2.13124521e-01, 3.48362205e-02,\n",
       "       1.16599641e-01, 1.98062357e-01, 8.54829114e-02, 7.37665656e-02,\n",
       "       1.08204696e-01, 1.30734945e-01, 1.74037038e-01, 8.32117793e-02,\n",
       "       3.06435945e-02, 1.02497656e-01, 1.94899598e-01, 2.15077964e-01,\n",
       "       1.13474960e-01, 1.24314733e-01, 1.39362960e-01, 1.34560552e-01,\n",
       "       1.06996692e-01, 7.07717682e-02, 3.99746851e-02, 9.50135683e-02,\n",
       "       7.73546368e-02, 8.75016363e-03, 4.96885382e-02, 2.05292887e-01,\n",
       "       2.60073466e-01, 2.45321344e-01, 0.00000000e+00, 4.58184291e-02,\n",
       "       9.50508920e-02, 1.07670257e-01, 6.47055368e-02, 1.21688002e-01,\n",
       "       2.41464337e-01, 2.11682213e-01, 0.00000000e+00, 4.11390544e-01,\n",
       "       1.56984243e-02, 4.47385554e-02, 5.56115604e-02, 4.74817261e-02,\n",
       "       1.07211405e-01, 1.56021699e-01, 8.46876502e-02, 1.75396772e-01,\n",
       "       2.72406239e-01, 1.10029580e-01, 0.00000000e+00, 1.96468303e-01,\n",
       "       1.09908567e-01, 1.25920564e-01, 1.20135877e-01, 4.02422973e-02,\n",
       "       1.99836535e-01, 5.18877692e-01, 4.34429439e-01, 3.54324999e-01,\n",
       "       0.00000000e+00, 1.25263291e-01, 1.91789626e-01, 1.20968203e-01,\n",
       "       9.79008647e-02, 1.27082121e-01, 1.77799505e-01, 2.12324681e-01,\n",
       "       1.34983366e-01, 1.49663047e-01, 1.29055776e-01, 6.81235508e-02,\n",
       "       7.55107518e-02, 1.61753342e-01, 7.26205784e-02, 1.99423345e-01,\n",
       "       1.93878924e-02, 5.81102482e-02, 1.37184451e-01, 1.16265128e-01,\n",
       "       8.20053824e-02, 7.85404102e-02, 1.14285680e-01, 5.01999550e-02,\n",
       "       0.00000000e+00, 1.26877340e-02, 6.72112413e-02, 8.84536465e-02,\n",
       "       1.50704148e-01, 1.28323077e-01, 1.39581606e-01, 1.78128037e-01,\n",
       "       3.62635589e-03, 0.00000000e+00, 1.33183108e-02, 0.00000000e+00,\n",
       "       6.23317890e-02, 1.01575094e-01, 1.43964279e-01, 2.24048481e-01,\n",
       "       1.87494822e-01, 1.61499182e-01, 0.00000000e+00, 0.00000000e+00,\n",
       "       0.00000000e+00, 1.53749255e-01, 8.14589000e-02, 1.37951761e-01,\n",
       "       1.81670337e-01, 4.77709866e-02, 3.89216620e-02, 2.29500626e-02,\n",
       "       6.90295215e-03, 6.85227311e-03, 9.72814835e-02, 1.22803943e-01,\n",
       "       1.14021133e-01, 1.47572869e-01, 2.22934827e-02, 3.99833512e-02,\n",
       "       1.34590043e-01, 5.84027678e-02, 1.23347849e-01, 9.57214985e-02,\n",
       "       1.25553439e-01, 1.63993943e-01, 1.63939384e-01, 1.46955535e-02,\n",
       "       0.00000000e+00, 3.28484341e-01, 9.53040525e-02, 6.71553615e-02,\n",
       "       1.53170698e-01, 1.33436574e-01, 1.10720903e-01, 1.01757071e-01,\n",
       "       3.69481701e-02, 6.02964266e-01, 2.85253791e-01, 1.07419156e-01,\n",
       "       1.36242570e-01, 1.23377400e-01, 1.02604811e-01, 2.93785881e-02,\n",
       "       8.15482756e-02, 3.75019087e-01, 3.42339177e-01, 1.28030333e-01,\n",
       "       9.35252996e-02, 1.10197156e-01, 6.46625093e-02, 8.01229854e-02,\n",
       "       9.33659302e-02, 8.88601039e-02, 1.00620494e-01, 1.36715024e-01,\n",
       "       1.21824334e-01, 1.31657781e-01, 1.56321371e-01, 1.02344703e-01,\n",
       "       0.00000000e+00, 1.54420876e-01, 5.60528316e-02, 1.07539675e-01,\n",
       "       1.15599946e-01, 8.68183627e-02, 1.14709669e-01, 1.90045100e-01,\n",
       "       1.97688121e-01, 2.68675314e-01, 1.64418130e-01, 0.00000000e+00,\n",
       "       0.00000000e+00, 8.95199637e-02, 1.11580086e-01, 6.27876418e-02,\n",
       "       8.53971352e-02, 1.64006764e-01, 1.81254944e-01, 2.15820768e-01,\n",
       "       2.85486340e-01, 0.00000000e+00, 4.97305934e-04, 2.86064273e-01,\n",
       "       1.39059596e-01, 8.83636818e-02, 0.00000000e+00, 3.85621625e-01,\n",
       "       2.47958194e-01, 2.03440010e-01, 1.71669776e-01, 1.76642262e-01,\n",
       "       1.20354529e-01, 9.59551643e-02, 6.88595707e-04, 7.84805305e-02,\n",
       "       2.66774135e-01, 2.77805392e-01, 0.00000000e+00, 3.17350796e-01,\n",
       "       2.29675878e-01, 2.23309551e-01, 1.50736560e-01, 4.11897186e-02,\n",
       "       7.23369064e-03, 1.95393567e-02, 1.28498614e-01, 1.19929505e-01,\n",
       "       5.54767604e-02, 1.04440919e-01, 2.03991203e-01, 1.42338545e-01,\n",
       "       9.38252616e-02, 6.21074594e-02, 1.47585834e-01, 3.50680436e-02,\n",
       "       1.29975361e-02, 7.12807884e-02, 8.22654812e-02, 7.33293258e-02,\n",
       "       1.24096431e-01, 1.46301346e-01, 1.32870162e-01, 1.41368908e-01,\n",
       "       1.30210848e-01, 1.46388417e-01, 1.21608166e-01, 0.00000000e+00,\n",
       "       8.37919911e-02, 9.21179899e-03, 1.01191092e-01, 1.40272878e-01,\n",
       "       1.43012001e-01, 0.00000000e+00, 2.06405353e-01, 0.00000000e+00,\n",
       "       0.00000000e+00, 8.23131331e-02, 2.81543638e-02, 9.11306456e-02,\n",
       "       1.78500482e-01, 1.68842579e-01, 4.36472688e-02, 1.36338847e-01,\n",
       "       7.53898655e-03, 7.12099562e-03, 6.63239229e-02, 4.01754117e-02,\n",
       "       2.03299503e-01, 2.30635273e-01, 4.41922898e-02, 8.22296388e-02,\n",
       "       7.45910932e-02, 6.64903636e-03, 9.35327657e-02, 1.13981435e-01,\n",
       "       1.24141892e-01, 1.46237035e-01, 1.47942314e-01, 1.08950050e-01,\n",
       "       2.63482923e-03, 5.70328705e-03, 1.78544895e-01, 8.00547614e-03,\n",
       "       1.40064392e-01, 1.36976760e-01, 1.23501161e-01, 1.31185106e-01,\n",
       "       1.60032415e-01, 1.85893174e-01, 2.36327496e-01, 5.27090145e-02,\n",
       "       3.98366654e-01, 1.67908684e-01, 7.73920897e-02, 1.19171028e-01,\n",
       "       1.84923668e-01, 1.34106413e-01, 1.91107145e-01, 2.00782115e-01,\n",
       "       1.00902640e-01, 8.29329209e-02, 3.34252098e-01, 1.48029168e-01,\n",
       "       7.40384844e-02, 1.28305696e-01, 1.42751721e-01, 1.00676678e-01,\n",
       "       1.75439093e-01, 1.15931607e-01, 1.24293143e-01, 1.44817797e-01,\n",
       "       1.41490918e-01, 1.66043434e-01, 2.08965171e-01, 1.30480659e-01,\n",
       "       1.30521301e-01, 7.75196528e-02, 8.42316392e-02, 1.21887707e-01,\n",
       "       1.29582209e-01, 9.89183329e-02, 9.50310256e-02, 1.18991598e-01,\n",
       "       1.52381288e-01, 1.85920548e-01, 1.44472405e-01, 2.44580210e-02,\n",
       "       6.25340455e-02, 1.64050719e-01, 9.70161168e-02, 1.05584291e-01,\n",
       "       1.11097743e-01, 1.52912642e-01, 1.78650158e-01, 2.74845277e-01,\n",
       "       0.00000000e+00, 1.99466956e-01, 4.16646654e-02, 1.88878558e-01,\n",
       "       1.01962497e-01, 1.13054617e-01, 1.06956220e-01, 3.30101464e-01,\n",
       "       3.93665623e-01, 2.99621636e-01, 5.75116282e-02, 2.84161488e-01,\n",
       "       2.14536006e-01, 1.36674497e-01, 9.28722569e-02, 9.82541912e-02,\n",
       "       1.77975571e-01, 1.89130955e-01, 2.05403670e-01, 2.35899266e-01,\n",
       "       1.82919063e-01, 1.18230801e-01, 9.74639487e-02, 1.63350335e-01,\n",
       "       1.64445050e-01, 2.81567630e-01, 1.06678397e-01, 1.23683243e-01,\n",
       "       1.61037332e-01, 1.48830441e-01, 1.70364350e-01, 9.27785505e-02,\n",
       "       1.35383356e-01, 1.85200247e-01, 0.00000000e+00, 1.54074347e-01,\n",
       "       1.59417530e-01, 1.58916509e-01, 1.57036552e-01, 1.26941939e-01,\n",
       "       2.17367963e-01, 1.57824567e-01, 1.22148687e-01, 5.78139727e-02,\n",
       "       0.00000000e+00, 2.45406719e-02, 1.56247843e-01, 1.75042177e-01,\n",
       "       1.61769204e-01, 1.86805758e-01, 1.20396511e-01, 1.65530013e-01,\n",
       "       1.99913766e-01, 1.33072901e-01, 4.55970547e-02, 2.54062520e-03,\n",
       "       7.67766862e-02, 1.92949973e-01, 3.06252565e-01, 3.31344007e-01,\n",
       "       1.96433706e-01, 7.24304758e-03, 7.82121636e-02, 0.00000000e+00,\n",
       "       2.25251050e-01, 6.77635392e-02, 2.94385041e-03, 0.00000000e+00,\n",
       "       2.19948134e-02, 1.43442204e-01, 1.37203445e-01, 1.20486639e-01,\n",
       "       1.16875706e-01, 6.71664646e-03, 0.00000000e+00, 7.00912929e-02,\n",
       "       1.78807462e-01, 1.66261394e-01, 1.46403758e-01, 1.43537821e-01,\n",
       "       8.74092155e-02, 8.08588430e-03, 5.41671872e-01, 1.21749423e-01,\n",
       "       1.45806464e-01, 1.92837349e-01, 1.73547121e-01, 1.71733072e-01,\n",
       "       1.52563235e-01, 2.00738714e-01, 2.32738020e-01, 1.43968813e-01,\n",
       "       1.51844197e-01, 1.47667413e-01, 2.09295464e-01, 1.62095725e-01,\n",
       "       1.99913131e-01, 2.68219325e-01, 1.91515253e-01, 1.48532880e-01,\n",
       "       1.18858633e-01, 1.12464148e-01, 1.38554877e-01, 1.15275480e-01,\n",
       "       7.14051031e-02, 1.82735840e-01, 1.37447448e-01, 1.06694359e-01,\n",
       "       7.27697847e-02, 1.63621731e-01, 5.09710312e-02, 1.12331987e-01,\n",
       "       1.21437636e-01, 1.53753606e-01, 1.48780129e-01, 2.64508604e-01,\n",
       "       2.13984948e-01, 1.32943636e-01, 1.14520520e-01, 1.13712447e-01,\n",
       "       1.30302997e-01, 1.32184359e-01, 9.34176854e-02, 3.38234847e-01,\n",
       "       0.00000000e+00, 0.00000000e+00, 0.00000000e+00, 2.33164899e-01,\n",
       "       2.20494627e-01, 1.29751014e-01, 9.80743067e-02, 1.08163181e-01,\n",
       "       3.57320876e-01, 3.24358596e-01, 2.42140694e-01, 2.63286794e-01,\n",
       "       1.38921582e-01, 7.71743887e-02, 6.96644332e-02, 6.18186749e-02,\n",
       "       1.60187115e-01, 2.13492707e-01, 5.84761359e-02, 2.03885995e-01,\n",
       "       2.18910436e-01, 2.42243831e-01, 1.84828158e-01, 1.15732357e-01,\n",
       "       7.72121911e-02, 7.15756405e-02, 1.14674261e-01, 8.52090309e-02,\n",
       "       2.18807047e-01, 0.00000000e+00, 2.30613248e-01, 2.39795802e-01,\n",
       "       1.89418684e-01, 1.47801561e-01, 2.39049816e-01, 1.08952902e-01,\n",
       "       7.04069011e-03, 2.28131892e-02, 3.81920934e-02, 1.59647246e-01,\n",
       "       1.83146169e-01, 1.76319683e-01, 0.00000000e+00, 2.33649064e-01,\n",
       "       3.61499090e-01, 9.91150486e-01, 1.76461260e-01, 0.00000000e+00,\n",
       "       4.90104427e-02, 2.35207006e-01, 3.33351246e-01, 1.82041877e-01,\n",
       "       6.44942538e-01, 6.36618599e-01, 0.00000000e+00, 7.42657468e-03,\n",
       "       1.38069385e-01, 1.79360151e-01, 8.45293570e-02, 0.00000000e+00,\n",
       "       3.58402330e-02, 0.00000000e+00, 8.24540758e-02, 9.51464540e-02,\n",
       "       3.70911104e-02, 9.50311025e-03, 0.00000000e+00, 0.00000000e+00,\n",
       "       0.00000000e+00, 0.00000000e+00, 0.00000000e+00, 1.17402391e-01,\n",
       "       1.74518731e-01, 1.67018817e-01, 1.35990798e-01, 1.06181412e-01,\n",
       "       5.87502694e-02, 0.00000000e+00, 2.82567796e-01, 1.47670835e-01,\n",
       "       1.85441924e-01, 1.88709966e-01, 1.63637457e-01, 1.27546015e-01,\n",
       "       0.00000000e+00, 1.99431482e-01, 1.53122534e-01, 1.69859145e-01,\n",
       "       1.68659271e-01, 2.10933722e-01, 1.65481021e-03, 1.89476394e-01,\n",
       "       1.14163572e-01, 1.40506873e-01, 9.87246609e-02, 2.11239196e-01,\n",
       "       2.13984908e-01, 1.63861874e-01, 1.96894678e-01, 1.04039626e-01,\n",
       "       1.00008454e-01, 7.82701045e-02, 8.06740378e-02, 8.85116424e-02,\n",
       "       1.30951187e-01, 1.47471127e-01, 2.45719064e-01, 2.02678673e-01,\n",
       "       0.00000000e+00, 3.98608991e-03, 2.02673386e-01, 1.50909969e-01,\n",
       "       1.75643156e-01, 2.69711257e-01, 1.45468249e-01, 1.95591680e-01,\n",
       "       2.61880508e-01, 4.57691880e-02, 1.18418603e-01, 1.51185172e-01,\n",
       "       1.69320624e-01, 2.22916113e-01, 3.44779437e-01, 2.78278453e-01,\n",
       "       2.32470835e-01, 2.01351550e-01, 1.17876052e-01, 1.10229541e-01,\n",
       "       1.26867630e-01, 5.89038950e-02, 1.45905089e-01, 2.02850282e-01,\n",
       "       2.14007175e-01, 4.42333667e-01, 2.16869090e-01, 9.32322341e-02,\n",
       "       9.47443348e-02, 1.38018739e-01, 1.38964730e-01, 1.24277771e-01,\n",
       "       2.36199981e-02, 2.30915622e-01, 4.63239993e-01, 2.31229475e-01,\n",
       "       1.30395483e-01, 1.93156383e-01, 1.72934983e-01, 1.91607562e-01,\n",
       "       2.55480166e-01, 2.24566468e-01, 1.21132833e-01, 4.08416162e-02,\n",
       "       0.00000000e+00, 3.65376994e-02, 1.35960340e-01, 2.07863554e-01,\n",
       "       2.76178567e-01, 2.57438029e-01, 2.44604867e-01, 1.23094123e-01,\n",
       "       5.10579683e-01, 4.05576567e-02, 2.18805608e-01, 7.65072076e-02,\n",
       "       1.38281285e-01, 3.77172293e-01, 2.43548724e-01, 1.48965646e-01,\n",
       "       6.92268142e-03, 0.00000000e+00, 6.48932934e-02, 1.68220816e-01,\n",
       "       2.65357887e-01, 2.18074846e-01, 1.10276911e-01, 1.29864297e-01,\n",
       "       0.00000000e+00, 0.00000000e+00, 4.35996979e-03, 1.34901951e-02,\n",
       "       6.25975004e-03, 2.59846913e-02, 2.94642312e-02, 0.00000000e+00,\n",
       "       4.08141790e-02, 1.73481667e-01, 2.15516302e-01, 1.91994743e-01,\n",
       "       1.41862078e-01, 1.12537472e-01, 1.20283466e-01, 2.08818456e-01,\n",
       "       1.92225130e-01, 1.41233115e-01, 1.98753285e-01, 0.00000000e+00,\n",
       "       0.00000000e+00, 1.39917388e-01, 2.08929978e-01, 1.75910954e-01,\n",
       "       1.84504013e-01, 3.72855278e-02, 5.65174579e-02, 0.00000000e+00,\n",
       "       1.73624646e-01, 1.01054360e-01, 1.51423659e-01, 1.46529674e-01,\n",
       "       9.62151573e-02, 1.93061582e-01, 1.96352563e-01, 1.29201965e-01,\n",
       "       1.45277833e-01, 1.68518124e-01, 1.53894315e-01, 1.17573529e-01,\n",
       "       1.03886825e-01, 1.29508415e-01, 5.80635673e-02, 2.35363518e-01,\n",
       "       2.03227875e-01, 2.10055436e-01, 1.71785328e-01, 2.56615425e-01,\n",
       "       2.50103451e-01, 1.87253383e-01, 0.00000000e+00, 0.00000000e+00,\n",
       "       3.14362006e-01, 7.98744258e-02, 4.50011337e-03, 2.23235124e-01,\n",
       "       2.73652525e-01, 1.91477505e-01, 0.00000000e+00, 9.05192987e-02,\n",
       "       1.70237173e-01, 1.55148486e-01, 1.21289981e-01, 1.92875631e-01,\n",
       "       2.10421964e-01, 7.95493749e-02, 1.56021050e-01, 1.53141388e-01,\n",
       "       1.64243786e-01, 8.89545920e-02, 1.50255273e-01, 2.42356296e-01,\n",
       "       1.29821497e-01, 1.77252539e-01, 7.34573853e-01, 1.46780376e-01,\n",
       "       1.12174730e-01, 1.54849936e-01, 2.70049896e-01, 1.05827839e-01,\n",
       "       6.42182566e-02, 1.88180816e-01, 7.93376361e-03, 6.93270717e-03,\n",
       "       1.69728937e-01, 1.43271253e-01, 3.06177876e-01, 3.00891610e-01,\n",
       "       1.97912101e-01, 1.99643733e-01, 7.06212809e-03, 6.92044147e-03,\n",
       "       1.65778830e-01, 1.82721022e-01, 1.42947464e-01, 2.26954401e-01,\n",
       "       2.16435364e-01, 1.70976434e-01, 0.00000000e+00, 5.39596219e-03,\n",
       "       0.00000000e+00, 0.00000000e+00, 0.00000000e+00, 3.51802693e-03,\n",
       "       7.08657496e-03, 2.51440233e-02, 9.08845959e-02, 1.95797058e-01,\n",
       "       5.40455196e-02, 5.45074815e-02, 9.27388371e-02, 5.13077383e-02,\n",
       "       1.64437917e-01, 1.28018656e-01, 1.85952839e-01, 7.32259280e-03,\n",
       "       1.29925723e-03, 9.05770118e-02, 2.06174335e-01, 1.85253727e-01,\n",
       "       2.02732715e-01, 0.00000000e+00, 0.00000000e+00, 2.39052095e-01,\n",
       "       1.46834974e-01, 1.60755646e-01, 2.18950991e-01, 2.55983671e-03,\n",
       "       6.15865374e-02, 1.37794715e-01, 2.16477736e-01, 2.64217480e-01,\n",
       "       2.11668909e-03, 7.18078001e-03, 2.12227531e-01, 1.61732750e-01,\n",
       "       1.64482417e-01, 1.17119875e-01, 1.23786572e-01, 1.59313115e-01,\n",
       "       1.31864317e-01, 1.12731523e-01, 2.10103100e-01, 1.61408985e-01,\n",
       "       1.68514163e-01, 1.22898582e-01, 2.49801245e-01, 2.70786996e-01,\n",
       "       2.17869765e-01, 2.34799005e-01, 0.00000000e+00, 2.06061280e-01,\n",
       "       2.21055280e-01, 1.93348358e-01, 2.83339918e-01, 2.32672043e-01,\n",
       "       8.53843378e-02, 2.31668983e-02, 2.24682081e-01, 0.00000000e+00,\n",
       "       6.73699761e-02, 1.25990013e-01, 1.56515563e-01, 0.00000000e+00,\n",
       "       2.35198698e-01, 1.55413849e-01, 2.45204186e-01, 1.30344051e-01,\n",
       "       1.35296677e-01, 1.23354954e-01, 3.30208669e-01, 1.77907920e-01,\n",
       "       2.18663977e-01, 2.19667842e-01, 0.00000000e+00, 3.76627084e-01,\n",
       "       2.61213524e-01, 1.95032480e-01, 1.72374542e-01, 2.85565416e-01,\n",
       "       3.53214782e-01, 1.47629860e-01, 0.00000000e+00, 6.68878492e-03,\n",
       "       0.00000000e+00, 1.69104131e-01, 1.97678847e-01, 1.92507202e-01,\n",
       "       1.60734698e-01, 3.99147952e-02, 2.30025959e-01, 8.07134916e-02,\n",
       "       2.73650444e-02, 0.00000000e+00, 0.00000000e+00, 0.00000000e+00,\n",
       "       0.00000000e+00, 0.00000000e+00, 6.75723921e-03, 6.39284893e-02,\n",
       "       1.50963973e-01, 0.00000000e+00, 1.76045485e-01, 0.00000000e+00,\n",
       "       0.00000000e+00, 2.68719947e-04, 3.06669891e-03, 7.00913265e-03,\n",
       "       7.72650736e-02, 1.38089210e-01, 1.70627507e-01, 1.86138269e-01,\n",
       "       1.94312399e-01, 4.20411800e-02, 0.00000000e+00, 1.23891035e-01,\n",
       "       1.40184668e-01, 2.37805907e-01, 1.57656207e-03, 0.00000000e+00,\n",
       "       1.73746847e-01, 1.37146843e-01, 2.83193492e-01, 2.87296661e-01,\n",
       "       3.90597271e-02, 3.15161667e-02, 2.22566709e-01, 2.85350334e-01,\n",
       "       1.52920189e-01, 1.20895204e-01, 6.45728525e-02, 1.71005333e-01,\n",
       "       1.66848102e-01, 1.64546459e-01, 1.76223526e-01, 2.83204136e-01,\n",
       "       2.81894747e-02, 8.33473967e-02, 1.64693711e-01, 1.70790693e-01,\n",
       "       2.53008497e-01, 2.59018192e-01, 2.42390682e-01, 2.43952667e-01,\n",
       "       1.67684427e-01, 1.22855160e-01, 2.45309183e-02, 3.07495463e-01,\n",
       "       3.45456855e-01, 0.00000000e+00, 1.26481405e-01, 1.11482822e-01,\n",
       "       2.17463159e-01, 1.33624614e-01, 8.36948876e-02, 1.37744815e-01,\n",
       "       1.56423867e-01, 1.44873594e-01, 2.20642948e-01, 1.12483775e-01,\n",
       "       2.64160843e-01, 2.13331867e-01, 1.89941710e-01, 3.09947925e-01,\n",
       "       1.49209438e-01, 1.60252231e-01, 0.00000000e+00, 7.14845328e-01,\n",
       "       3.16640574e-01, 2.41527993e-01, 2.19823429e-01, 2.32610678e-01,\n",
       "       2.42864528e-01])"
      ]
     },
     "execution_count": 4,
     "metadata": {},
     "output_type": "execute_result"
    }
   ],
   "source": [
    "E_list_uterus = np.load('data/E_list_uterus.npy')\n",
    "\n",
    "Fp_list_uterus = np.load('data/Fp_list_uterus.npy')\n",
    "\n",
    "vp_list_uterus = np.load('data/vp_list_uterus.npy')\n",
    "\n"
   ]
  },
  {
   "cell_type": "code",
   "execution_count": 25,
   "metadata": {},
   "outputs": [],
   "source": [
    "def get_best_distribution(data):\n",
    "    dist_names = [\"norm\", \"exponweib\", \"weibull_max\", \"weibull_min\", \"pareto\", \"genextreme\", \"halfnorm\"]\n",
    "    dist_results = []\n",
    "    params = {}\n",
    "    for dist_name in dist_names:\n",
    "        dist = getattr(st, dist_name)\n",
    "        param = dist.fit(data)\n",
    "\n",
    "        params[dist_name] = param\n",
    "        # Applying the Kolmogorov-Smirnov test\n",
    "        D, p = st.kstest(data, dist_name, args=param)\n",
    "        print(\"p value for \"+dist_name+\" = \"+str(p))\n",
    "        dist_results.append((dist_name, p))\n",
    "\n",
    "    # select the best fitted distribution\n",
    "    best_dist, best_p = (max(dist_results, key=lambda item: item[1]))\n",
    "    # store the name of the best fit and its p value\n",
    "\n",
    "    print(\"Best fitting distribution: \"+str(best_dist))\n",
    "    print(\"Best p value: \"+ str(best_p))\n",
    "    print(\"Parameters for the best fit: \"+ str(params[best_dist]))\n",
    "\n",
    "    return best_dist, best_p, params[best_dist]"
   ]
  },
  {
   "cell_type": "code",
   "execution_count": 46,
   "metadata": {},
   "outputs": [
    {
     "name": "stdout",
     "output_type": "stream",
     "text": [
      "p value for norm = 4.4280421604418845e-07\n",
      "p value for exponweib = 5.068186581424961e-43\n",
      "p value for weibull_max = 1.8908203983161802e-05\n",
      "p value for weibull_min = 1.1976566436805731e-11\n",
      "p value for pareto = 9.994804397938391e-29\n",
      "p value for genextreme = 1.883160947680226e-05\n",
      "p value for halfnorm = 2.2656548070344783e-08\n",
      "Best fitting distribution: weibull_max\n",
      "Best p value: 1.8908203983161802e-05\n",
      "Parameters for the best fit: (7688.847480902937, 611.301464541747, 611.2105306280209)\n"
     ]
    },
    {
     "name": "stderr",
     "output_type": "stream",
     "text": [
      "/usr/lib/python3/dist-packages/scipy/stats/_distn_infrastructure.py:2381: RuntimeWarning: invalid value encountered in double_scalars\n",
      "  Lhat = muhat - Shat*mu\n"
     ]
    }
   ],
   "source": [
    "best_dist, best_p, params = get_best_distribution(E_list_uterus)\n",
    "\n"
   ]
  },
  {
   "cell_type": "code",
   "execution_count": 50,
   "metadata": {},
   "outputs": [
    {
     "data": {
      "image/png": "[encoded data removed]",
      "text/plain": [
       "<Figure size 432x288 with 1 Axes>"
      ]
     },
     "metadata": {
      "needs_background": "light"
     },
     "output_type": "display_data"
    },
    {
     "data": {
      "text/plain": [
       "<Figure size 432x288 with 0 Axes>"
      ]
     },
     "metadata": {},
     "output_type": "display_data"
    }
   ],
   "source": [
    "\n",
    "c, loc, scale =  params\n",
    "gen_data = st.weibull_max.rvs(c, loc, scale, size=E_list_uterus.shape[0])\n",
    "\n",
    "plt.hist(gen_data, bins = 1000, label='generated')\n",
    "plt.hist(E_list_uterus, bins = 1000, label = 'true')\n",
    "plt.xlabel('E')\n",
    "plt.ylabel('Count')\n",
    "plt.xlim(0,1)\n",
    "plt.ylim(0,10)\n",
    "\n",
    "plt.show()\n",
    "plt.clf()"
   ]
  },
  {
   "cell_type": "code",
   "execution_count": 51,
   "metadata": {},
   "outputs": [
    {
     "name": "stdout",
     "output_type": "stream",
     "text": [
      "p value for norm = 6.171379944303095e-19\n"
     ]
    },
    {
     "name": "stderr",
     "output_type": "stream",
     "text": [
      "/usr/lib/python3/dist-packages/scipy/stats/_continuous_distns.py:1468: RuntimeWarning: invalid value encountered in add\n",
      "  logp = (np.log(a) + np.log(c) + sc.xlogy(a - 1.0, exm1c) +\n"
     ]
    },
    {
     "name": "stdout",
     "output_type": "stream",
     "text": [
      "p value for exponweib = 2.3017200714191543e-176\n",
      "p value for weibull_max = 6.419464277436174e-06\n",
      "p value for weibull_min = 4.5647456059989e-310\n",
      "p value for pareto = 0.02821089826641951\n",
      "p value for genextreme = 0.02254684248589588\n",
      "p value for halfnorm = 3.439194826985523e-12\n",
      "Best fitting distribution: pareto\n",
      "Best p value: 0.02821089826641951\n",
      "Parameters for the best fit: (3.8227816780555406, -0.02062317879656861, 0.020623278140069902)\n"
     ]
    }
   ],
   "source": [
    "best_dist, best_p, params = get_best_distribution(Fp_list_uterus)\n",
    "\n"
   ]
  },
  {
   "cell_type": "code",
   "execution_count": 57,
   "metadata": {},
   "outputs": [
    {
     "name": "stdout",
     "output_type": "stream",
     "text": [
      "905 905\n"
     ]
    },
    {
     "data": {
      "image/png": "[encoded data removed]",
      "text/plain": [
       "<Figure size 432x288 with 1 Axes>"
      ]
     },
     "metadata": {
      "needs_background": "light"
     },
     "output_type": "display_data"
    },
    {
     "data": {
      "text/plain": [
       "<Figure size 432x288 with 0 Axes>"
      ]
     },
     "metadata": {},
     "output_type": "display_data"
    }
   ],
   "source": [
    "\n",
    "c, loc, scale =  params\n",
    "gen_dataFp = st.pareto.rvs(c, loc, scale, size=Fp_list_uterus.shape[0])\n",
    "print(gen_data.size, Fp_list_uterus.size)\n",
    "plt.hist(Fp_list_uterus, alpha = 0.9, bins = 1000, label = 'true')\n",
    "plt.hist(gen_dataFp, bins = 1000, alpha=0.5, label='generated')\n",
    "plt.legend(loc='upper right')\n",
    "plt.xlim(0,0.05)\n",
    "plt.xlabel('Fp')\n",
    "plt.ylabel('Count')\n",
    "\n",
    "\n",
    "\n",
    "plt.show()\n",
    "plt.clf()\n",
    "\n"
   ]
  },
  {
   "cell_type": "code",
   "execution_count": 68,
   "metadata": {},
   "outputs": [
    {
     "name": "stdout",
     "output_type": "stream",
     "text": [
      "645\n",
      "p value for norm = 1.6611684693371523e-07\n",
      "p value for exponweib = 1.0973250724938875e-97\n",
      "p value for weibull_max = 0.0010547123332707664\n",
      "p value for weibull_min = 3.6948179644828657e-06\n",
      "p value for pareto = 2.983862928670769e-06\n",
      "p value for genextreme = 0.0004979011042653114\n",
      "p value for halfnorm = 1.4598328582009634e-07\n",
      "Best fitting distribution: weibull_max\n",
      "Best p value: 0.0010547123332707664\n",
      "Parameters for the best fit: (29572479.030125827, 6450136.935704315, 6450136.715197781)\n"
     ]
    }
   ],
   "source": [
    "vp_list_uterus_noend = vp_list_uterus[vp_list_uterus <= 0.97]\n",
    "print(vp_list_uterus_noend.size)\n",
    "best_dist, best_p, params = get_best_distribution(vp_list_uterus_noend)\n"
   ]
  },
  {
   "cell_type": "code",
   "execution_count": 77,
   "metadata": {},
   "outputs": [
    {
     "name": "stdout",
     "output_type": "stream",
     "text": [
      "(905,)\n"
     ]
    },
    {
     "data": {
      "image/png": "[encoded data removed]",
      "text/plain": [
       "<Figure size 432x288 with 1 Axes>"
      ]
     },
     "metadata": {
      "needs_background": "light"
     },
     "output_type": "display_data"
    },
    {
     "data": {
      "text/plain": [
       "<Figure size 432x288 with 0 Axes>"
      ]
     },
     "metadata": {},
     "output_type": "display_data"
    }
   ],
   "source": [
    "def vp_distrubition(num):\n",
    "    params = (29572479.030125827, 6450136.935704315, 6450136.715197781)\n",
    "    p = 0.287\n",
    "    endnum = int(p*num)\n",
    "    end = np.random.uniform(low = 0.97, high= 1.0, size = endnum)\n",
    "    \n",
    "    dist_num = num - endnum\n",
    "    gen_data_vp = st.weibull_max.rvs(params[0], params[1], params[2], size=dist_num)\n",
    "    gen_data_vp = np.array(gen_data_vp)\n",
    "    \n",
    "    true_dist = np.concatenate((gen_data_vp, end), axis=None)\n",
    "    print(true_dist.shape)\n",
    "    \n",
    "    \n",
    "    return true_dist\n",
    "\n",
    "\n",
    "\n",
    "\n",
    "true_dist = vp_distrubition(vp_list_uterus.size)\n",
    "\n",
    "plt.hist(true_dist, bins = 100, )\n",
    "plt.hist(vp_list_uterus, bins = 100)\n",
    "plt.xlabel('vp')\n",
    "plt.ylabel('Count')\n",
    "plt.show()\n",
    "plt.clf()"
   ]
  },
  {
   "cell_type": "code",
   "execution_count": null,
   "metadata": {},
   "outputs": [],
   "source": []
  }
 ],
 "metadata": {
  "kernelspec": {
   "display_name": "Python 3",
   "language": "python",
   "name": "python3"
  },
  "language_info": {
   "codemirror_mode": {
    "name": "ipython",
    "version": 3
   },
   "file_extension": ".py",
   "mimetype": "text/x-python",
   "name": "python",
   "nbconvert_exporter": "python",
   "pygments_lexer": "ipython3",
   "version": "3.8.10"
  }
 },
 "nbformat": 4,
 "nbformat_minor": 4
}
