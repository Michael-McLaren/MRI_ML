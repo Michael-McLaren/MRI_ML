{
 "cells": [
  {
   "cell_type": "code",
   "execution_count": 3,
   "metadata": {},
   "outputs": [],
   "source": [
    "import torch\n",
    "import torch.nn as nn\n",
    "import torch.optim as optim\n",
    "import torch.utils.data as Data\n",
    "import torch.nn.functional as F\n",
    "\n",
    "from torch.autograd import Variable\n",
    "from torchvision import datasets, transforms\n",
    "\n",
    "import numpy as np\n",
    "import matplotlib.pyplot as plt\n",
    "import scipy.stats as st\n",
    "\n",
    "from tkmodel.TwoCUM_copy import TwoCUMfittingConc\n",
    "from tkmodel.TwoCUM_copy import TwoCUM"
   ]
  },
  {
   "cell_type": "code",
   "execution_count": 4,
   "metadata": {},
   "outputs": [],
   "source": [
    "E_list_uterus = np.load('data/E_list_uterus.npy')\n",
    "\n",
    "Fp_list_uterus = np.load('data/Fp_list_uterus.npy')\n",
    "\n",
    "vp_list_uterus = np.load('data/vp_list_uterus.npy')\n",
    "\n"
   ]
  },
  {
   "cell_type": "code",
   "execution_count": 5,
   "metadata": {},
   "outputs": [],
   "source": [
    "def get_best_distribution(data):\n",
    "    dist_names = [\"norm\", \"exponweib\", \"weibull_max\", \"weibull_min\", \"pareto\", \"genextreme\", \"halfnorm\"]\n",
    "    dist_results = []\n",
    "    params = {}\n",
    "    for dist_name in dist_names:\n",
    "        dist = getattr(st, dist_name)\n",
    "        param = dist.fit(data)\n",
    "\n",
    "        params[dist_name] = param\n",
    "        # Applying the Kolmogorov-Smirnov test\n",
    "        D, p = st.kstest(data, dist_name, args=param)\n",
    "        print(\"p value for \"+dist_name+\" = \"+str(p))\n",
    "        dist_results.append((dist_name, p))\n",
    "\n",
    "    # select the best fitted distribution\n",
    "    best_dist, best_p = (max(dist_results, key=lambda item: item[1]))\n",
    "    # store the name of the best fit and its p value\n",
    "\n",
    "    print(\"Best fitting distribution: \"+str(best_dist))\n",
    "    print(\"Best p value: \"+ str(best_p))\n",
    "    print(\"Parameters for the best fit: \"+ str(params[best_dist]))\n",
    "\n",
    "    return best_dist, best_p, params[best_dist]"
   ]
  },
  {
   "cell_type": "code",
   "execution_count": 56,
   "metadata": {},
   "outputs": [
    {
     "name": "stdout",
     "output_type": "stream",
     "text": [
      "905\n",
      "85\n",
      "0.09392265193370165\n",
      "1\n",
      "0.0011049723756906078\n",
      "p value for norm = 4.0590787134284194e-05\n",
      "p value for exponweib = 0.012444182595649259\n",
      "p value for weibull_max = 3.500895592276253e-07\n",
      "p value for weibull_min = 3.3025901126512923e-05\n",
      "p value for pareto = 4.743509077861746e-35\n",
      "p value for genextreme = 0.007720600168214746\n",
      "p value for halfnorm = 1.6492214427723222e-15\n",
      "Best fitting distribution: exponweib\n",
      "Best p value: 0.012444182595649259\n",
      "Parameters for the best fit: (69.70266807226483, 1.0792465008741048, -0.23357477054649745, 0.08955766184221467)\n"
     ]
    }
   ],
   "source": [
    "print(E_list_uterus.size)\n",
    "print(E_list_uterus[E_list_uterus < 0.001].size)\n",
    "print(E_list_uterus[E_list_uterus < 0.001].size/E_list_uterus.size)\n",
    "\n",
    "\n",
    "\n",
    "\n",
    "\n",
    "best_dist, best_p, params = get_best_distribution(E_list_uterus[E_list_uterus > 0.001])\n",
    "\n"
   ]
  },
  {
   "cell_type": "code",
   "execution_count": 66,
   "metadata": {},
   "outputs": [
    {
     "name": "stdout",
     "output_type": "stream",
     "text": [
      "905 905\n"
     ]
    },
    {
     "data": {
      "image/png": "[encoded data removed]",
      "text/plain": [
       "<Figure size 432x288 with 1 Axes>"
      ]
     },
     "metadata": {
      "needs_background": "light"
     },
     "output_type": "display_data"
    },
    {
     "data": {
      "image/png": "[encoded data removed]",
      "text/plain": [
       "<Figure size 432x288 with 1 Axes>"
      ]
     },
     "metadata": {
      "needs_background": "light"
     },
     "output_type": "display_data"
    },
    {
     "data": {
      "text/plain": [
       "<Figure size 432x288 with 0 Axes>"
      ]
     },
     "metadata": {},
     "output_type": "display_data"
    }
   ],
   "source": [
    "\n",
    "def E_distribution(num):\n",
    "    p = 0.09392265193370165\n",
    "    params = (69.70266807226483, 1.0792465008741048, -0.23357477054649745, 0.08955766184221467)\n",
    "    start_nums = int(p*num)\n",
    "    \n",
    "    start = np.random.uniform(low = 0, high= 0.001, size = start_nums)\n",
    "    \n",
    "    dist_num = num - start_nums\n",
    "    gen_data_Fp = st.exponweib.rvs(params[0], params[1], params[2], params[3], size=dist_num)\n",
    "    gen_data_Fp = np.array(gen_data_Fp)\n",
    "    \n",
    "    true_dist = np.concatenate((start, gen_data_Fp), axis=None)\n",
    "    \n",
    "    true_dist[true_dist < 0] = 0.0001\n",
    "\n",
    "    \n",
    "    \n",
    "    return true_dist\n",
    "\n",
    "gen_data = E_distribution(E_list_uterus.size)\n",
    "print(gen_data.size, E_list_uterus.size)\n",
    "\n",
    "plt.hist(gen_data, bins = 100, label='generated', alpha = 0.5, range=[0, 1])\n",
    "plt.hist(E_list_uterus, bins = 100, label = 'true', alpha = 0.5, range=[0, 1])\n",
    "plt.xlabel('E')\n",
    "plt.ylabel('Count')\n",
    "plt.legend()\n",
    "plt.show()\n",
    "plt.clf()\n",
    "\n",
    "params = (69.70266807226483, 1.0792465008741048, -0.23357477054649745, 0.08955766184221467)\n",
    "a, c, loc, scale = params\n",
    "x = np.linspace(0,1)\n",
    "plt.plot(x, st.exponweib.pdf(x, params[0], params[1], params[2], params[3]))\n",
    "plt.show()\n",
    "plt.clf()\n"
   ]
  },
  {
   "cell_type": "code",
   "execution_count": 59,
   "metadata": {},
   "outputs": [
    {
     "name": "stdout",
     "output_type": "stream",
     "text": [
      "0.11823204419889503\n",
      "905\n",
      "p value for norm = 5.749549199044708e-17\n",
      "p value for exponweib = 4.008132593902139e-160\n"
     ]
    },
    {
     "name": "stderr",
     "output_type": "stream",
     "text": [
      "/usr/lib/python3/dist-packages/scipy/stats/_continuous_distns.py:1468: RuntimeWarning: invalid value encountered in add\n",
      "  logp = (np.log(a) + np.log(c) + sc.xlogy(a - 1.0, exm1c) +\n",
      "/usr/lib/python3/dist-packages/scipy/stats/_distn_infrastructure.py:2381: RuntimeWarning: invalid value encountered in double_scalars\n",
      "  Lhat = muhat - Shat*mu\n"
     ]
    },
    {
     "name": "stdout",
     "output_type": "stream",
     "text": [
      "p value for weibull_max = 7.043682252498724e-05\n",
      "p value for weibull_min = 0.34570163904102996\n",
      "p value for pareto = 0.006451021604739724\n",
      "p value for genextreme = 0.06719842670328242\n",
      "p value for halfnorm = 5.541026805877096e-10\n",
      "Best fitting distribution: weibull_min\n",
      "Best p value: 0.34570163904102996\n",
      "Parameters for the best fit: (1.064799958220838, 0.0005001496965058328, 0.007151833882619035)\n"
     ]
    }
   ],
   "source": [
    "print(Fp_list_uterus[Fp_list_uterus < 0.0005].size/Fp_list_uterus.size)\n",
    "print(Fp_list_uterus.size)\n",
    "\n",
    "\n",
    "best_dist, best_p, params = get_best_distribution(Fp_list_uterus[Fp_list_uterus > 0.0005])\n",
    "\n"
   ]
  },
  {
   "cell_type": "code",
   "execution_count": 26,
   "metadata": {},
   "outputs": [
    {
     "name": "stdout",
     "output_type": "stream",
     "text": [
      "(905,)\n",
      "905 905\n"
     ]
    },
    {
     "data": {
      "image/png": "[encoded data removed]",
      "text/plain": [
       "<Figure size 432x288 with 1 Axes>"
      ]
     },
     "metadata": {
      "needs_background": "light"
     },
     "output_type": "display_data"
    },
    {
     "data": {
      "text/plain": [
       "<Figure size 432x288 with 0 Axes>"
      ]
     },
     "metadata": {},
     "output_type": "display_data"
    }
   ],
   "source": [
    "\n",
    "c, loc, scale =  params\n",
    "\n",
    "def Fp_distribution(num):\n",
    "    p = 0.1182\n",
    "    params = (1.064799958220838, 0.0005001496965058328, 0.007151833882619035)\n",
    "    start_nums = int(p*num)\n",
    "    \n",
    "    start = np.random.uniform(low = 0, high= 0.0005, size = start_nums)\n",
    "    \n",
    "    dist_num = num - start_nums\n",
    "    gen_data_Fp = st.weibull_min.rvs(params[0], params[1], params[2], size=dist_num)\n",
    "    gen_data_Fp = np.array(gen_data_Fp)\n",
    "    \n",
    "    true_dist = np.concatenate((gen_data_Fp, start), axis=None)\n",
    "    print(true_dist.shape)\n",
    "    #true_dist[true_dist > 1] = 0.99\n",
    "\n",
    "    \n",
    "    \n",
    "    return true_dist\n",
    "    \n",
    "    \n",
    "gen_dataFp = Fp_distribution(Fp_list_uterus.size)\n",
    "print(gen_data.size, Fp_list_uterus.size)\n",
    "plt.hist(Fp_list_uterus, alpha = 0.9, bins = 100, label = 'true')\n",
    "plt.hist(gen_dataFp, bins = 100, alpha=0.5, label='generated')\n",
    "plt.legend(loc='upper right')\n",
    "plt.xlabel('Fp')\n",
    "plt.ylabel('Count')\n",
    "\n",
    "plt.show()\n",
    "plt.clf()\n",
    "\n",
    "\n",
    "\n"
   ]
  },
  {
   "cell_type": "code",
   "execution_count": 68,
   "metadata": {},
   "outputs": [
    {
     "name": "stdout",
     "output_type": "stream",
     "text": [
      "645\n",
      "p value for norm = 1.6611684693371523e-07\n",
      "p value for exponweib = 1.0973250724938875e-97\n",
      "p value for weibull_max = 0.0010547123332707664\n",
      "p value for weibull_min = 3.6948179644828657e-06\n",
      "p value for pareto = 2.983862928670769e-06\n",
      "p value for genextreme = 0.0004979011042653114\n",
      "p value for halfnorm = 1.4598328582009634e-07\n",
      "Best fitting distribution: weibull_max\n",
      "Best p value: 0.0010547123332707664\n",
      "Parameters for the best fit: (29572479.030125827, 6450136.935704315, 6450136.715197781)\n"
     ]
    }
   ],
   "source": [
    "vp_list_uterus_noend = vp_list_uterus[vp_list_uterus <= 0.97]\n",
    "print(vp_list_uterus_noend.size)\n",
    "best_dist, best_p, params = get_best_distribution(vp_list_uterus_noend)\n"
   ]
  },
  {
   "cell_type": "code",
   "execution_count": 84,
   "metadata": {},
   "outputs": [
    {
     "name": "stdout",
     "output_type": "stream",
     "text": [
      "(905,)\n"
     ]
    },
    {
     "data": {
      "image/png": "[encoded data removed]",
      "text/plain": [
       "<Figure size 432x288 with 1 Axes>"
      ]
     },
     "metadata": {
      "needs_background": "light"
     },
     "output_type": "display_data"
    },
    {
     "data": {
      "text/plain": [
       "<Figure size 432x288 with 0 Axes>"
      ]
     },
     "metadata": {},
     "output_type": "display_data"
    }
   ],
   "source": [
    "def vp_distrubition(num):\n",
    "    params = (29572479.030125827, 6450136.935704315, 6450136.715197781)\n",
    "    p = 0.287\n",
    "    endnum = int(p*num)\n",
    "    end = np.random.uniform(low = 0.97, high= 1.0, size = endnum)\n",
    "    \n",
    "    dist_num = num - endnum\n",
    "    gen_data_vp = st.weibull_max.rvs(params[0], params[1], params[2], size=dist_num)\n",
    "    gen_data_vp = np.array(gen_data_vp)\n",
    "    \n",
    "    true_dist = np.concatenate((gen_data_vp, end), axis=None)\n",
    "    print(true_dist.shape)\n",
    "    true_dist[true_dist > 1] = 0.99\n",
    "    true_dist[true_dist < 0] = 0.01\n",
    "\n",
    "    \n",
    "    \n",
    "    return true_dist\n",
    "\n",
    "\n",
    "\n",
    "\n",
    "dist = vp_distrubition(vp_list_uterus.size)\n",
    "\n",
    "plt.hist(dist,alpha = 0.5, bins = 100, label = 'gen')\n",
    "plt.hist(vp_list_uterus,alpha = 0.5, bins = 100, label = 'true')\n",
    "plt.xlabel('vp')\n",
    "plt.ylabel('Count')\n",
    "plt.legend()\n",
    "plt.show()\n",
    "plt.clf()"
   ]
  },
  {
   "cell_type": "code",
   "execution_count": null,
   "metadata": {},
   "outputs": [],
   "source": []
  }
 ],
 "metadata": {
  "kernelspec": {
   "display_name": "Python 3",
   "language": "python",
   "name": "python3"
  },
  "language_info": {
   "codemirror_mode": {
    "name": "ipython",
    "version": 3
   },
   "file_extension": ".py",
   "mimetype": "text/x-python",
   "name": "python",
   "nbconvert_exporter": "python",
   "pygments_lexer": "ipython3",
   "version": "3.8.10"
  }
 },
 "nbformat": 4,
 "nbformat_minor": 4
}
