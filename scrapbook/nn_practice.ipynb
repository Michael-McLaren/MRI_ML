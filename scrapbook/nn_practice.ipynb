{
 "cells": [
  {
   "cell_type": "code",
   "execution_count": 2,
   "id": "ce80bf56",
   "metadata": {},
   "outputs": [],
   "source": [
    "import torch\n",
    "import numpy as np\n",
    "from IPython.core.debugger import set_trace\n",
    "import imageio\n",
    "import matplotlib.pyplot as plt\n",
    "import torch.nn as nn\n",
    "import torch.optim as optim\n"
   ]
  },
  {
   "cell_type": "code",
   "execution_count": 2,
   "id": "94c9cae9",
   "metadata": {},
   "outputs": [],
   "source": [
    "tc = [0.5, 14.0, 15.0, 28.0, 11.0, 8.0, 3.0, -4.0, 6.0, 13.0, 21.0]\n",
    "tu = [35.7, 55.9, 58.2, 81.9, 56.3, 48.9, 33.9, 21.8, 48.4, 60.4, 68.4]\n",
    "tc = torch.tensor(tc)\n",
    "tu = 0.1*torch.tensor(tu)\n",
    "\n",
    "n_samples = tu.shape[0]\n",
    "n_val = int(0.2*n_samples)\n",
    "shuffled_indices = torch.randperm(n_samples)\n",
    "train_indices = shuffled_indices[:-n_val]\n",
    "val_indices = shuffled_indices[-n_val:]\n",
    "\n",
    "tc_val, tc_train = tc[val_indices], tc[train_indices]\n",
    "tu_val, tu_train = tu[val_indices], tu[train_indices]\n"
   ]
  },
  {
   "cell_type": "code",
   "execution_count": 3,
   "id": "84b270cd",
   "metadata": {},
   "outputs": [
    {
     "data": {
      "text/plain": [
       "(torch.Size([9, 1]),\n",
       " torch.Size([9, 1]),\n",
       " torch.Size([2, 1]),\n",
       " torch.Size([2, 1]))"
      ]
     },
     "execution_count": 3,
     "metadata": {},
     "output_type": "execute_result"
    }
   ],
   "source": [
    "tu_train.unsqueeze_(-1)\n",
    "tc_train.unsqueeze_(-1)\n",
    "tu_val.unsqueeze_(-1)\n",
    "tc_val.unsqueeze_(-1)\n",
    "tu_train.shape,  tc_train.shape, tu_val.shape, tc_val.shape"
   ]
  },
  {
   "cell_type": "code",
   "execution_count": 4,
   "id": "5e137ea9",
   "metadata": {},
   "outputs": [],
   "source": [
    "def training_loop(n_epochs, optimizer, model, loss_fn, t_u_train, t_u_val, t_c_train, t_c_val):\n",
    "    for epoch in range(1, n_epochs + 1):\n",
    "        t_p_train = model(t_u_train)\n",
    "        loss_train = loss_fn(t_p_train, t_c_train)\n",
    "        t_p_val = model(t_u_val)\n",
    "\n",
    "        loss_val = loss_fn(t_p_val, t_c_val)\n",
    "        optimizer.zero_grad()\n",
    "        loss_train.backward()\n",
    "        optimizer.step()\n",
    "        if epoch == 1 or epoch % 1000 == 0:\n",
    "            print(f\"Epoch {epoch}, Training loss {loss_train.item():.4f},\"f\" Validation loss {loss_val.item():.4f}\")"
   ]
  },
  {
   "cell_type": "code",
   "execution_count": 5,
   "id": "932c1313",
   "metadata": {},
   "outputs": [
    {
     "name": "stdout",
     "output_type": "stream",
     "text": [
      "Epoch 1, Training loss 210.0435, Validation loss 247.0864\n",
      "Epoch 1000, Training loss 3.6988, Validation loss 2.2569\n",
      "Epoch 2000, Training loss 3.1949, Validation loss 2.2072\n",
      "Epoch 3000, Training loss 3.1869, Validation loss 2.2012\n",
      "Parameter containing:\n",
      "tensor([[5.3077]], requires_grad=True)\n",
      "Parameter containing:\n",
      "tensor([-17.2601], requires_grad=True)\n"
     ]
    },
    {
     "data": {
      "text/plain": [
       "<matplotlib.collections.PathCollection at 0x12f22e1f0>"
      ]
     },
     "execution_count": 5,
     "metadata": {},
     "output_type": "execute_result"
    },
    {
     "data": {
      "image/png": "[encoded data removed]",
      "text/plain": [
       "<Figure size 432x288 with 1 Axes>"
      ]
     },
     "metadata": {
      "needs_background": "light"
     },
     "output_type": "display_data"
    }
   ],
   "source": [
    "linear_model = nn.Linear(1, 1)\n",
    "optimizer = optim.SGD(linear_model.parameters(), lr=1e-2)\n",
    "\n",
    "training_loop(\n",
    "    n_epochs = 3000,\n",
    "    optimizer = optimizer,\n",
    "    model = linear_model,\n",
    "    loss_fn = nn.MSELoss(),\n",
    "    t_u_train = tu_train,\n",
    "    t_u_val = tu_val,\n",
    "    t_c_train = tc_train,\n",
    "    t_c_val = tc_val)\n",
    "\n",
    "print(linear_model.weight)\n",
    "print(linear_model.bias)\n",
    "\n",
    "tp = linear_model(tu_train)\n",
    "\n",
    "tp = tp.detach().numpy()\n",
    "tu_train = tu_train.detach().numpy()\n",
    "tc_train = tc_train.detach().numpy()\n",
    "\n",
    "plt.plot(tu_train, tp)\n",
    "plt.scatter(tu_train, tc_train)"
   ]
  },
  {
   "cell_type": "code",
   "execution_count": 6,
   "id": "64b6125c",
   "metadata": {},
   "outputs": [],
   "source": [
    "from torchvision import datasets"
   ]
  },
  {
   "cell_type": "code",
   "execution_count": 7,
   "id": "f88f15bf",
   "metadata": {},
   "outputs": [
    {
     "name": "stdout",
     "output_type": "stream",
     "text": [
      "Files already downloaded and verified\n",
      "Files already downloaded and verified\n"
     ]
    }
   ],
   "source": [
    "cifar10 = datasets.CIFAR10(root=\"data\", train=True, download=True)\n",
    "cifar10_val = datasets.CIFAR10(root=\"data\", train=False, download=True)\n"
   ]
  },
  {
   "cell_type": "code",
   "execution_count": 8,
   "id": "9c7fd9c4",
   "metadata": {},
   "outputs": [
    {
     "data": {
      "text/plain": [
       "((150,), (192, 192, 30, 150))"
      ]
     },
     "execution_count": 8,
     "metadata": {},
     "output_type": "execute_result"
    }
   ],
   "source": [
    "a = np.load(\"../MRI_other/TK_Modelling/AIF.npy\")\n",
    "b = np.load(\"../MRI_other/TK_Modelling/Example_Conc.npy\")\n",
    "a.shape,b.shape"
   ]
  },
  {
   "cell_type": "code",
   "execution_count": 14,
   "id": "e3a061e6",
   "metadata": {},
   "outputs": [
    {
     "name": "stdout",
     "output_type": "stream",
     "text": [
      "(5,)\n"
     ]
    }
   ],
   "source": [
    "t = np.arange(0,366,2.45)\n",
    "a = np.random.rand(2)\n",
    "a = a.repeat((3,2))\n",
    "print(a.shape)\n"
   ]
  },
  {
   "cell_type": "code",
   "execution_count": 18,
   "id": "0680355b",
   "metadata": {},
   "outputs": [
    {
     "data": {
      "text/plain": [
       "tensor([[[-1.1413e+01,  9.6063e+00, -2.2688e+01,  ...,  5.8269e-01,\n",
       "          -6.5393e+00,  1.1547e+01],\n",
       "         [ 1.2924e+00,  6.6198e+00, -1.6698e+00,  ..., -1.6737e+01,\n",
       "          -1.1616e+01,  2.1790e+00],\n",
       "         [-3.9786e+00,  7.2738e+00, -1.3667e+00,  ..., -5.1236e+00,\n",
       "          -6.6464e+00,  9.6378e-01],\n",
       "         ...,\n",
       "         [ 5.1911e+00, -3.3776e+00, -8.9269e-03,  ..., -1.2931e+01,\n",
       "           3.8133e+00, -1.8415e+01],\n",
       "         [ 1.1356e-01, -3.0851e+00,  1.5154e+01,  ..., -5.8707e+00,\n",
       "          -5.8576e+00,  1.4318e+01],\n",
       "         [ 6.7334e+00, -5.7204e+00, -1.1297e+01,  ...,  4.5323e+00,\n",
       "           2.9903e-01, -8.7881e+00]],\n",
       "\n",
       "        [[-5.1621e-01,  1.2002e+01,  2.1204e+01,  ...,  1.1975e+01,\n",
       "          -1.0445e+01,  1.9311e+01],\n",
       "         [ 5.3616e-01, -4.3754e+00,  3.0060e+00,  ..., -1.2160e+00,\n",
       "          -1.2373e+01,  4.7359e+00],\n",
       "         [-3.8869e+00,  6.8718e+00, -4.8443e+00,  ...,  2.4981e+00,\n",
       "           9.7766e+00,  4.5195e+00],\n",
       "         ...,\n",
       "         [ 2.2587e+00,  7.6199e+00, -2.1433e+00,  ..., -6.2313e-01,\n",
       "           6.8435e+00,  8.1806e+00],\n",
       "         [ 1.6448e+00,  1.2366e+01, -5.9139e+00,  ...,  1.9184e+00,\n",
       "           9.0529e+00,  4.4020e+00],\n",
       "         [ 6.0883e+00, -3.9654e+00,  3.8536e+00,  ...,  2.4663e+00,\n",
       "          -5.6027e+00,  5.9009e+00]],\n",
       "\n",
       "        [[-4.4262e+00,  2.4871e+00,  8.0633e+00,  ...,  6.7073e+00,\n",
       "           1.7165e+00,  2.0405e+01],\n",
       "         [-7.4758e+00, -9.4523e+00,  1.0710e+01,  ..., -7.3069e+00,\n",
       "          -4.8889e+00,  1.1452e+00],\n",
       "         [ 6.6641e+00, -7.2623e+00, -4.7156e+00,  ..., -2.3547e+00,\n",
       "          -5.8595e+00,  1.7799e+01],\n",
       "         ...,\n",
       "         [-5.0554e+00, -7.1704e-01,  6.0019e+00,  ...,  2.3215e+01,\n",
       "           1.5673e+01,  1.3316e+01],\n",
       "         [-3.2223e+00,  2.6948e+00,  8.8904e+00,  ...,  8.5887e+00,\n",
       "           1.0172e+01, -7.5165e+00],\n",
       "         [-6.9240e+00, -2.6707e+00, -4.1128e+00,  ..., -4.8913e+00,\n",
       "          -6.1221e+00, -7.8845e+00]],\n",
       "\n",
       "        ...,\n",
       "\n",
       "        [[-2.0348e+01,  1.8493e+00, -5.1315e-02,  ...,  6.2822e+00,\n",
       "          -1.7483e+00, -1.6283e+01],\n",
       "         [ 4.4800e+00,  7.4937e+00,  6.2801e+00,  ..., -1.3595e+01,\n",
       "          -5.8656e+00,  4.6627e+00],\n",
       "         [ 3.4742e+00, -4.4966e+00,  1.5291e+00,  ...,  2.0987e+01,\n",
       "           1.4056e+00, -1.6054e+00],\n",
       "         ...,\n",
       "         [ 1.8688e+00,  3.5395e-01, -1.3531e+01,  ...,  1.0955e+01,\n",
       "          -3.9678e+00, -6.1480e+00],\n",
       "         [ 5.5848e+00,  1.3797e+01, -1.0557e+01,  ..., -6.3154e+00,\n",
       "          -2.5953e+00,  1.0372e+01],\n",
       "         [ 1.6276e+00, -2.7415e+00, -8.7794e+00,  ...,  4.2809e+00,\n",
       "          -4.5855e+00,  1.9165e+01]],\n",
       "\n",
       "        [[ 2.3718e+01, -2.0571e-02,  4.6291e+00,  ...,  2.2285e+01,\n",
       "          -9.9872e+00,  4.8266e-01],\n",
       "         [ 9.2988e+00, -6.5937e+00,  8.8014e+00,  ..., -4.5407e+00,\n",
       "          -4.1146e+00, -2.9974e-01],\n",
       "         [-4.8475e+00, -8.2728e+00,  6.4545e+00,  ...,  1.0901e+01,\n",
       "           5.7572e+00,  1.4986e+00],\n",
       "         ...,\n",
       "         [ 6.5679e+00,  3.8625e+00,  7.9482e+00,  ...,  5.8408e-01,\n",
       "           8.5063e+00,  1.8453e-01],\n",
       "         [ 5.9730e+00, -1.7217e+01,  1.3103e+01,  ..., -2.7420e+00,\n",
       "          -3.3549e+00, -1.9330e-01],\n",
       "         [-6.6130e+00, -9.5456e+00, -1.8800e+01,  ...,  8.7571e+00,\n",
       "           2.7328e-01, -1.3538e+01]],\n",
       "\n",
       "        [[-1.7191e+00,  6.6862e+00,  8.5491e-01,  ...,  4.1336e-01,\n",
       "          -6.2904e+00,  9.0203e+00],\n",
       "         [ 8.2419e+00,  8.1128e+00, -2.5204e+00,  ..., -2.0542e+00,\n",
       "          -1.4181e+00,  2.4979e+00],\n",
       "         [-7.2845e+00, -1.4494e+01,  1.0838e+00,  ...,  4.0279e+00,\n",
       "          -2.0053e+00,  1.1079e+01],\n",
       "         ...,\n",
       "         [ 5.2188e+00, -1.1839e+01, -2.7808e+00,  ..., -6.0621e+00,\n",
       "           5.3329e+00,  5.7149e+00],\n",
       "         [-2.5641e+00, -1.4558e+01, -9.1047e+00,  ...,  5.9649e+00,\n",
       "           2.3151e+00,  7.5753e-01],\n",
       "         [ 4.1323e+00,  1.7034e+00,  2.2323e+00,  ..., -2.4198e+00,\n",
       "           1.2770e-01, -3.0964e+00]]])"
      ]
     },
     "execution_count": 18,
     "metadata": {},
     "output_type": "execute_result"
    }
   ],
   "source": [
    "import torch.nn.functional as F\n",
    "\n",
    "inputs = torch.randn(33, 16, 30)\n",
    "filters = torch.randn(40, 16, 5)\n",
    "F.conv1d(inputs, filters)"
   ]
  },
  {
   "cell_type": "code",
   "execution_count": null,
   "id": "ff085a9c",
   "metadata": {},
   "outputs": [],
   "source": []
  }
 ],
 "metadata": {
  "kernelspec": {
   "display_name": "Python 3 (ipykernel)",
   "language": "python",
   "name": "python3"
  },
  "language_info": {
   "codemirror_mode": {
    "name": "ipython",
    "version": 3
   },
   "file_extension": ".py",
   "mimetype": "text/x-python",
   "name": "python",
   "nbconvert_exporter": "python",
   "pygments_lexer": "ipython3",
   "version": "3.9.7"
  }
 },
 "nbformat": 4,
 "nbformat_minor": 5
}
