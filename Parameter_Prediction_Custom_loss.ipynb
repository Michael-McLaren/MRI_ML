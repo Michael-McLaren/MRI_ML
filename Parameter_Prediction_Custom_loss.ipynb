{
 "cells": [
  {
   "cell_type": "code",
   "execution_count": 8,
   "metadata": {},
   "outputs": [],
   "source": [
    "import torch\n",
    "import torch.nn as nn\n",
    "import torch.optim as optim\n",
    "import torch.utils.data as Data\n",
    "import torch.nn.functional as F\n",
    "\n",
    "from torch.autograd import Variable\n",
    "from torchvision import datasets, transforms\n",
    "\n",
    "import numpy as np\n",
    "import matplotlib.pyplot as plt\n",
    "import scipy.stats as st\n",
    "\n",
    "\n",
    "from tkmodel.TwoCUM_copy import TwoCUMfittingConc\n",
    "from tkmodel.TwoCUM_copy import TwoCUM"
   ]
  },
  {
   "cell_type": "markdown",
   "metadata": {},
   "source": [
    "### Custom Loss"
   ]
  },
  {
   "cell_type": "code",
   "execution_count": 9,
   "metadata": {},
   "outputs": [],
   "source": [
    "def TwoCUM_batch(E, Fp ,vp, AIF1 , t): \n",
    "    batch_size = E.shape[0]\n",
    "    \n",
    "    Tp=(vp/Fp)*(1-E)\n",
    "    #Calculate the IRF\n",
    "    exptTp= torch.exp(-1*t[:,None]/Tp[None,:]) #adding dummy variables so it divides properly\n",
    "\n",
    "    R=exptTp*(1-E) + E\n",
    "\n",
    "    #Calculate the convolution\n",
    "    R = torch.flip(R, (0,)).T #Reshape to fit the the convolution\n",
    "    R = torch.unsqueeze(R, 1)\n",
    "    temp = t[1]*torch.nn.functional.conv1d(AIF1, R, padding = AIF1.shape[2]-1).view(batch_size, -1)\n",
    "    F = Fp.unsqueeze(-1)*temp[:,0:len(t)] #unsqueeze to match dimensions\n",
    "    return F\n",
    "\n",
    "def loss_fn_batch(outputs, targets):\n",
    "    #E, Fp, vp\n",
    "    #time spacings\n",
    "    t = np.arange(0,366,2.45)\n",
    "    t = torch.tensor(t)\n",
    "    \n",
    "    batch_size = outputs[:,0].shape[0]\n",
    "    AIF = torch.from_numpy(np.load(\"data/AIF.npy\"))\n",
    "    AIF1 = AIF.view(1, 1, -1) #reshaped for convolution\n",
    "\n",
    "    \n",
    "    #For outputs\n",
    "    #First calculate the parameter Tp\n",
    "    E, Fp ,vp = outputs[:,0], outputs[:,1], outputs[:,2]\n",
    "    F_out = TwoCUM_batch(E, Fp ,vp, AIF1, t)\n",
    "\n",
    "    \n",
    "    #For targets - copy pasted\n",
    "    E_true, Fp_true ,vp_true = targets[:,0], targets[:,1], targets[:,2]\n",
    "    F_targets = TwoCUM_batch(E_true, Fp_true ,vp_true, AIF1, t)\n",
    "\n",
    "    \n",
    "    MSE = torch.sum((F_out - F_targets)**2)/F_out.shape[1]\n",
    "    return MSE\n",
    "\n",
    "def combined(outputs, targets):\n",
    "    MSE_comb = loss_fn_batch(outputs, targets) + 50*torch.sum((outputs - targets)**2)\n",
    "\n",
    "    return MSE_comb"
   ]
  },
  {
   "cell_type": "markdown",
   "metadata": {},
   "source": [
    "### Distributions"
   ]
  },
  {
   "cell_type": "code",
   "execution_count": 10,
   "metadata": {},
   "outputs": [],
   "source": [
    "def E_distribution(num):\n",
    "    p = 0.09392265193370165\n",
    "    params = (69.70266807226483, 1.0792465008741048, -0.23357477054649745, 0.08955766184221467)\n",
    "    start_nums = int(p*num)\n",
    "    \n",
    "    start = np.random.uniform(low = 0, high= 0.001, size = start_nums)\n",
    "    \n",
    "    dist_num = num - start_nums\n",
    "    gen_data_Fp = st.exponweib.rvs(params[0], params[1], params[2], params[3], size=dist_num)\n",
    "    gen_data_Fp = np.array(gen_data_Fp)\n",
    "    \n",
    "    true_dist = np.concatenate((start, gen_data_Fp), axis=None)\n",
    "    \n",
    "    true_dist[true_dist < 0] = 0.0001\n",
    "\n",
    "    \n",
    "    \n",
    "    return true_dist\n",
    "\n",
    "def Fp_distribution(num):\n",
    "    p = 0.1182\n",
    "    params = (1.064799958220838, 0.0005001496965058328, 0.007151833882619035)\n",
    "    start_nums = int(p*num)\n",
    "    \n",
    "    start = np.random.uniform(low = 0, high= 0.0005, size = start_nums)\n",
    "    \n",
    "    dist_num = num - start_nums\n",
    "    gen_data_Fp = st.weibull_min.rvs(params[0], params[1], params[2], size=dist_num)\n",
    "    gen_data_Fp = np.array(gen_data_Fp)\n",
    "    \n",
    "    true_dist = np.concatenate((gen_data_Fp, start), axis=None)\n",
    "    print(true_dist.shape)\n",
    "    #true_dist[true_dist > 1] = 0.99\n",
    "\n",
    "    \n",
    "    \n",
    "    return true_dist\n",
    "\n",
    "def vp_distrubition(num):\n",
    "    params = (29572479.030125827, 6450136.935704315, 6450136.715197781)\n",
    "    p = 0.287\n",
    "    endnum = int(p*num)\n",
    "    end = np.random.uniform(low = 0.98, high= 0.99, size = endnum)\n",
    "    \n",
    "    dist_num = num - endnum\n",
    "    gen_data_vp = st.weibull_max.rvs(params[0], params[1], params[2], size=dist_num)\n",
    "    gen_data_vp = np.array(gen_data_vp)\n",
    "    \n",
    "    true_dist = np.concatenate((gen_data_vp, end), axis=None)\n",
    "    print(true_dist.shape)\n",
    "    true_dist[true_dist > 1] = 0.99\n",
    "    true_dist[true_dist < 0] = 0.011\n",
    "\n",
    "    \n",
    "    \n",
    "    return true_dist"
   ]
  },
  {
   "cell_type": "markdown",
   "metadata": {},
   "source": [
    "### Create Dataloader and Dataset"
   ]
  },
  {
   "cell_type": "code",
   "execution_count": 32,
   "metadata": {},
   "outputs": [],
   "source": [
    "def generate_xy(num_curves):\n",
    "    AIF = np.load(\"data/AIF.npy\")\n",
    "    data_size = AIF.shape[0]\n",
    "    t = np.arange(0,366,2.45)\n",
    "\n",
    "    #E = np.random.rand(1,num_curves) #0 to 1 for both E and vp\n",
    "    #vp = np.random.rand(1,num_curves)\n",
    "    #Fp = np.random.rand(1,num_curves) #this will be multplied by 1e-5 to get the right scale at the end\n",
    "    \n",
    "    E = E_distribution(num_curves) \n",
    "    vp = vp_distrubition(num_curves)\n",
    "    Fp = Fp_distribution(num_curves) \n",
    "    E = E[None,:]\n",
    "    vp = vp[None,:]\n",
    "    Fp = Fp[None,:]\n",
    "\n",
    "\n",
    "    \n",
    "    E_Fp = np.concatenate((E, Fp), axis =0)\n",
    "    y = np.concatenate((E_Fp, vp), axis =0)\n",
    "\n",
    "\n",
    "    x = np.zeros((num_curves, data_size))\n",
    "    for i in range(num_curves):\n",
    "        x[i] = TwoCUM(y[:,i], t, AIF, 0)\n",
    "\n",
    "    y = y.T \n",
    "    \n",
    "    return x,y\n",
    "\n",
    "\n",
    "def create_dataloader(x, y, batch_size):\n",
    "    \n",
    "    x = torch.from_numpy(x).float()\n",
    "    y = torch.from_numpy(y).float()\n",
    "\n",
    "    \n",
    "    torch_dataset = Data.TensorDataset(x, y) \n",
    "\n",
    "    dataloader = Data.DataLoader(torch_dataset, batch_size=batch_size, shuffle=True) \n",
    "    \n",
    "    return dataloader\n",
    "\n",
    "\n"
   ]
  },
  {
   "cell_type": "markdown",
   "metadata": {},
   "source": [
    "### Define Network"
   ]
  },
  {
   "cell_type": "code",
   "execution_count": 33,
   "metadata": {},
   "outputs": [],
   "source": [
    "class Net(nn.Module):\n",
    "    def __init__(self):\n",
    "        super(Net, self).__init__()\n",
    "        self.hidden = torch.nn.Linear(150, 1000) \n",
    "        self.bn1 = nn.BatchNorm1d(1000)\n",
    "        self.hidden2 = torch.nn.Linear(1000, 200) \n",
    "        self.bn2 = nn.BatchNorm1d(200)\n",
    "        self.hidden3 = torch.nn.Linear(200, 200)\n",
    "        self.bn3 = nn.BatchNorm1d(200)\n",
    "        self.hidden4 = torch.nn.Linear(200, 200)\n",
    "        self.bn4 = nn.BatchNorm1d(200)\n",
    "        self.hidden5 = torch.nn.Linear(200, 200)\n",
    "        self.bn5 = nn.BatchNorm1d(200)\n",
    "        self.predict = torch.nn.Linear(200, 3)\n",
    "        self.bound = torch.nn.Sigmoid()\n",
    "\n",
    "    def forward(self, x):\n",
    "        x = F.relu(self.bn1(self.hidden(x)) )     \n",
    "        x = F.relu(self.bn2(self.hidden2(x)))\n",
    "        x = F.relu(self.bn3(self.hidden3(x)))\n",
    "        x = F.relu(self.bn4(self.hidden4(x)))\n",
    "        x = F.relu(self.bn5(self.hidden5(x)))\n",
    "        x = self.predict(x) \n",
    "        x = self.bound(x)\n",
    "        return x\n",
    "\n",
    "net = Net()"
   ]
  },
  {
   "cell_type": "markdown",
   "metadata": {},
   "source": [
    "### Training Steps"
   ]
  },
  {
   "cell_type": "code",
   "execution_count": 34,
   "metadata": {},
   "outputs": [],
   "source": [
    "def train(model, x, y, optimiser, criterion):\n",
    "    model.train()\n",
    "    model.zero_grad()\n",
    "    output = model(x)\n",
    "    loss = criterion(output, y)\n",
    "    loss.backward()\n",
    "    optimiser.step()\n",
    "       \n",
    "    return loss, output\n",
    "\n",
    "def test(model, x, y, criterion):\n",
    "    with torch.no_grad():\n",
    "        model.eval()\n",
    "        output = model(x)\n",
    "        loss = criterion(output, y)\n",
    "\n",
    "    return loss, output\n",
    "\n",
    "def normalise(x):\n",
    "    x_trans = ( (x - x.mean() )/ x.std())\n",
    "    return x_trans"
   ]
  },
  {
   "cell_type": "markdown",
   "metadata": {},
   "source": [
    "### Run Training"
   ]
  },
  {
   "cell_type": "code",
   "execution_count": 35,
   "metadata": {},
   "outputs": [
    {
     "name": "stdout",
     "output_type": "stream",
     "text": [
      "(10000,)\n",
      "(10000,)\n",
      "(3333,)\n",
      "(3333,)\n"
     ]
    }
   ],
   "source": [
    "#generate and normalise data\n",
    "#training set\n",
    "num_curves = 10000\n",
    "x,y = generate_xy(num_curves)\n",
    "x = normalise(x)\n",
    "\n",
    "#validation set\n",
    "x_val,y_val = generate_xy(int(num_curves/3))\n",
    "x_val = normalise(x_val)\n"
   ]
  },
  {
   "cell_type": "code",
   "execution_count": 36,
   "metadata": {},
   "outputs": [
    {
     "name": "stdout",
     "output_type": "stream",
     "text": [
      "0\n",
      "1\n",
      "2\n",
      "3\n",
      "4\n",
      "5\n",
      "6\n",
      "7\n",
      "8\n",
      "9\n",
      "10\n",
      "11\n",
      "12\n",
      "13\n",
      "14\n",
      "15\n",
      "16\n",
      "17\n",
      "18\n",
      "19\n",
      "20\n",
      "21\n",
      "22\n",
      "23\n",
      "24\n",
      "25\n",
      "26\n",
      "27\n",
      "28\n",
      "29\n",
      "30\n",
      "31\n",
      "32\n",
      "33\n",
      "34\n",
      "35\n",
      "36\n",
      "37\n",
      "38\n",
      "39\n",
      "40\n",
      "41\n",
      "42\n",
      "43\n",
      "44\n",
      "45\n",
      "46\n",
      "47\n",
      "48\n",
      "49\n",
      "50\n",
      "51\n",
      "52\n",
      "53\n",
      "54\n",
      "55\n",
      "56\n",
      "57\n",
      "58\n",
      "59\n",
      "60\n",
      "61\n",
      "62\n",
      "63\n",
      "64\n",
      "65\n",
      "66\n",
      "67\n",
      "68\n",
      "69\n",
      "70\n",
      "71\n",
      "72\n",
      "73\n",
      "74\n",
      "75\n",
      "76\n",
      "77\n",
      "78\n",
      "79\n",
      "80\n",
      "81\n",
      "82\n",
      "83\n",
      "84\n",
      "85\n",
      "86\n",
      "87\n",
      "88\n",
      "89\n",
      "90\n",
      "91\n",
      "92\n",
      "93\n",
      "94\n",
      "95\n",
      "96\n",
      "97\n",
      "98\n",
      "99\n",
      "100\n",
      "101\n",
      "102\n",
      "103\n",
      "104\n",
      "105\n",
      "106\n",
      "107\n",
      "108\n",
      "109\n",
      "110\n",
      "111\n",
      "112\n",
      "113\n",
      "114\n",
      "115\n",
      "116\n",
      "117\n",
      "118\n",
      "119\n",
      "120\n",
      "121\n",
      "122\n",
      "123\n",
      "124\n",
      "125\n",
      "126\n",
      "127\n",
      "128\n",
      "129\n",
      "130\n",
      "131\n",
      "132\n",
      "133\n",
      "134\n",
      "135\n",
      "136\n",
      "137\n",
      "138\n",
      "139\n",
      "140\n",
      "141\n",
      "142\n",
      "143\n",
      "144\n",
      "145\n",
      "146\n",
      "147\n",
      "148\n",
      "149\n",
      "150\n",
      "151\n",
      "152\n",
      "153\n",
      "154\n",
      "155\n",
      "156\n",
      "157\n",
      "158\n",
      "159\n",
      "160\n",
      "161\n",
      "162\n",
      "163\n",
      "164\n",
      "165\n",
      "166\n",
      "167\n",
      "168\n",
      "169\n",
      "170\n",
      "171\n",
      "172\n",
      "173\n",
      "174\n",
      "175\n",
      "176\n",
      "177\n",
      "178\n",
      "179\n",
      "180\n",
      "181\n",
      "182\n",
      "183\n",
      "184\n",
      "185\n",
      "186\n",
      "187\n",
      "188\n",
      "189\n",
      "190\n",
      "191\n",
      "192\n",
      "193\n",
      "194\n",
      "195\n",
      "196\n",
      "197\n",
      "198\n",
      "199\n"
     ]
    }
   ],
   "source": [
    "\n",
    "epochs = 200\n",
    "batch_size = 50\n",
    "optimiser = optimiser = optim.Adam(net.parameters(), lr=0.001, betas=(0.9, 0.999), eps=1e-8)\n",
    "\n",
    "criterion = combined\n",
    "loss_plot = np.empty(epochs)\n",
    "loss_val_plot = np.empty(epochs)\n",
    "\n",
    "dataloader = create_dataloader(x, y, batch_size)\n",
    "dataloader_val = create_dataloader(x_val, y_val, batch_size*5)\n",
    "for epoch in range(epochs):\n",
    "\n",
    "    for i, (train_x, train_y) in enumerate(dataloader):\n",
    "        loss, predictions = train(net, train_x, train_y, optimiser, criterion)\n",
    "    \n",
    "    for i, (val_x, val_y) in enumerate(dataloader_val):\n",
    "        loss_val, predictions_val = test(net, val_x, val_y, criterion)\n",
    "        \n",
    "    if epoch % 1 == 0:\n",
    "        print(epoch)\n",
    "        \n",
    "    loss_plot[epoch] = loss.detach().numpy() \n",
    "    loss_val_plot[epoch] = loss_val.detach().numpy()\n"
   ]
  },
  {
   "cell_type": "code",
   "execution_count": 37,
   "metadata": {},
   "outputs": [
    {
     "name": "stdout",
     "output_type": "stream",
     "text": [
      "4.118803913508854 859.815488359181\n",
      "23.811285065386635 1565.7476399388463\n"
     ]
    },
    {
     "data": {
      "text/plain": [
       "Text(0, 0.5, 'Loss')"
      ]
     },
     "execution_count": 37,
     "metadata": {},
     "output_type": "execute_result"
    },
    {
     "data": {
      "image/png": "[encoded data removed]",
      "text/plain": [
       "<Figure size 432x288 with 1 Axes>"
      ]
     },
     "metadata": {
      "needs_background": "light"
     },
     "output_type": "display_data"
    }
   ],
   "source": [
    "print(loss_plot.min(), loss_plot.max())\n",
    "print(loss_val_plot.min(), loss_val_plot.max())\n",
    "\n",
    "plt.plot(loss_plot, label = 'training')\n",
    "plt.plot(loss_val_plot, label = 'val')\n",
    "plt.legend()\n",
    "plt.xlabel(\"Epoch\")\n",
    "plt.ylabel(\"Loss\")"
   ]
  },
  {
   "cell_type": "markdown",
   "metadata": {},
   "source": [
    "### Testing\n",
    "##### Tested using the training data (usually use a seperate testing dataset)"
   ]
  },
  {
   "cell_type": "code",
   "execution_count": 38,
   "metadata": {},
   "outputs": [],
   "source": [
    "def plot_curves(prediction, target, AIF, t):\n",
    "    predicted_curve = TwoCUM(prediction.detach().numpy(), t, AIF, 0)\n",
    "    target_curve = TwoCUM(target.detach().numpy(), t, AIF, 0)\n",
    "    \n",
    "    plt.plot(t, predicted_curve, label = 'Prediction')\n",
    "    plt.plot(t, target_curve, label = 'Target')\n",
    "    plt.legend()\n",
    "    plt.show()"
   ]
  },
  {
   "cell_type": "code",
   "execution_count": 39,
   "metadata": {},
   "outputs": [
    {
     "name": "stdout",
     "output_type": "stream",
     "text": [
      "(100,)\n",
      "(100,)\n",
      "tensor([[-0.9289, -0.9297, -0.9304,  ...,  0.4669,  0.4750,  0.4885],\n",
      "        [-0.9288, -0.9294, -0.9300,  ..., -0.7639, -0.7618, -0.7546],\n",
      "        [-0.9299, -0.9310, -0.9321,  ...,  0.5507,  0.5592,  0.5755],\n",
      "        ...,\n",
      "        [-0.9302, -0.9316, -0.9329,  ...,  0.3118,  0.3151,  0.3271],\n",
      "        [-0.9282, -0.9289, -0.9295,  ..., -0.3189, -0.3170, -0.3110],\n",
      "        [-0.9278, -0.9283, -0.9287,  ..., -0.1914, -0.1875, -0.1804]])\n",
      "\n",
      " test\n"
     ]
    },
    {
     "data": {
      "image/png": "[encoded data removed]",
      "text/plain": [
       "<Figure size 432x288 with 1 Axes>"
      ]
     },
     "metadata": {
      "needs_background": "light"
     },
     "output_type": "display_data"
    },
    {
     "name": "stdout",
     "output_type": "stream",
     "text": [
      "pred:  [0.1925298  0.00668075 0.6813291 ] true:  [0.19603209 0.00744112 0.9886167 ]\n",
      "\n",
      " train\n"
     ]
    },
    {
     "data": {
      "image/png": "[encoded data removed]",
      "text/plain": [
       "<Figure size 432x288 with 1 Axes>"
      ]
     },
     "metadata": {
      "needs_background": "light"
     },
     "output_type": "display_data"
    },
    {
     "name": "stdout",
     "output_type": "stream",
     "text": [
      "pred:  [0.17285724 0.01808343 0.73737997] true:  [0.16992445 0.01862665 0.7967253 ]\n",
      "\n",
      " val\n"
     ]
    },
    {
     "data": {
      "image/png": "[encoded data removed]",
      "text/plain": [
       "<Figure size 432x288 with 1 Axes>"
      ]
     },
     "metadata": {
      "needs_background": "light"
     },
     "output_type": "display_data"
    },
    {
     "name": "stdout",
     "output_type": "stream",
     "text": [
      "pred:  [0.13151315 0.01997956 0.08344916] true:  [0.12310809 0.01938886 0.08586006]\n"
     ]
    }
   ],
   "source": [
    "AIF = np.load(\"data/AIF.npy\")\n",
    "t = np.arange(0,366,2.45)\n",
    "\n",
    "xt,yt = generate_xy(100)\n",
    "xt = normalise(xt)\n",
    "\n",
    "dataloader_test = create_dataloader(xt, yt, 50)\n",
    "\n",
    "\n",
    "for i, (test_x, test_y) in enumerate(dataloader_test):\n",
    "    j = np.random.randint(0 ,test_x.shape[0])\n",
    "    prediction_test = net(test_x)\n",
    "    print(test_x)\n",
    "    print('\\n test')\n",
    "    plot_curves(prediction_test[j], test_y[j], AIF, t)\n",
    "    print('pred: ', prediction_test[j].detach().numpy(),'true: ', test_y[j].detach().numpy())\n",
    "    \n",
    "    break\n",
    "    \n",
    "for i, (train_x, train_y) in enumerate(dataloader):\n",
    "    j = np.random.randint(0 ,train_x.shape[0])\n",
    "    prediction = net(train_x)\n",
    "    print('\\n train')\n",
    "\n",
    "    plot_curves(prediction[j], train_y[j], AIF, t)\n",
    "    print('pred: ',prediction[j].detach().numpy(), 'true: ',train_y[j].detach().numpy())\n",
    "        \n",
    "    break\n",
    "    \n",
    "for i, (val_x, val_y) in enumerate(dataloader_val):\n",
    "    j = np.random.randint(0 ,val_x.shape[0])\n",
    "    prediction_val = net(val_x)\n",
    "    print('\\n val')\n",
    "\n",
    "    plot_curves(prediction_val[j], val_y[j], AIF, t)\n",
    "    print('pred: ',prediction_val[j].detach().numpy(), 'true: ',val_y[j].detach().numpy())\n",
    "        \n",
    "    break"
   ]
  },
  {
   "cell_type": "markdown",
   "metadata": {},
   "source": [
    "### Results log\n"
   ]
  },
  {
   "cell_type": "code",
   "execution_count": 64,
   "metadata": {},
   "outputs": [
    {
     "ename": "RuntimeError",
     "evalue": "mat1 and mat2 shapes cannot be multiplied (2x3 and 150x1000)",
     "output_type": "error",
     "traceback": [
      "\u001b[0;31m---------------------------------------------------------------------------\u001b[0m",
      "\u001b[0;31mRuntimeError\u001b[0m                              Traceback (most recent call last)",
      "\u001b[0;32m<ipython-input-64-75dca41dab9e>\u001b[0m in \u001b[0;36m<module>\u001b[0;34m\u001b[0m\n\u001b[1;32m      1\u001b[0m \u001b[0mwhy\u001b[0m \u001b[0;34m=\u001b[0m \u001b[0mtorch\u001b[0m\u001b[0;34m.\u001b[0m\u001b[0mTensor\u001b[0m\u001b[0;34m(\u001b[0m\u001b[0;34m[\u001b[0m\u001b[0;34m[\u001b[0m\u001b[0;36m0.5\u001b[0m\u001b[0;34m,\u001b[0m \u001b[0;36m0.5\u001b[0m\u001b[0;34m,\u001b[0m \u001b[0;36m0.5\u001b[0m\u001b[0;34m]\u001b[0m\u001b[0;34m,\u001b[0m\u001b[0;34m[\u001b[0m\u001b[0;36m0.6\u001b[0m\u001b[0;34m,\u001b[0m\u001b[0;36m0.6\u001b[0m\u001b[0;34m,\u001b[0m\u001b[0;36m0.4\u001b[0m\u001b[0;34m]\u001b[0m\u001b[0;34m]\u001b[0m\u001b[0;34m)\u001b[0m\u001b[0;34m\u001b[0m\u001b[0;34m\u001b[0m\u001b[0m\n\u001b[0;32m----> 2\u001b[0;31m \u001b[0ma\u001b[0m \u001b[0;34m=\u001b[0m \u001b[0mnet\u001b[0m\u001b[0;34m(\u001b[0m\u001b[0mwhy\u001b[0m\u001b[0;34m)\u001b[0m\u001b[0;34m\u001b[0m\u001b[0;34m\u001b[0m\u001b[0m\n\u001b[0m",
      "\u001b[0;32m/usr/lib/python3/dist-packages/torch/nn/modules/module.py\u001b[0m in \u001b[0;36m_call_impl\u001b[0;34m(self, *input, **kwargs)\u001b[0m\n\u001b[1;32m    725\u001b[0m             \u001b[0mresult\u001b[0m \u001b[0;34m=\u001b[0m \u001b[0mself\u001b[0m\u001b[0;34m.\u001b[0m\u001b[0m_slow_forward\u001b[0m\u001b[0;34m(\u001b[0m\u001b[0;34m*\u001b[0m\u001b[0minput\u001b[0m\u001b[0;34m,\u001b[0m \u001b[0;34m**\u001b[0m\u001b[0mkwargs\u001b[0m\u001b[0;34m)\u001b[0m\u001b[0;34m\u001b[0m\u001b[0;34m\u001b[0m\u001b[0m\n\u001b[1;32m    726\u001b[0m         \u001b[0;32melse\u001b[0m\u001b[0;34m:\u001b[0m\u001b[0;34m\u001b[0m\u001b[0;34m\u001b[0m\u001b[0m\n\u001b[0;32m--> 727\u001b[0;31m             \u001b[0mresult\u001b[0m \u001b[0;34m=\u001b[0m \u001b[0mself\u001b[0m\u001b[0;34m.\u001b[0m\u001b[0mforward\u001b[0m\u001b[0;34m(\u001b[0m\u001b[0;34m*\u001b[0m\u001b[0minput\u001b[0m\u001b[0;34m,\u001b[0m \u001b[0;34m**\u001b[0m\u001b[0mkwargs\u001b[0m\u001b[0;34m)\u001b[0m\u001b[0;34m\u001b[0m\u001b[0;34m\u001b[0m\u001b[0m\n\u001b[0m\u001b[1;32m    728\u001b[0m         for hook in itertools.chain(\n\u001b[1;32m    729\u001b[0m                 \u001b[0m_global_forward_hooks\u001b[0m\u001b[0;34m.\u001b[0m\u001b[0mvalues\u001b[0m\u001b[0;34m(\u001b[0m\u001b[0;34m)\u001b[0m\u001b[0;34m,\u001b[0m\u001b[0;34m\u001b[0m\u001b[0;34m\u001b[0m\u001b[0m\n",
      "\u001b[0;32m<ipython-input-50-6ee843e8fa8b>\u001b[0m in \u001b[0;36mforward\u001b[0;34m(self, x)\u001b[0m\n\u001b[1;32m     16\u001b[0m \u001b[0;34m\u001b[0m\u001b[0m\n\u001b[1;32m     17\u001b[0m     \u001b[0;32mdef\u001b[0m \u001b[0mforward\u001b[0m\u001b[0;34m(\u001b[0m\u001b[0mself\u001b[0m\u001b[0;34m,\u001b[0m \u001b[0mx\u001b[0m\u001b[0;34m)\u001b[0m\u001b[0;34m:\u001b[0m\u001b[0;34m\u001b[0m\u001b[0;34m\u001b[0m\u001b[0m\n\u001b[0;32m---> 18\u001b[0;31m         \u001b[0mx\u001b[0m \u001b[0;34m=\u001b[0m \u001b[0mF\u001b[0m\u001b[0;34m.\u001b[0m\u001b[0mrelu\u001b[0m\u001b[0;34m(\u001b[0m\u001b[0mself\u001b[0m\u001b[0;34m.\u001b[0m\u001b[0mbn1\u001b[0m\u001b[0;34m(\u001b[0m\u001b[0mself\u001b[0m\u001b[0;34m.\u001b[0m\u001b[0mhidden\u001b[0m\u001b[0;34m(\u001b[0m\u001b[0mx\u001b[0m\u001b[0;34m)\u001b[0m\u001b[0;34m)\u001b[0m \u001b[0;34m)\u001b[0m\u001b[0;34m\u001b[0m\u001b[0;34m\u001b[0m\u001b[0m\n\u001b[0m\u001b[1;32m     19\u001b[0m         \u001b[0mx\u001b[0m \u001b[0;34m=\u001b[0m \u001b[0mF\u001b[0m\u001b[0;34m.\u001b[0m\u001b[0mrelu\u001b[0m\u001b[0;34m(\u001b[0m\u001b[0mself\u001b[0m\u001b[0;34m.\u001b[0m\u001b[0mbn2\u001b[0m\u001b[0;34m(\u001b[0m\u001b[0mself\u001b[0m\u001b[0;34m.\u001b[0m\u001b[0mhidden2\u001b[0m\u001b[0;34m(\u001b[0m\u001b[0mx\u001b[0m\u001b[0;34m)\u001b[0m\u001b[0;34m)\u001b[0m\u001b[0;34m)\u001b[0m\u001b[0;34m\u001b[0m\u001b[0;34m\u001b[0m\u001b[0m\n\u001b[1;32m     20\u001b[0m         \u001b[0mx\u001b[0m \u001b[0;34m=\u001b[0m \u001b[0mF\u001b[0m\u001b[0;34m.\u001b[0m\u001b[0mrelu\u001b[0m\u001b[0;34m(\u001b[0m\u001b[0mself\u001b[0m\u001b[0;34m.\u001b[0m\u001b[0mbn3\u001b[0m\u001b[0;34m(\u001b[0m\u001b[0mself\u001b[0m\u001b[0;34m.\u001b[0m\u001b[0mhidden3\u001b[0m\u001b[0;34m(\u001b[0m\u001b[0mx\u001b[0m\u001b[0;34m)\u001b[0m\u001b[0;34m)\u001b[0m\u001b[0;34m)\u001b[0m\u001b[0;34m\u001b[0m\u001b[0;34m\u001b[0m\u001b[0m\n",
      "\u001b[0;32m/usr/lib/python3/dist-packages/torch/nn/modules/module.py\u001b[0m in \u001b[0;36m_call_impl\u001b[0;34m(self, *input, **kwargs)\u001b[0m\n\u001b[1;32m    725\u001b[0m             \u001b[0mresult\u001b[0m \u001b[0;34m=\u001b[0m \u001b[0mself\u001b[0m\u001b[0;34m.\u001b[0m\u001b[0m_slow_forward\u001b[0m\u001b[0;34m(\u001b[0m\u001b[0;34m*\u001b[0m\u001b[0minput\u001b[0m\u001b[0;34m,\u001b[0m \u001b[0;34m**\u001b[0m\u001b[0mkwargs\u001b[0m\u001b[0;34m)\u001b[0m\u001b[0;34m\u001b[0m\u001b[0;34m\u001b[0m\u001b[0m\n\u001b[1;32m    726\u001b[0m         \u001b[0;32melse\u001b[0m\u001b[0;34m:\u001b[0m\u001b[0;34m\u001b[0m\u001b[0;34m\u001b[0m\u001b[0m\n\u001b[0;32m--> 727\u001b[0;31m             \u001b[0mresult\u001b[0m \u001b[0;34m=\u001b[0m \u001b[0mself\u001b[0m\u001b[0;34m.\u001b[0m\u001b[0mforward\u001b[0m\u001b[0;34m(\u001b[0m\u001b[0;34m*\u001b[0m\u001b[0minput\u001b[0m\u001b[0;34m,\u001b[0m \u001b[0;34m**\u001b[0m\u001b[0mkwargs\u001b[0m\u001b[0;34m)\u001b[0m\u001b[0;34m\u001b[0m\u001b[0;34m\u001b[0m\u001b[0m\n\u001b[0m\u001b[1;32m    728\u001b[0m         for hook in itertools.chain(\n\u001b[1;32m    729\u001b[0m                 \u001b[0m_global_forward_hooks\u001b[0m\u001b[0;34m.\u001b[0m\u001b[0mvalues\u001b[0m\u001b[0;34m(\u001b[0m\u001b[0;34m)\u001b[0m\u001b[0;34m,\u001b[0m\u001b[0;34m\u001b[0m\u001b[0;34m\u001b[0m\u001b[0m\n",
      "\u001b[0;32m/usr/lib/python3/dist-packages/torch/nn/modules/linear.py\u001b[0m in \u001b[0;36mforward\u001b[0;34m(self, input)\u001b[0m\n\u001b[1;32m     91\u001b[0m \u001b[0;34m\u001b[0m\u001b[0m\n\u001b[1;32m     92\u001b[0m     \u001b[0;32mdef\u001b[0m \u001b[0mforward\u001b[0m\u001b[0;34m(\u001b[0m\u001b[0mself\u001b[0m\u001b[0;34m,\u001b[0m \u001b[0minput\u001b[0m\u001b[0;34m:\u001b[0m \u001b[0mTensor\u001b[0m\u001b[0;34m)\u001b[0m \u001b[0;34m->\u001b[0m \u001b[0mTensor\u001b[0m\u001b[0;34m:\u001b[0m\u001b[0;34m\u001b[0m\u001b[0;34m\u001b[0m\u001b[0m\n\u001b[0;32m---> 93\u001b[0;31m         \u001b[0;32mreturn\u001b[0m \u001b[0mF\u001b[0m\u001b[0;34m.\u001b[0m\u001b[0mlinear\u001b[0m\u001b[0;34m(\u001b[0m\u001b[0minput\u001b[0m\u001b[0;34m,\u001b[0m \u001b[0mself\u001b[0m\u001b[0;34m.\u001b[0m\u001b[0mweight\u001b[0m\u001b[0;34m,\u001b[0m \u001b[0mself\u001b[0m\u001b[0;34m.\u001b[0m\u001b[0mbias\u001b[0m\u001b[0;34m)\u001b[0m\u001b[0;34m\u001b[0m\u001b[0;34m\u001b[0m\u001b[0m\n\u001b[0m\u001b[1;32m     94\u001b[0m \u001b[0;34m\u001b[0m\u001b[0m\n\u001b[1;32m     95\u001b[0m     \u001b[0;32mdef\u001b[0m \u001b[0mextra_repr\u001b[0m\u001b[0;34m(\u001b[0m\u001b[0mself\u001b[0m\u001b[0;34m)\u001b[0m \u001b[0;34m->\u001b[0m \u001b[0mstr\u001b[0m\u001b[0;34m:\u001b[0m\u001b[0;34m\u001b[0m\u001b[0;34m\u001b[0m\u001b[0m\n",
      "\u001b[0;32m/usr/lib/python3/dist-packages/torch/nn/functional.py\u001b[0m in \u001b[0;36mlinear\u001b[0;34m(input, weight, bias)\u001b[0m\n\u001b[1;32m   1688\u001b[0m     \u001b[0;32mif\u001b[0m \u001b[0minput\u001b[0m\u001b[0;34m.\u001b[0m\u001b[0mdim\u001b[0m\u001b[0;34m(\u001b[0m\u001b[0;34m)\u001b[0m \u001b[0;34m==\u001b[0m \u001b[0;36m2\u001b[0m \u001b[0;32mand\u001b[0m \u001b[0mbias\u001b[0m \u001b[0;32mis\u001b[0m \u001b[0;32mnot\u001b[0m \u001b[0;32mNone\u001b[0m\u001b[0;34m:\u001b[0m\u001b[0;34m\u001b[0m\u001b[0;34m\u001b[0m\u001b[0m\n\u001b[1;32m   1689\u001b[0m         \u001b[0;31m# fused op is marginally faster\u001b[0m\u001b[0;34m\u001b[0m\u001b[0;34m\u001b[0m\u001b[0;34m\u001b[0m\u001b[0m\n\u001b[0;32m-> 1690\u001b[0;31m         \u001b[0mret\u001b[0m \u001b[0;34m=\u001b[0m \u001b[0mtorch\u001b[0m\u001b[0;34m.\u001b[0m\u001b[0maddmm\u001b[0m\u001b[0;34m(\u001b[0m\u001b[0mbias\u001b[0m\u001b[0;34m,\u001b[0m \u001b[0minput\u001b[0m\u001b[0;34m,\u001b[0m \u001b[0mweight\u001b[0m\u001b[0;34m.\u001b[0m\u001b[0mt\u001b[0m\u001b[0;34m(\u001b[0m\u001b[0;34m)\u001b[0m\u001b[0;34m)\u001b[0m\u001b[0;34m\u001b[0m\u001b[0;34m\u001b[0m\u001b[0m\n\u001b[0m\u001b[1;32m   1691\u001b[0m     \u001b[0;32melse\u001b[0m\u001b[0;34m:\u001b[0m\u001b[0;34m\u001b[0m\u001b[0;34m\u001b[0m\u001b[0m\n\u001b[1;32m   1692\u001b[0m         \u001b[0moutput\u001b[0m \u001b[0;34m=\u001b[0m \u001b[0minput\u001b[0m\u001b[0;34m.\u001b[0m\u001b[0mmatmul\u001b[0m\u001b[0;34m(\u001b[0m\u001b[0mweight\u001b[0m\u001b[0;34m.\u001b[0m\u001b[0mt\u001b[0m\u001b[0;34m(\u001b[0m\u001b[0;34m)\u001b[0m\u001b[0;34m)\u001b[0m\u001b[0;34m\u001b[0m\u001b[0;34m\u001b[0m\u001b[0m\n",
      "\u001b[0;31mRuntimeError\u001b[0m: mat1 and mat2 shapes cannot be multiplied (2x3 and 150x1000)"
     ]
    }
   ],
   "source": []
  },
  {
   "cell_type": "code",
   "execution_count": null,
   "metadata": {},
   "outputs": [],
   "source": []
  }
 ],
 "metadata": {
  "kernelspec": {
   "display_name": "Python 3",
   "language": "python",
   "name": "python3"
  },
  "language_info": {
   "codemirror_mode": {
    "name": "ipython",
    "version": 3
   },
   "file_extension": ".py",
   "mimetype": "text/x-python",
   "name": "python",
   "nbconvert_exporter": "python",
   "pygments_lexer": "ipython3",
   "version": "3.8.10"
  }
 },
 "nbformat": 4,
 "nbformat_minor": 4
}
