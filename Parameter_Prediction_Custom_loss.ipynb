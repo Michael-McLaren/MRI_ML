{
 "cells": [
  {
   "cell_type": "code",
   "execution_count": 1,
   "metadata": {},
   "outputs": [],
   "source": [
    "import torch\n",
    "import torch.nn as nn\n",
    "import torch.optim as optim\n",
    "import torch.utils.data as Data\n",
    "import torch.nn.functional as F\n",
    "\n",
    "from torch.autograd import Variable\n",
    "from torchvision import datasets, transforms\n",
    "\n",
    "import numpy as np\n",
    "import matplotlib.pyplot as plt\n",
    "import scipy.stats as st\n",
    "\n",
    "\n",
    "from tkmodel.TwoCUM_copy import TwoCUMfittingConc\n",
    "from tkmodel.TwoCUM_copy import TwoCUM"
   ]
  },
  {
   "cell_type": "markdown",
   "metadata": {},
   "source": [
    "### Custom Loss"
   ]
  },
  {
   "cell_type": "code",
   "execution_count": 2,
   "metadata": {},
   "outputs": [],
   "source": [
    "def TwoCUM_batch(E, Fp ,vp, AIF1 , t): \n",
    "    batch_size = E.shape[0]\n",
    "    \n",
    "    Tp=(vp/Fp)*(1-E)\n",
    "    #Calculate the IRF\n",
    "    exptTp= torch.exp(-1*t[:,None]/Tp[None,:]) #adding dummy variables so it divides properly\n",
    "\n",
    "    R=exptTp*(1-E) + E\n",
    "\n",
    "    #Calculate the convolution\n",
    "    R = torch.flip(R, (0,)).T #Reshape to fit the the convolution\n",
    "    R = torch.unsqueeze(R, 1)\n",
    "    temp = t[1]*torch.nn.functional.conv1d(AIF1, R, padding = AIF1.shape[2]-1).view(batch_size, -1)\n",
    "    F = Fp.unsqueeze(-1)*temp[:,0:len(t)] #unsqueeze to match dimensions\n",
    "    return F\n",
    "\n",
    "def loss_fn_batch(outputs, targets):\n",
    "    #E, Fp, vp\n",
    "    #time spacings\n",
    "    t = np.arange(0,366,2.45)\n",
    "    t = torch.tensor(t)\n",
    "    \n",
    "    batch_size = outputs[:,0].shape[0]\n",
    "    AIF = torch.from_numpy(np.load(\"data/AIF.npy\"))\n",
    "    AIF1 = AIF.view(1, 1, -1) #reshaped for convolution\n",
    "\n",
    "    \n",
    "    #For outputs\n",
    "    #First calculate the parameter Tp\n",
    "    E, Fp ,vp = outputs[:,0], outputs[:,1], outputs[:,2]\n",
    "    F_out = TwoCUM_batch(E, Fp ,vp, AIF1, t)\n",
    "\n",
    "    \n",
    "    #For targets - copy pasted\n",
    "    E_true, Fp_true ,vp_true = targets[:,0], targets[:,1], targets[:,2]\n",
    "    F_targets = TwoCUM_batch(E_true, Fp_true ,vp_true, AIF1, t)\n",
    "\n",
    "    \n",
    "    MSE = torch.sum((F_out - F_targets)**2)/F_out.shape[1]\n",
    "    return MSE\n",
    "\n",
    "def combined(outputs, targets):\n",
    "    MSE_comb = loss_fn_batch(outputs, targets) + 50*torch.sum((outputs - targets)**2)\n",
    "\n",
    "    return MSE_comb"
   ]
  },
  {
   "cell_type": "markdown",
   "metadata": {},
   "source": [
    "### Distributions"
   ]
  },
  {
   "cell_type": "code",
   "execution_count": 3,
   "metadata": {},
   "outputs": [],
   "source": [
    "def E_distribution(num):\n",
    "    p = 0.09392265193370165\n",
    "    params = (69.70266807226483, 1.0792465008741048, -0.23357477054649745, 0.08955766184221467)\n",
    "    start_nums = int(p*num)\n",
    "    \n",
    "    start = np.random.uniform(low = 0, high= 0.001, size = start_nums)\n",
    "    \n",
    "    dist_num = num - start_nums\n",
    "    gen_data_Fp = st.exponweib.rvs(params[0], params[1], params[2], params[3], size=dist_num)\n",
    "    gen_data_Fp = np.array(gen_data_Fp)\n",
    "    \n",
    "    true_dist = np.concatenate((start, gen_data_Fp), axis=None)\n",
    "    \n",
    "    true_dist[true_dist < 0] = 0.0001\n",
    "\n",
    "    \n",
    "    \n",
    "    return true_dist\n",
    "\n",
    "def Fp_distribution(num):\n",
    "    p = 0.1182\n",
    "    params = (1.064799958220838, 0.0005001496965058328, 0.007151833882619035)\n",
    "    start_nums = int(p*num)\n",
    "    \n",
    "    start = np.random.uniform(low = 0, high= 0.0005, size = start_nums)\n",
    "    \n",
    "    dist_num = num - start_nums\n",
    "    gen_data_Fp = st.weibull_min.rvs(params[0], params[1], params[2], size=dist_num)\n",
    "    gen_data_Fp = np.array(gen_data_Fp)\n",
    "    \n",
    "    true_dist = np.concatenate((gen_data_Fp, start), axis=None)\n",
    "    #true_dist[true_dist > 1] = 0.99\n",
    "\n",
    "    \n",
    "    \n",
    "    return true_dist\n",
    "\n",
    "def vp_distrubition(num):\n",
    "    params = (29572479.030125827, 6450136.935704315, 6450136.715197781)\n",
    "    p = 0.287\n",
    "    endnum = int(p*num)\n",
    "    end = np.random.uniform(low = 0.98, high= 0.99, size = endnum)\n",
    "    \n",
    "    dist_num = num - endnum\n",
    "    gen_data_vp = st.weibull_max.rvs(params[0], params[1], params[2], size=dist_num)\n",
    "    gen_data_vp = np.array(gen_data_vp)\n",
    "    \n",
    "    true_dist = np.concatenate((gen_data_vp, end), axis=None)\n",
    "    true_dist[true_dist > 1] = 0.99\n",
    "    true_dist[true_dist < 0] = 0.011\n",
    "\n",
    "    \n",
    "    \n",
    "    return true_dist"
   ]
  },
  {
   "cell_type": "markdown",
   "metadata": {},
   "source": [
    "### Create Dataloader and Dataset"
   ]
  },
  {
   "cell_type": "code",
   "execution_count": 4,
   "metadata": {},
   "outputs": [
    {
     "data": {
      "text/plain": [
       "(20, 3)"
      ]
     },
     "execution_count": 4,
     "metadata": {},
     "output_type": "execute_result"
    }
   ],
   "source": [
    "def generate_xy(num_curves):\n",
    "    AIF = np.load(\"data/AIF.npy\")\n",
    "    data_size = AIF.shape[0]\n",
    "    t = np.arange(0,366,2.45)\n",
    "\n",
    "    #E = np.random.rand(1,num_curves) #0 to 1 for both E and vp\n",
    "    #vp = np.random.rand(1,num_curves)\n",
    "    #Fp = np.random.rand(1,num_curves) #this will be multplied by 1e-5 to get the right scale at the end\n",
    "    \n",
    "    E = E_distribution(num_curves) \n",
    "    Fp = Fp_distribution(num_curves)\n",
    "    vp = vp_distrubition(num_curves)\n",
    "\n",
    "    E = E[None,:]\n",
    "    Fp = Fp[None,:]\n",
    "    vp = vp[None,:]\n",
    "\n",
    "\n",
    "\n",
    "    \n",
    "    E_Fp = np.concatenate((E, Fp), axis =0)\n",
    "    y = np.concatenate((E_Fp, vp), axis =0)\n",
    "\n",
    "\n",
    "    x = np.zeros((num_curves, data_size))\n",
    "    for i in range(num_curves):\n",
    "        x[i] = TwoCUM(y[:,i], t, AIF, 0)\n",
    "\n",
    "    y = y.T \n",
    "    \n",
    "    return x,y\n",
    "\n",
    "\n",
    "def create_dataloader(x, y, batch_size):\n",
    "    \n",
    "    x = torch.from_numpy(x).float()\n",
    "    y = torch.from_numpy(y).float()\n",
    "\n",
    "    \n",
    "    torch_dataset = Data.TensorDataset(x, y) \n",
    "\n",
    "    dataloader = Data.DataLoader(torch_dataset, batch_size=batch_size, shuffle=True) \n",
    "    \n",
    "    return dataloader\n",
    "\n",
    "\n",
    "x, y = generate_xy(20)\n",
    "y.shape"
   ]
  },
  {
   "cell_type": "markdown",
   "metadata": {},
   "source": [
    "### Define Network"
   ]
  },
  {
   "cell_type": "code",
   "execution_count": 5,
   "metadata": {},
   "outputs": [],
   "source": [
    "class Net(nn.Module):\n",
    "    def __init__(self):\n",
    "        super(Net, self).__init__()\n",
    "        self.hidden = torch.nn.Linear(150, 1000) \n",
    "        self.bn1 = nn.BatchNorm1d(1000)\n",
    "        self.hidden2 = torch.nn.Linear(1000, 200) \n",
    "        self.bn2 = nn.BatchNorm1d(200)\n",
    "        self.hidden3 = torch.nn.Linear(200, 200)\n",
    "        self.bn3 = nn.BatchNorm1d(200)\n",
    "        self.hidden4 = torch.nn.Linear(200, 200)\n",
    "        self.bn4 = nn.BatchNorm1d(200)\n",
    "        self.hidden5 = torch.nn.Linear(200, 200)\n",
    "        self.bn5 = nn.BatchNorm1d(200)\n",
    "        self.predict = torch.nn.Linear(200, 3)\n",
    "        self.bound = torch.nn.Sigmoid()\n",
    "\n",
    "    def forward(self, x):\n",
    "        x = F.relu(self.bn1(self.hidden(x)) )     \n",
    "        x = F.relu(self.bn2(self.hidden2(x)))\n",
    "        x = F.relu(self.bn3(self.hidden3(x)))\n",
    "        x = F.relu(self.bn4(self.hidden4(x)))\n",
    "        x = F.relu(self.bn5(self.hidden5(x)))\n",
    "        x = self.predict(x) \n",
    "        x = self.bound(x)\n",
    "        return x\n",
    "\n",
    "net = Net()"
   ]
  },
  {
   "cell_type": "markdown",
   "metadata": {},
   "source": [
    "### Training Steps"
   ]
  },
  {
   "cell_type": "code",
   "execution_count": 6,
   "metadata": {},
   "outputs": [],
   "source": [
    "def train(model, x, y, optimiser, criterion):\n",
    "    model.train()\n",
    "    model.zero_grad()\n",
    "    output = model(x)\n",
    "    loss = criterion(output, y)\n",
    "    loss.backward()\n",
    "    optimiser.step()\n",
    "       \n",
    "    return loss, output\n",
    "\n",
    "def test(model, x, y, criterion):\n",
    "    with torch.no_grad():\n",
    "        model.eval()\n",
    "        output = model(x)\n",
    "        loss = criterion(output, y)\n",
    "\n",
    "    return loss, output\n",
    "\n",
    "def normalise(x):\n",
    "    x_trans = ( (x - x.mean() )/ x.std())\n",
    "    return x_trans"
   ]
  },
  {
   "cell_type": "markdown",
   "metadata": {},
   "source": [
    "### Run Training"
   ]
  },
  {
   "cell_type": "code",
   "execution_count": 7,
   "metadata": {},
   "outputs": [],
   "source": [
    "#generate and normalise data\n",
    "#training set\n",
    "num_curves = 10000\n",
    "x,y = generate_xy(num_curves)\n",
    "x = normalise(x)\n",
    "\n",
    "#validation set\n",
    "x_val,y_val = generate_xy(int(num_curves/3))\n",
    "x_val = normalise(x_val)\n"
   ]
  },
  {
   "cell_type": "code",
   "execution_count": 8,
   "metadata": {},
   "outputs": [
    {
     "name": "stdout",
     "output_type": "stream",
     "text": [
      "0\n",
      "1\n",
      "2\n",
      "3\n",
      "4\n",
      "5\n",
      "6\n",
      "7\n",
      "8\n",
      "9\n",
      "10\n",
      "11\n",
      "12\n",
      "13\n",
      "14\n",
      "15\n",
      "16\n",
      "17\n",
      "18\n",
      "19\n",
      "20\n",
      "21\n",
      "22\n",
      "23\n",
      "24\n",
      "25\n",
      "26\n"
     ]
    }
   ],
   "source": [
    "\n",
    "epochs = 27\n",
    "batch_size = 50\n",
    "optimiser = optimiser = optim.AdamW(net.parameters(), lr=0.001, betas=(0.9, 0.999), eps=1e-8)\n",
    "\n",
    "criterion = combined\n",
    "loss_plot = np.empty(epochs)\n",
    "loss_val_plot = np.empty(epochs)\n",
    "\n",
    "dataloader = create_dataloader(x, y, batch_size)\n",
    "dataloader_val = create_dataloader(x_val, y_val, batch_size*5)\n",
    "for epoch in range(epochs):\n",
    "\n",
    "    for i, (train_x, train_y) in enumerate(dataloader):\n",
    "        loss, predictions = train(net, train_x, train_y, optimiser, criterion)\n",
    "    \n",
    "    for i, (val_x, val_y) in enumerate(dataloader_val):\n",
    "        loss_val, predictions_val = test(net, val_x, val_y, criterion)\n",
    "        \n",
    "    if epoch % 1 == 0:\n",
    "        print(epoch)\n",
    "        \n",
    "    loss_plot[epoch] = loss.detach().numpy() \n",
    "    loss_val_plot[epoch] = loss_val.detach().numpy()\n"
   ]
  },
  {
   "cell_type": "code",
   "execution_count": 10,
   "metadata": {},
   "outputs": [
    {
     "name": "stdout",
     "output_type": "stream",
     "text": [
      "18.063064497278553 1009.8476339171272\n",
      "nan nan\n",
      "tensor(278.3823, dtype=torch.float64)\n"
     ]
    },
    {
     "data": {
      "text/plain": [
       "Text(0, 0.5, 'Loss')"
      ]
     },
     "execution_count": 10,
     "metadata": {},
     "output_type": "execute_result"
    },
    {
     "data": {
      "image/png": "[encoded data removed]",
      "text/plain": [
       "<Figure size 432x288 with 1 Axes>"
      ]
     },
     "metadata": {
      "needs_background": "light"
     },
     "output_type": "display_data"
    }
   ],
   "source": [
    "print(loss_plot.min(), loss_plot.max())\n",
    "print(loss_val_plot.min(), loss_val_plot.max())\n",
    "print(loss_val)\n",
    "\n",
    "plt.plot(loss_plot, label = 'training')\n",
    "plt.plot(loss_val_plot, label = 'val')\n",
    "plt.legend()\n",
    "plt.xlabel(\"Epoch\")\n",
    "plt.ylabel(\"Loss\")"
   ]
  },
  {
   "cell_type": "markdown",
   "metadata": {},
   "source": [
    "### Testing\n",
    "##### Tested using the training data (usually use a seperate testing dataset)"
   ]
  },
  {
   "cell_type": "code",
   "execution_count": 11,
   "metadata": {},
   "outputs": [],
   "source": [
    "def plot_curves(prediction, target, AIF, t):\n",
    "    predicted_curve = TwoCUM(prediction.detach().numpy(), t, AIF, 0)\n",
    "    target_curve = TwoCUM(target.detach().numpy(), t, AIF, 0)\n",
    "    \n",
    "    plt.plot(t, predicted_curve, label = 'Prediction')\n",
    "    plt.plot(t, target_curve, label = 'Target')\n",
    "    plt.legend()\n",
    "    plt.show()"
   ]
  },
  {
   "cell_type": "code",
   "execution_count": 11,
   "metadata": {},
   "outputs": [
    {
     "name": "stdout",
     "output_type": "stream",
     "text": [
      "tensor([[-1.1165, -1.1165, -1.1165,  ..., -1.1078, -1.1078, -1.1077],\n",
      "        [-1.1197, -1.1207, -1.1217,  ...,  0.5207,  0.5300,  0.5466],\n",
      "        [-1.1211, -1.1229, -1.1246,  ...,  1.8263,  1.8380,  1.8607],\n",
      "        ...,\n",
      "        [-1.1235, -1.1261, -1.1286,  ...,  2.1707,  2.1838,  2.2133],\n",
      "        [-1.1228, -1.1252, -1.1275,  ...,  1.0254,  1.0316,  1.0527],\n",
      "        [-1.1167, -1.1168, -1.1168,  ..., -0.7721, -0.7706, -0.7686]])\n",
      "\n",
      " test\n"
     ]
    },
    {
     "data": {
      "image/png": "[encoded data removed]",
      "text/plain": [
       "<Figure size 432x288 with 1 Axes>"
      ]
     },
     "metadata": {
      "needs_background": "light"
     },
     "output_type": "display_data"
    },
    {
     "name": "stdout",
     "output_type": "stream",
     "text": [
      "prediction:  [0.14470856 0.02317775 0.05890596] \n",
      "true:  [0.14482471 0.02223761 0.08426256]\n",
      "\n",
      " train\n"
     ]
    },
    {
     "data": {
      "image/png": "[encoded data removed]",
      "text/plain": [
       "<Figure size 432x288 with 1 Axes>"
      ]
     },
     "metadata": {
      "needs_background": "light"
     },
     "output_type": "display_data"
    },
    {
     "name": "stdout",
     "output_type": "stream",
     "text": [
      "prediction:  [0.1354621  0.00781505 0.23243466] \n",
      "true:  [0.13403168 0.00787435 0.23385352]\n",
      "\n",
      " val\n"
     ]
    },
    {
     "data": {
      "image/png": "[encoded data removed]",
      "text/plain": [
       "<Figure size 432x288 with 1 Axes>"
      ]
     },
     "metadata": {
      "needs_background": "light"
     },
     "output_type": "display_data"
    },
    {
     "name": "stdout",
     "output_type": "stream",
     "text": [
      "prediction:  [0.01592095 0.00089342 0.80555314] \n",
      "true:  [7.715993e-02 6.747175e-04 9.824971e-01]\n"
     ]
    }
   ],
   "source": [
    "AIF = np.load(\"data/AIF.npy\")\n",
    "t = np.arange(0,366,2.45)\n",
    "\n",
    "xt,yt = generate_xy(100)\n",
    "\n",
    "xt = normalise(xt)\n",
    "\n",
    "dataloader_test = create_dataloader(xt, yt, 50)\n",
    "\n",
    "\n",
    "for i, (test_x, test_y) in enumerate(dataloader_test):\n",
    "    j = np.random.randint(0 ,test_x.shape[0])\n",
    "    prediction_test = net(test_x)\n",
    "    print(test_x)\n",
    "    print('\\n test')\n",
    "    plot_curves(prediction_test[j], test_y[j], AIF, t)\n",
    "    print('prediction: ', prediction_test[j].detach().numpy(),'\\ntrue: ', test_y[j].detach().numpy())\n",
    "    \n",
    "    break\n",
    "    \n",
    "for i, (train_x, train_y) in enumerate(dataloader):\n",
    "    j = np.random.randint(0 ,train_x.shape[0])\n",
    "    prediction = net(train_x)\n",
    "    print('\\n train')\n",
    "\n",
    "    plot_curves(prediction[j], train_y[j], AIF, t)\n",
    "    print('prediction: ',prediction[j].detach().numpy(), '\\ntrue: ',train_y[j].detach().numpy())\n",
    "        \n",
    "    break\n",
    "    \n",
    "for i, (val_x, val_y) in enumerate(dataloader_val):\n",
    "    j = np.random.randint(0 ,val_x.shape[0])\n",
    "    prediction_val = net(val_x)\n",
    "    print('\\n val')\n",
    "\n",
    "    plot_curves(prediction_val[j], val_y[j], AIF, t)\n",
    "    print('prediction: ',prediction_val[j].detach().numpy(), '\\ntrue: ',val_y[j].detach().numpy())\n",
    "        \n",
    "    break"
   ]
  },
  {
   "cell_type": "markdown",
   "metadata": {},
   "source": [
    "### Results log\n"
   ]
  },
  {
   "cell_type": "code",
   "execution_count": 12,
   "metadata": {},
   "outputs": [],
   "source": [
    "AIF = np.load(\"data/AIF.npy\")\n",
    "series = np.load(\"data/Example_Conc.npy\")"
   ]
  },
  {
   "cell_type": "code",
   "execution_count": 19,
   "metadata": {},
   "outputs": [
    {
     "name": "stdout",
     "output_type": "stream",
     "text": [
      "(2, 150) (2, 3)\n",
      "torch.Size([2, 150])\n",
      "torch.Size([2, 3])\n",
      "\n",
      " real\n"
     ]
    },
    {
     "data": {
      "image/png": "[encoded data removed]",
      "text/plain": [
       "<Figure size 432x288 with 1 Axes>"
      ]
     },
     "metadata": {
      "needs_background": "light"
     },
     "output_type": "display_data"
    },
    {
     "name": "stdout",
     "output_type": "stream",
     "text": [
      "prediction:  [0.0000000e+00 1.1552551e-23 1.0000000e+00] \n",
      "true:  [0.13459004 0.00029181 0.02      ]\n"
     ]
    },
    {
     "data": {
      "text/plain": [
       "<Figure size 432x288 with 0 Axes>"
      ]
     },
     "metadata": {},
     "output_type": "display_data"
    }
   ],
   "source": [
    "t = np.arange(0,366,2.45)\n",
    "i = 112\n",
    "j = 80\n",
    "k = 10\n",
    "points1 = series[i:i+2,j,k,:]\n",
    "\n",
    "xpoints = normalise(points1)\n",
    "#prediction_points = net(xpoints)\n",
    "fitted_param1 = TwoCUMfittingConc(t, AIF, series[i,j,k,:] , 0)\n",
    "fitted_param2 = TwoCUMfittingConc(t, AIF, series[i+1,j,k,:] , 0)\n",
    "fitted_param1 = fitted_param1[None,:3]\n",
    "fitted_param2 = fitted_param2[None,:3]\n",
    "ypoints = np.concatenate((fitted_param1, fitted_param2), axis = 0)\n",
    "\n",
    "print(xpoints.shape, ypoints.shape)\n",
    "dataloader_real = create_dataloader(xpoints, ypoints, 2)\n",
    "\n",
    "for i, (test_x, test_y) in enumerate(dataloader_real):\n",
    "    print(test_x.shape)\n",
    "    prediction_test = net(test_x)\n",
    "    print(prediction_test.shape)\n",
    "    print('\\n real')\n",
    "    \n",
    "    predicted_curve = TwoCUM(prediction_test[0].detach().numpy(), t, AIF, 0)\n",
    "    target_curve = TwoCUM(test_y[0].detach().numpy(), t, AIF, 0)\n",
    "\n",
    "    plt.plot(t, predicted_curve, label = 'Prediction')\n",
    "    plt.plot(t, target_curve, label = 'Target')\n",
    "    plt.legend()\n",
    "    plt.scatter(t, points1[0,:])\n",
    "    plt.savefig('plots/test_example')\n",
    "    plt.show()\n",
    "    plt.clf()\n",
    "    print('prediction: ', prediction_test[0].detach().numpy(),'\\ntrue: ', test_y[0].detach().numpy())\n",
    "    \n",
    "\n",
    "    \n",
    "    break"
   ]
  },
  {
   "cell_type": "code",
   "execution_count": 18,
   "metadata": {},
   "outputs": [
    {
     "data": {
      "image/png": "[encoded data removed]",
      "text/plain": [
       "<Figure size 432x288 with 1 Axes>"
      ]
     },
     "metadata": {
      "needs_background": "light"
     },
     "output_type": "display_data"
    },
    {
     "data": {
      "image/png": "[encoded data removed]",
      "text/plain": [
       "<Figure size 432x288 with 1 Axes>"
      ]
     },
     "metadata": {
      "needs_background": "light"
     },
     "output_type": "display_data"
    },
    {
     "ename": "ValueError",
     "evalue": "All-NaN slice encountered",
     "output_type": "error",
     "traceback": [
      "\u001b[0;31m---------------------------------------------------------------------------\u001b[0m",
      "\u001b[0;31mValueError\u001b[0m                                Traceback (most recent call last)",
      "\u001b[0;32m<ipython-input-18-78766c6ee5f5>\u001b[0m in \u001b[0;36m<module>\u001b[0;34m\u001b[0m\n\u001b[1;32m      7\u001b[0m \u001b[0mplt\u001b[0m\u001b[0;34m.\u001b[0m\u001b[0mclf\u001b[0m\u001b[0;34m(\u001b[0m\u001b[0;34m)\u001b[0m\u001b[0;34m\u001b[0m\u001b[0;34m\u001b[0m\u001b[0m\n\u001b[1;32m      8\u001b[0m \u001b[0;34m\u001b[0m\u001b[0m\n\u001b[0;32m----> 9\u001b[0;31m \u001b[0mfitted_param\u001b[0m \u001b[0;34m=\u001b[0m \u001b[0mTwoCUMfittingConc\u001b[0m\u001b[0;34m(\u001b[0m\u001b[0mt\u001b[0m\u001b[0;34m,\u001b[0m \u001b[0mAIF\u001b[0m\u001b[0;34m,\u001b[0m \u001b[0mseries\u001b[0m\u001b[0;34m[\u001b[0m\u001b[0mi\u001b[0m\u001b[0;34m,\u001b[0m\u001b[0mj\u001b[0m\u001b[0;34m,\u001b[0m\u001b[0mk\u001b[0m\u001b[0;34m,\u001b[0m\u001b[0;34m:\u001b[0m\u001b[0;34m]\u001b[0m \u001b[0;34m,\u001b[0m \u001b[0;36m0\u001b[0m\u001b[0;34m)\u001b[0m\u001b[0;34m\u001b[0m\u001b[0;34m\u001b[0m\u001b[0m\n\u001b[0m\u001b[1;32m     10\u001b[0m \u001b[0mpos\u001b[0m \u001b[0;34m=\u001b[0m \u001b[0mnp\u001b[0m\u001b[0;34m.\u001b[0m\u001b[0mrandom\u001b[0m\u001b[0;34m.\u001b[0m\u001b[0mchoice\u001b[0m\u001b[0;34m(\u001b[0m\u001b[0mnp\u001b[0m\u001b[0;34m.\u001b[0m\u001b[0marange\u001b[0m\u001b[0;34m(\u001b[0m\u001b[0mlen\u001b[0m\u001b[0;34m(\u001b[0m\u001b[0mkeys\u001b[0m\u001b[0;34m)\u001b[0m\u001b[0;34m)\u001b[0m\u001b[0;34m)\u001b[0m\u001b[0;34m\u001b[0m\u001b[0;34m\u001b[0m\u001b[0m\n\u001b[1;32m     11\u001b[0m \u001b[0mparameters\u001b[0m \u001b[0;34m=\u001b[0m \u001b[0mpara_dict\u001b[0m\u001b[0;34m[\u001b[0m\u001b[0mkeys\u001b[0m\u001b[0;34m[\u001b[0m\u001b[0mpos\u001b[0m\u001b[0;34m]\u001b[0m\u001b[0;34m]\u001b[0m\u001b[0;34m\u001b[0m\u001b[0;34m\u001b[0m\u001b[0m\n",
      "\u001b[0;32m~/MRI_ML/tkmodel/TwoCUM_copy.py\u001b[0m in \u001b[0;36mTwoCUMfittingConc\u001b[0;34m(t, AIF, uptake, toff, plot)\u001b[0m\n\u001b[1;32m    114\u001b[0m \u001b[0;34m\u001b[0m\u001b[0m\n\u001b[1;32m    115\u001b[0m \u001b[0;34m\u001b[0m\u001b[0m\n\u001b[0;32m--> 116\u001b[0;31m     \u001b[0mbestindex\u001b[0m\u001b[0;34m=\u001b[0m\u001b[0mnp\u001b[0m\u001b[0;34m.\u001b[0m\u001b[0mnanargmin\u001b[0m\u001b[0;34m(\u001b[0m\u001b[0mresultsmatrix\u001b[0m\u001b[0;34m[\u001b[0m\u001b[0;34m:\u001b[0m\u001b[0;34m,\u001b[0m\u001b[0;36m3\u001b[0m\u001b[0;34m]\u001b[0m\u001b[0;34m)\u001b[0m\u001b[0;34m\u001b[0m\u001b[0;34m\u001b[0m\u001b[0m\n\u001b[0m\u001b[1;32m    117\u001b[0m     \u001b[0mbestresult\u001b[0m\u001b[0;34m=\u001b[0m\u001b[0mresultsmatrix\u001b[0m\u001b[0;34m[\u001b[0m\u001b[0mbestindex\u001b[0m\u001b[0;34m,\u001b[0m\u001b[0;34m:\u001b[0m\u001b[0;34m]\u001b[0m\u001b[0;34m\u001b[0m\u001b[0;34m\u001b[0m\u001b[0m\n\u001b[1;32m    118\u001b[0m     \u001b[0;31m#print(bestresult)\u001b[0m\u001b[0;34m\u001b[0m\u001b[0;34m\u001b[0m\u001b[0;34m\u001b[0m\u001b[0m\n",
      "\u001b[0;32m<__array_function__ internals>\u001b[0m in \u001b[0;36mnanargmin\u001b[0;34m(*args, **kwargs)\u001b[0m\n",
      "\u001b[0;32m/usr/lib/python3/dist-packages/numpy/lib/nanfunctions.py\u001b[0m in \u001b[0;36mnanargmin\u001b[0;34m(a, axis)\u001b[0m\n\u001b[1;32m    498\u001b[0m         \u001b[0mmask\u001b[0m \u001b[0;34m=\u001b[0m \u001b[0mnp\u001b[0m\u001b[0;34m.\u001b[0m\u001b[0mall\u001b[0m\u001b[0;34m(\u001b[0m\u001b[0mmask\u001b[0m\u001b[0;34m,\u001b[0m \u001b[0maxis\u001b[0m\u001b[0;34m=\u001b[0m\u001b[0maxis\u001b[0m\u001b[0;34m)\u001b[0m\u001b[0;34m\u001b[0m\u001b[0;34m\u001b[0m\u001b[0m\n\u001b[1;32m    499\u001b[0m         \u001b[0;32mif\u001b[0m \u001b[0mnp\u001b[0m\u001b[0;34m.\u001b[0m\u001b[0many\u001b[0m\u001b[0;34m(\u001b[0m\u001b[0mmask\u001b[0m\u001b[0;34m)\u001b[0m\u001b[0;34m:\u001b[0m\u001b[0;34m\u001b[0m\u001b[0;34m\u001b[0m\u001b[0m\n\u001b[0;32m--> 500\u001b[0;31m             \u001b[0;32mraise\u001b[0m \u001b[0mValueError\u001b[0m\u001b[0;34m(\u001b[0m\u001b[0;34m\"All-NaN slice encountered\"\u001b[0m\u001b[0;34m)\u001b[0m\u001b[0;34m\u001b[0m\u001b[0;34m\u001b[0m\u001b[0m\n\u001b[0m\u001b[1;32m    501\u001b[0m     \u001b[0;32mreturn\u001b[0m \u001b[0mres\u001b[0m\u001b[0;34m\u001b[0m\u001b[0;34m\u001b[0m\u001b[0m\n\u001b[1;32m    502\u001b[0m \u001b[0;34m\u001b[0m\u001b[0m\n",
      "\u001b[0;31mValueError\u001b[0m: All-NaN slice encountered"
     ]
    },
    {
     "data": {
      "text/plain": [
       "<Figure size 432x288 with 0 Axes>"
      ]
     },
     "metadata": {},
     "output_type": "display_data"
    }
   ],
   "source": [
    "\n",
    "plt.scatter(t, points1[0,:])\n",
    "plt.show()\n",
    "plt.clf()\n",
    "\n",
    "plt.scatter(t, points1[1,:])\n",
    "plt.show()\n",
    "plt.clf()\n",
    "\n",
    "fitted_param = TwoCUMfittingConc(t, AIF, series[i,j,k,:] , 0)\n",
    "pos = np.random.choice(np.arange(len(keys)))\n",
    "parameters = para_dict[keys[pos]]\n",
    "pk = np.array(parameters)\n",
    "predicted_curve = TwoCUM(pk, t, AIF, 0)\n",
    "plt.plot(t, predicted_curve)\n",
    "\n",
    "points = series[keys[pos][0],keys[pos][1],keys[pos][2],:]\n",
    "plt.scatter(t, points)"
   ]
  },
  {
   "cell_type": "code",
   "execution_count": 26,
   "metadata": {},
   "outputs": [
    {
     "name": "stdout",
     "output_type": "stream",
     "text": [
      "torch.Size([1, 150])\n",
      "tensor([[0.0588, 0.0213, 0.2465]], grad_fn=<SigmoidBackward>)\n"
     ]
    }
   ],
   "source": [
    "i = 112\n",
    "j = 80\n",
    "k = 10\n",
    "point = series[i,j,k,:]\n",
    "input_x = torch.tensor(point)\n",
    "input_x = input_x.unsqueeze(0)\n",
    "input_x = input_x.float()\n",
    "print(input_x.shape)\n",
    "prediction_test = net.forward(input_x)\n",
    "print(prediction_test)"
   ]
  },
  {
   "cell_type": "code",
   "execution_count": 28,
   "metadata": {},
   "outputs": [
    {
     "data": {
      "text/plain": [
       "(2, 3)"
      ]
     },
     "execution_count": 28,
     "metadata": {},
     "output_type": "execute_result"
    }
   ],
   "source": [
    "a = np.array([[11, 22, 33],[44, 55 ,66]])\n",
    "a.shape"
   ]
  },
  {
   "cell_type": "code",
   "execution_count": null,
   "metadata": {},
   "outputs": [],
   "source": []
  }
 ],
 "metadata": {
  "kernelspec": {
   "display_name": "Python 3",
   "language": "python",
   "name": "python3"
  },
  "language_info": {
   "codemirror_mode": {
    "name": "ipython",
    "version": 3
   },
   "file_extension": ".py",
   "mimetype": "text/x-python",
   "name": "python",
   "nbconvert_exporter": "python",
   "pygments_lexer": "ipython3",
   "version": "3.8.10"
  }
 },
 "nbformat": 4,
 "nbformat_minor": 4
}
