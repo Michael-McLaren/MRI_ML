{
 "cells": [
  {
   "cell_type": "code",
   "execution_count": 4,
   "metadata": {},
   "outputs": [],
   "source": [
    "import torch\n",
    "import torch.nn as nn\n",
    "import torch.optim as optim\n",
    "import torch.utils.data as Data\n",
    "import torch.nn.functional as F\n",
    "\n",
    "from torch.autograd import Variable\n",
    "from torchvision import datasets, transforms\n",
    "\n",
    "import numpy as np\n",
    "import matplotlib.pyplot as plt\n",
    "\n",
    "from tkmodel.TwoCUM_copy import TwoCUMfittingConc\n",
    "from tkmodel.TwoCUM_copy import TwoCUM"
   ]
  },
  {
   "cell_type": "markdown",
   "metadata": {},
   "source": [
    "### Create Dataloader and Dataset"
   ]
  },
  {
   "cell_type": "code",
   "execution_count": 11,
   "metadata": {},
   "outputs": [],
   "source": [
    "def generate_xy(num_curves):\n",
    "    AIF = np.load(\"data/AIF.npy\")\n",
    "    data_size = AIF.shape[0]\n",
    "    t = np.arange(0,366,2.45)\n",
    "\n",
    "    E = np.random.rand(1,num_curves) #0 to 1 for both E and vp\n",
    "    vp = np.random.rand(1,num_curves)\n",
    "    Fp = np.random.rand(1,num_curves) #this will be multplied by 1e-5 to get the right scale at the end\n",
    "    \n",
    "    E_Fp = np.concatenate((E, Fp), axis =0)\n",
    "    y = np.concatenate((E_Fp, vp), axis =0)\n",
    "\n",
    "\n",
    "    x = np.zeros((num_curves, data_size))\n",
    "    for i in range(num_curves):\n",
    "        x[i] = TwoCUM(y[:,i], t, AIF, 0)\n",
    "\n",
    "    y = y.T \n",
    "    \n",
    "    return x,y\n",
    "\n",
    "\n",
    "def create_dataloader(x, y, batch_size):\n",
    "    \n",
    "    x = torch.from_numpy(x).float()\n",
    "    y = torch.from_numpy(y).float()\n",
    "\n",
    "    \n",
    "    torch_dataset = Data.TensorDataset(x, y) \n",
    "\n",
    "    dataloader = Data.DataLoader(torch_dataset, batch_size=batch_size, shuffle=True) \n",
    "    \n",
    "    return dataloader"
   ]
  },
  {
   "cell_type": "markdown",
   "metadata": {},
   "source": [
    "### Define Network"
   ]
  },
  {
   "cell_type": "code",
   "execution_count": 12,
   "metadata": {},
   "outputs": [],
   "source": [
    "class Net(nn.Module):\n",
    "    def __init__(self):\n",
    "        super(Net, self).__init__()\n",
    "        self.hidden = torch.nn.Linear(150, 1000)   \n",
    "        self.hidden2 = torch.nn.Linear(1000, 200)   \n",
    "        self.hidden3 = torch.nn.Linear(200, 50)\n",
    "        self.hidden4 = torch.nn.Linear(50, 300)\n",
    "        self.hidden5 = torch.nn.Linear(300, 200)\n",
    "        self.predict = torch.nn.Linear(200, 3)\n",
    "\n",
    "    def forward(self, x):\n",
    "        x = F.relu(self.hidden(x))      \n",
    "        x = F.relu(self.hidden2(x))\n",
    "        x = F.relu(self.hidden3(x))\n",
    "        x = F.relu(self.hidden4(x))\n",
    "        x = F.relu(self.hidden5(x))\n",
    "        x = self.predict(x)            \n",
    "        return x\n",
    "\n",
    "net = Net()"
   ]
  },
  {
   "cell_type": "markdown",
   "metadata": {},
   "source": [
    "### Training Steps"
   ]
  },
  {
   "cell_type": "code",
   "execution_count": 13,
   "metadata": {},
   "outputs": [],
   "source": [
    "def train(model, x, y, optimiser, criterion):\n",
    "    model.zero_grad()\n",
    "    output = model(x)\n",
    "    loss = criterion(output, y)\n",
    "    loss.backward()\n",
    "    optimiser.step()\n",
    "       \n",
    "    return loss, output"
   ]
  },
  {
   "cell_type": "markdown",
   "metadata": {},
   "source": [
    "### Run Training"
   ]
  },
  {
   "cell_type": "code",
   "execution_count": 15,
   "metadata": {},
   "outputs": [
    {
     "name": "stdout",
     "output_type": "stream",
     "text": [
      "(10000, 150)\n",
      "589.4828795085618 -0.5419388207959205 79.20287382534497 93.85160071941883\n",
      "5.437094325207763 -0.8496904904642814 -3.192421142254413e-16 0.9999999999999997\n"
     ]
    }
   ],
   "source": [
    "#generate data\n",
    "num_curves = 10000\n",
    "x,y = generate_xy(num_curves)\n",
    "print(x.shape)\n",
    "print(x.max(), x.min(), x.mean(), x.std())\n",
    "x_trans = ( (x - x.mean() )/ x.std())\n",
    "x= x_trans\n",
    "print(x_trans.max(), x_trans.min(), x_trans.mean(), x_trans.std())\n",
    "\n"
   ]
  },
  {
   "cell_type": "code",
   "execution_count": 23,
   "metadata": {},
   "outputs": [
    {
     "name": "stdout",
     "output_type": "stream",
     "text": [
      "0\n",
      "1\n",
      "2\n",
      "3\n",
      "4\n",
      "5\n",
      "6\n",
      "7\n",
      "8\n",
      "9\n",
      "10\n",
      "11\n",
      "12\n",
      "13\n",
      "14\n",
      "15\n",
      "16\n",
      "17\n",
      "18\n",
      "19\n",
      "20\n",
      "21\n",
      "22\n",
      "23\n",
      "24\n",
      "25\n",
      "26\n",
      "27\n",
      "28\n",
      "29\n",
      "30\n",
      "31\n",
      "32\n",
      "33\n",
      "34\n",
      "35\n",
      "36\n",
      "37\n",
      "38\n",
      "39\n",
      "40\n",
      "41\n",
      "42\n",
      "43\n",
      "44\n",
      "45\n",
      "46\n",
      "47\n",
      "48\n",
      "49\n",
      "50\n",
      "51\n",
      "52\n",
      "53\n",
      "54\n",
      "55\n",
      "56\n",
      "57\n",
      "58\n",
      "59\n",
      "60\n",
      "61\n",
      "62\n",
      "63\n",
      "64\n",
      "65\n",
      "66\n",
      "67\n",
      "68\n",
      "69\n",
      "70\n",
      "71\n",
      "72\n",
      "73\n",
      "74\n",
      "75\n",
      "76\n",
      "77\n",
      "78\n",
      "79\n",
      "80\n",
      "81\n",
      "82\n",
      "83\n",
      "84\n",
      "85\n",
      "86\n",
      "87\n",
      "88\n",
      "89\n",
      "90\n",
      "91\n",
      "92\n",
      "93\n",
      "94\n",
      "95\n",
      "96\n",
      "97\n",
      "98\n",
      "99\n"
     ]
    }
   ],
   "source": [
    "\n",
    "epochs = 100\n",
    "batch_size = 50\n",
    "optimiser = optimiser = optim.Adam(net.parameters(), lr=0.00001, betas=(0.9, 0.999), eps=1e-8)\n",
    "\n",
    "criterion = nn.MSELoss()\n",
    "loss_plot = np.empty(epochs)\n",
    "\n",
    "dataloader = create_dataloader(x, y, batch_size)\n",
    "for epoch in range(epochs):\n",
    "    print(epoch)\n",
    "    for i, (train_x, train_y) in enumerate(dataloader):\n",
    "        loss, predictions = train(net, train_x, train_y, optimiser, criterion)\n",
    "        \n",
    "    loss_plot[epoch] = loss.detach().numpy()\n"
   ]
  },
  {
   "cell_type": "code",
   "execution_count": 24,
   "metadata": {},
   "outputs": [
    {
     "name": "stdout",
     "output_type": "stream",
     "text": [
      "0.01921347714960575\n"
     ]
    },
    {
     "data": {
      "text/plain": [
       "Text(0, 0.5, 'Loss')"
      ]
     },
     "execution_count": 24,
     "metadata": {},
     "output_type": "execute_result"
    },
    {
     "data": {
      "image/png": "[encoded data removed]",
      "text/plain": [
       "<Figure size 432x288 with 1 Axes>"
      ]
     },
     "metadata": {
      "needs_background": "light"
     },
     "output_type": "display_data"
    }
   ],
   "source": [
    "print(loss_plot.min())\n",
    "plt.plot(loss_plot)\n",
    "plt.xlabel(\"Epoch\")\n",
    "plt.ylabel(\"Loss\")"
   ]
  },
  {
   "cell_type": "markdown",
   "metadata": {},
   "source": [
    "### Testing\n",
    "##### Tested using the training data (usually use a seperate testing dataset)"
   ]
  },
  {
   "cell_type": "code",
   "execution_count": 25,
   "metadata": {},
   "outputs": [],
   "source": [
    "def plot_curves(prediction, target, AIF, t):\n",
    "    print(prediction.detach().numpy())\n",
    "    predicted_curve = TwoCUM(prediction.detach().numpy(), t, AIF, 0)\n",
    "    target_curve = TwoCUM(target.detach().numpy(), t, AIF, 0)\n",
    "    \n",
    "    plt.plot(t, predicted_curve, label = 'Prediction')\n",
    "    plt.plot(t, target_curve, label = 'Target')\n",
    "    plt.legend()\n",
    "    plt.show()"
   ]
  },
  {
   "cell_type": "code",
   "execution_count": 44,
   "metadata": {},
   "outputs": [
    {
     "name": "stdout",
     "output_type": "stream",
     "text": [
      "[0.29660475 0.8403034  0.51255405]\n"
     ]
    },
    {
     "data": {
      "image/png": "[encoded data removed]",
      "text/plain": [
       "<Figure size 432x288 with 1 Axes>"
      ]
     },
     "metadata": {
      "needs_background": "light"
     },
     "output_type": "display_data"
    },
    {
     "name": "stdout",
     "output_type": "stream",
     "text": [
      "tensor([0.2966, 0.8403, 0.5126], grad_fn=<AddBackward0>) tensor([0.2990, 0.8263, 0.8753])\n"
     ]
    }
   ],
   "source": [
    "AIF = np.load(\"data/AIF.npy\")\n",
    "t = np.arange(0,366,2.45)\n",
    "\n",
    "#unseen data\n",
    "# x,y = generate_xy(10)\n",
    "# x = torch.from_numpy(x).float()\n",
    "# y = torch.from_numpy(y).float()\n",
    "\n",
    "for i, (train_x, train_y) in enumerate(dataloader):\n",
    "    j = np.random.randint(0 ,train_x.shape[0])\n",
    "    prediction = net(train_x[j])\n",
    "    plot_curves(prediction, train_y[j], AIF, t)\n",
    "    print(prediction, train_y[j])\n",
    "        \n",
    "    break"
   ]
  },
  {
   "cell_type": "code",
   "execution_count": null,
   "metadata": {},
   "outputs": [],
   "source": []
  },
  {
   "cell_type": "markdown",
   "metadata": {},
   "source": [
    "### Results log\n"
   ]
  },
  {
   "cell_type": "code",
   "execution_count": null,
   "metadata": {},
   "outputs": [],
   "source": [
    "epochs = 100\n",
    "batch_size = 50\n",
    "nn.MSELoss()\n",
    "\n",
    "0.0202, lr=0.001, betas=(0.9, 0.999), eps=1e-8\n"
   ]
  }
 ],
 "metadata": {
  "kernelspec": {
   "display_name": "Python 3",
   "language": "python",
   "name": "python3"
  },
  "language_info": {
   "codemirror_mode": {
    "name": "ipython",
    "version": 3
   },
   "file_extension": ".py",
   "mimetype": "text/x-python",
   "name": "python",
   "nbconvert_exporter": "python",
   "pygments_lexer": "ipython3",
   "version": "3.8.10"
  }
 },
 "nbformat": 4,
 "nbformat_minor": 4
}
