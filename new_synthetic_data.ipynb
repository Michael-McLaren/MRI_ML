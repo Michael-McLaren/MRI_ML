{
 "cells": [
  {
   "cell_type": "code",
   "execution_count": 1,
   "metadata": {},
   "outputs": [],
   "source": [
    "import torch\n",
    "import torch.nn as nn\n",
    "import torch.optim as optim\n",
    "import torch.utils.data as Data\n",
    "import torch.nn.functional as F\n",
    "\n",
    "from torch.autograd import Variable\n",
    "from torchvision import datasets, transforms\n",
    "\n",
    "import numpy as np\n",
    "import matplotlib.pyplot as plt\n",
    "import scipy.stats as st\n",
    "import seaborn as sns\n",
    "\n",
    "from tkmodel.TwoCUM_copy import TwoCUMfittingConc\n",
    "from tkmodel.TwoCUM_copy import TwoCUM"
   ]
  },
  {
   "cell_type": "code",
   "execution_count": 2,
   "metadata": {},
   "outputs": [],
   "source": [
    "from ml_model.data_generation import uterus\n"
   ]
  },
  {
   "cell_type": "code",
   "execution_count": 3,
   "metadata": {},
   "outputs": [
    {
     "name": "stderr",
     "output_type": "stream",
     "text": [
      "/afs/inf.ed.ac.uk/user/s17/s1740929/MRI_ML/tkmodel/TwoCUM_copy.py:34: RuntimeWarning: divide by zero encountered in true_divide\n",
      "  exptTp=np.exp(-1*t/Tp)\n",
      "/afs/inf.ed.ac.uk/user/s17/s1740929/MRI_ML/tkmodel/TwoCUM_copy.py:34: RuntimeWarning: invalid value encountered in true_divide\n",
      "  exptTp=np.exp(-1*t/Tp)\n"
     ]
    },
    {
     "name": "stdout",
     "output_type": "stream",
     "text": [
      "91798  :  [0.99887339 0.20026734 0.98832156]\n",
      "98775  :  [0.99178899 0.20293944 0.9820395 ]\n",
      "nan:  []\n",
      ">100:  [91436 91436 91436 91436 91436 91436 91436 91436 91436 91436 91436 91436\n",
      " 91436 91436 91436 91436 91436 91436 91436 91436 91436 91436 91436 91436\n",
      " 91436 91436 91436 91436 91436 91436 91436 91436 91436 98413 98413 98413\n",
      " 98413 98413 98413 98413 98413 98413 98413 98413 98413 98413 98413 98413\n",
      " 98413 98413 98413 98413 98413 98413 98413 98413 98413 98413 98413 98413\n",
      " 98413 98413 98413 98413 98413 98413 98413]\n"
     ]
    }
   ],
   "source": [
    "num = 100000\n",
    "    \n",
    "uterus_data = uterus(num)"
   ]
  },
  {
   "cell_type": "code",
   "execution_count": 4,
   "metadata": {},
   "outputs": [],
   "source": [
    "y = uterus_data.y"
   ]
  },
  {
   "cell_type": "code",
   "execution_count": 5,
   "metadata": {
    "scrolled": true
   },
   "outputs": [
    {
     "data": {
      "image/png": "[encoded data removed]",
      "text/plain": [
       "<Figure size 1080x216 with 3 Axes>"
      ]
     },
     "metadata": {
      "needs_background": "light"
     },
     "output_type": "display_data"
    },
    {
     "data": {
      "text/plain": [
       "<Figure size 432x288 with 0 Axes>"
      ]
     },
     "metadata": {},
     "output_type": "display_data"
    }
   ],
   "source": [
    "\n",
    "\n",
    "E = y[:,0]\n",
    "Fp = y[:,1]\n",
    "vp = y[:,2]\n",
    "\n",
    "fig, axs = plt.subplots(1, 3, figsize=(15, 3))\n",
    "\n",
    "axs[0].hist(E,range=[0, 1.5], bins = 100)\n",
    "axs[0].set_xlabel('E')\n",
    "axs[0].set_ylabel('Count')\n",
    "\n",
    "\n",
    "axs[1].hist(Fp,range=[0, 0.02], bins = 100)\n",
    "axs[1].set_xlabel('Fp')\n",
    "\n",
    "\n",
    "axs[2].hist(vp,range=[0, 1.01], bins = 100)\n",
    "axs[2].set_xlabel('vp')\n",
    "\n",
    "\n",
    "plt.show()\n",
    "plt.clf()"
   ]
  },
  {
   "cell_type": "code",
   "execution_count": 6,
   "metadata": {},
   "outputs": [
    {
     "data": {
      "text/plain": [
       "array([], dtype=int64)"
      ]
     },
     "execution_count": 6,
     "metadata": {},
     "output_type": "execute_result"
    }
   ],
   "source": [
    "x = uterus_data.x\n",
    "ind = np.array(np.where(np.isnan(x)))[0]\n",
    "ind"
   ]
  },
  {
   "cell_type": "code",
   "execution_count": 8,
   "metadata": {},
   "outputs": [
    {
     "ename": "IndexError",
     "evalue": "index 0 is out of bounds for axis 0 with size 0",
     "output_type": "error",
     "traceback": [
      "\u001b[0;31m---------------------------------------------------------------------------\u001b[0m",
      "\u001b[0;31mIndexError\u001b[0m                                Traceback (most recent call last)",
      "\u001b[0;32m<ipython-input-8-2de93a780102>\u001b[0m in \u001b[0;36m<module>\u001b[0;34m\u001b[0m\n\u001b[1;32m      1\u001b[0m \u001b[0mi\u001b[0m \u001b[0;34m=\u001b[0m \u001b[0;36m0\u001b[0m\u001b[0;34m\u001b[0m\u001b[0;34m\u001b[0m\u001b[0m\n\u001b[0;32m----> 2\u001b[0;31m \u001b[0mindex\u001b[0m \u001b[0;34m=\u001b[0m \u001b[0mind\u001b[0m\u001b[0;34m[\u001b[0m\u001b[0mi\u001b[0m\u001b[0;34m]\u001b[0m\u001b[0;34m\u001b[0m\u001b[0;34m\u001b[0m\u001b[0m\n\u001b[0m\u001b[1;32m      3\u001b[0m \u001b[0mprint\u001b[0m\u001b[0;34m(\u001b[0m\u001b[0mindex\u001b[0m\u001b[0;34m)\u001b[0m\u001b[0;34m\u001b[0m\u001b[0;34m\u001b[0m\u001b[0m\n\u001b[1;32m      4\u001b[0m \u001b[0mt\u001b[0m \u001b[0;34m=\u001b[0m \u001b[0mnp\u001b[0m\u001b[0;34m.\u001b[0m\u001b[0marange\u001b[0m\u001b[0;34m(\u001b[0m\u001b[0;36m0\u001b[0m\u001b[0;34m,\u001b[0m\u001b[0;36m366\u001b[0m\u001b[0;34m,\u001b[0m\u001b[0;36m2.45\u001b[0m\u001b[0;34m)\u001b[0m\u001b[0;34m\u001b[0m\u001b[0;34m\u001b[0m\u001b[0m\n\u001b[1;32m      5\u001b[0m \u001b[0;34m\u001b[0m\u001b[0m\n",
      "\u001b[0;31mIndexError\u001b[0m: index 0 is out of bounds for axis 0 with size 0"
     ]
    }
   ],
   "source": [
    "i = 0\n",
    "index = ind[i]\n",
    "print(index)\n",
    "t = np.arange(0,366,2.45)\n",
    "\n",
    "plt.scatter(t, x[index])\n",
    "print(y[index])"
   ]
  },
  {
   "cell_type": "code",
   "execution_count": 9,
   "metadata": {},
   "outputs": [],
   "source": [
    "def get_best_distribution(data):\n",
    "    dist_names = [\"norm\", \"exponweib\", \"weibull_max\", \"weibull_min\", \"pareto\", \"genextreme\", \"halfnorm\"]\n",
    "    dist_results = []\n",
    "    params = {}\n",
    "    for dist_name in dist_names:\n",
    "        dist = getattr(st, dist_name)\n",
    "        param = dist.fit(data)\n",
    "\n",
    "        params[dist_name] = param\n",
    "        # Applying the Kolmogorov-Smirnov test\n",
    "        D, p = st.kstest(data, dist_name, args=param)\n",
    "        print(\"p value for \"+dist_name+\" = \"+str(p))\n",
    "        dist_results.append((dist_name, p))\n",
    "\n",
    "    # select the best fitted distribution\n",
    "    best_dist, best_p = (max(dist_results, key=lambda item: item[1]))\n",
    "    # store the name of the best fit and its p value\n",
    "\n",
    "    print(\"Best fitting distribution: \"+str(best_dist))\n",
    "    print(\"Best p value: \"+ str(best_p))\n",
    "    print(\"Parameters for the best fit: \"+ str(params[best_dist]))\n",
    "\n",
    "    return best_dist, best_p, params[best_dist]"
   ]
  },
  {
   "cell_type": "code",
   "execution_count": 10,
   "metadata": {},
   "outputs": [
    {
     "data": {
      "text/plain": [
       "((42599, 150), (42599, 3))"
      ]
     },
     "execution_count": 10,
     "metadata": {},
     "output_type": "execute_result"
    }
   ],
   "source": [
    "real_x = uterus_data.real_x\n",
    "real_y = uterus_data.real_y\n",
    "real_x.shape, real_y.shape"
   ]
  },
  {
   "cell_type": "code",
   "execution_count": 11,
   "metadata": {},
   "outputs": [
    {
     "data": {
      "image/png": "[encoded data removed]",
      "text/plain": [
       "<Figure size 1080x216 with 3 Axes>"
      ]
     },
     "metadata": {
      "needs_background": "light"
     },
     "output_type": "display_data"
    },
    {
     "data": {
      "text/plain": [
       "<Figure size 432x288 with 0 Axes>"
      ]
     },
     "metadata": {},
     "output_type": "display_data"
    }
   ],
   "source": [
    "\n",
    "\n",
    "E = real_y[:,0]\n",
    "Fp = real_y[:,1]\n",
    "vp = real_y[:,2]\n",
    "\n",
    "fig, axs = plt.subplots(1, 3, figsize=(15, 3))\n",
    "\n",
    "axs[0].hist(E,range=[0, 1.01], bins = 100)\n",
    "axs[0].set_xlabel('E')\n",
    "axs[0].set_ylabel('Count')\n",
    "\n",
    "\n",
    "axs[1].hist(100*Fp,range=[0, 1.01], bins = 100)\n",
    "axs[1].set_xlabel('Fp')\n",
    "\n",
    "\n",
    "axs[2].hist(vp,range=[0, 1.01], bins = 100)\n",
    "axs[2].set_xlabel('vp')\n",
    "\n",
    "\n",
    "plt.show()\n",
    "plt.clf()"
   ]
  },
  {
   "cell_type": "markdown",
   "metadata": {},
   "source": [
    "# Find new dist for E"
   ]
  },
  {
   "cell_type": "code",
   "execution_count": 12,
   "metadata": {},
   "outputs": [
    {
     "data": {
      "image/png": "[encoded data removed]",
      "text/plain": [
       "<Figure size 432x288 with 1 Axes>"
      ]
     },
     "metadata": {
      "needs_background": "light"
     },
     "output_type": "display_data"
    }
   ],
   "source": [
    "E_list = real_y[:,0]\n",
    "E_restricted = E_list[(E_list > 0.00001) & (E_list < 0.98)]\n",
    "\n",
    "plt.hist(E_restricted, bins = 100)\n",
    "plt.show()"
   ]
  },
  {
   "cell_type": "code",
   "execution_count": 13,
   "metadata": {},
   "outputs": [
    {
     "name": "stdout",
     "output_type": "stream",
     "text": [
      "p value for norm = 0.0\n",
      "p value for exponweib = 2.282239779129942e-12\n",
      "p value for weibull_max = 0.0\n",
      "p value for weibull_min = 1.3137373629612729e-38\n"
     ]
    },
    {
     "name": "stderr",
     "output_type": "stream",
     "text": [
      "/usr/lib/python3/dist-packages/scipy/stats/_distn_infrastructure.py:2381: RuntimeWarning: invalid value encountered in double_scalars\n",
      "  Lhat = muhat - Shat*mu\n"
     ]
    },
    {
     "name": "stdout",
     "output_type": "stream",
     "text": [
      "p value for pareto = 6.553737875277351e-19\n",
      "p value for genextreme = 2.1278022003165033e-30\n",
      "p value for halfnorm = 0.0\n",
      "Best fitting distribution: exponweib\n",
      "Best p value: 2.282239779129942e-12\n",
      "Parameters for the best fit: (1.7162775627078726, 0.6992052384902265, 7.607697024682173e-06, 0.08199239222931205)\n"
     ]
    }
   ],
   "source": [
    "\n",
    "\n",
    "best_dist, best_p, params = get_best_distribution(E_restricted)"
   ]
  },
  {
   "cell_type": "code",
   "execution_count": 14,
   "metadata": {},
   "outputs": [
    {
     "data": {
      "image/png": "[encoded data removed]",
      "text/plain": [
       "<Figure size 432x288 with 1 Axes>"
      ]
     },
     "metadata": {
      "needs_background": "light"
     },
     "output_type": "display_data"
    }
   ],
   "source": [
    "params = (1.7162775627078726, 0.6992052384902265, 7.607697024682173e-06, 0.08199239222931205)\n",
    "dist_num = E_restricted.shape[0]\n",
    "gen_data_E = st.exponweib.rvs(params[0], params[1], params[2], params[3], size=dist_num)\n",
    "\n",
    "plt.hist(gen_data_E, bins = 100, range=[0, 1], alpha = 0.5)\n",
    "plt.hist(E_restricted, bins = 100, range=[0, 1], alpha = 0.5)\n",
    "\n",
    "plt.show()"
   ]
  },
  {
   "cell_type": "code",
   "execution_count": 15,
   "metadata": {},
   "outputs": [
    {
     "data": {
      "text/plain": [
       "(0.21577971313880606, 0.08969694124275218)"
      ]
     },
     "execution_count": 15,
     "metadata": {},
     "output_type": "execute_result"
    }
   ],
   "source": [
    "#find percentage values at the edges\n",
    "size = E_list.shape[0]\n",
    "\n",
    "start = E_list[(E_list < 0.00001)]\n",
    "end = E_list[(E_list > 0.99)]\n",
    "\n",
    "start_percent = start.shape[0]/size\n",
    "end_percent = end.shape[0]/size\n",
    "\n",
    "start_percent, end_percent"
   ]
  },
  {
   "cell_type": "code",
   "execution_count": 16,
   "metadata": {},
   "outputs": [],
   "source": [
    "def E_distribution(num):\n",
    "    start_percent, end_percent = 0.2157, 0.089\n",
    "    params = (1.7162775627078726, 0.6992052384902265, 7.607697024682173e-06, 0.08199239222931205)\n",
    "    start_nums = int(start_percent*num)\n",
    "    end_nums = int(end_percent*num)\n",
    "    \n",
    "    start = np.random.uniform(low = 0, high= 0.00001, size = start_nums)\n",
    "    end = np.random.uniform(low = 0.99, high= 1, size = end_nums)\n",
    "    \n",
    "    dist_num = num - start_nums - end_nums\n",
    "    gen_data_E = st.exponweib.rvs(params[0], params[1], params[2], params[3], size=dist_num)\n",
    "    gen_data_E = np.array(gen_data_E)\n",
    "    \n",
    "    true_dist = np.concatenate((start, gen_data_E), axis=None)\n",
    "    true_dist = np.concatenate((true_dist, end), axis=None)\n",
    "\n",
    "    return true_dist"
   ]
  },
  {
   "cell_type": "code",
   "execution_count": 17,
   "metadata": {},
   "outputs": [
    {
     "name": "stdout",
     "output_type": "stream",
     "text": [
      "(42599,) (42599,)\n"
     ]
    },
    {
     "data": {
      "image/png": "[encoded data removed]",
      "text/plain": [
       "<Figure size 432x288 with 1 Axes>"
      ]
     },
     "metadata": {
      "needs_background": "light"
     },
     "output_type": "display_data"
    }
   ],
   "source": [
    "gen_data_E = E_distribution(E_list.shape[0])\n",
    "print(gen_data_E.shape, E_list.shape)\n",
    "\n",
    "plt.hist(gen_data_E, bins = 100, range=[0, 1.1], alpha = 0.5)\n",
    "plt.hist(E_list, bins = 100, range=[0, 1.1], alpha = 0.5)\n",
    "\n",
    "plt.show()"
   ]
  },
  {
   "cell_type": "markdown",
   "metadata": {},
   "source": [
    "# Find Fp\n"
   ]
  },
  {
   "cell_type": "code",
   "execution_count": 18,
   "metadata": {},
   "outputs": [
    {
     "data": {
      "image/png": "[encoded data removed]",
      "text/plain": [
       "<Figure size 432x288 with 1 Axes>"
      ]
     },
     "metadata": {
      "needs_background": "light"
     },
     "output_type": "display_data"
    }
   ],
   "source": [
    "Fp_list = real_y[:,1]\n",
    "#Fp_list_res = Fp_list[(Fp_list > 0.00001) & (Fp_list < 0.98)]\n",
    "\n",
    "plt.hist(Fp_list, bins = 100, range = [0,0.02])\n",
    "plt.show()"
   ]
  },
  {
   "cell_type": "code",
   "execution_count": 19,
   "metadata": {},
   "outputs": [
    {
     "name": "stdout",
     "output_type": "stream",
     "text": [
      "p value for norm = 0.0\n"
     ]
    },
    {
     "name": "stderr",
     "output_type": "stream",
     "text": [
      "/usr/lib/python3/dist-packages/scipy/stats/_continuous_distns.py:1468: RuntimeWarning: invalid value encountered in add\n",
      "  logp = (np.log(a) + np.log(c) + sc.xlogy(a - 1.0, exm1c) +\n"
     ]
    },
    {
     "name": "stdout",
     "output_type": "stream",
     "text": [
      "p value for exponweib = 2.0899460903837002e-07\n",
      "p value for weibull_max = 0.0\n",
      "p value for weibull_min = 0.0\n",
      "p value for pareto = 0.0\n",
      "p value for genextreme = 1.8217304726719606e-271\n",
      "p value for halfnorm = 0.0\n",
      "Best fitting distribution: exponweib\n",
      "Best p value: 2.0899460903837002e-07\n",
      "Parameters for the best fit: (1.222754777103586, 0.49935926672960007, 3.0005798742817294e-05, 0.001543309761969799)\n"
     ]
    }
   ],
   "source": [
    "best_dist, best_p, params = get_best_distribution(Fp_list)"
   ]
  },
  {
   "cell_type": "code",
   "execution_count": 20,
   "metadata": {},
   "outputs": [
    {
     "data": {
      "image/png": "[encoded data removed]",
      "text/plain": [
       "<Figure size 432x288 with 1 Axes>"
      ]
     },
     "metadata": {
      "needs_background": "light"
     },
     "output_type": "display_data"
    }
   ],
   "source": [
    "params = (1.222754777103586, 0.49935926672960007, 3.0005798742817294e-05, 0.001543309761969799)\n",
    "dist_num = Fp_list.shape[0]\n",
    "gen_Fp_list = st.exponweib.rvs(params[0], params[1], params[2], params[3], size=dist_num)\n",
    "\n",
    "plt.hist(gen_Fp_list, bins = 100, range=[0, 0.02], alpha = 0.5)\n",
    "plt.hist(Fp_list, bins = 100, range=[0, 0.02], alpha = 0.5)\n",
    "\n",
    "plt.show()"
   ]
  },
  {
   "cell_type": "code",
   "execution_count": 21,
   "metadata": {},
   "outputs": [],
   "source": [
    "def Fp_distribution(num):\n",
    "\n",
    "    params = (1.222754777103586, 0.49935926672960007, 3.0005798742817294e-05, 0.001543309761969799)\n",
    "\n",
    "    gen_Fp_list = st.exponweib.rvs(params[0], params[1], params[2], params[3], size=dist_num)\n",
    "    true_dist = np.array(gen_Fp_list)\n",
    "    \n",
    "    return true_dist"
   ]
  },
  {
   "cell_type": "code",
   "execution_count": 22,
   "metadata": {},
   "outputs": [
    {
     "name": "stdout",
     "output_type": "stream",
     "text": [
      "(42599,) (42599,)\n"
     ]
    },
    {
     "data": {
      "image/png": "[encoded data removed]",
      "text/plain": [
       "<Figure size 432x288 with 1 Axes>"
      ]
     },
     "metadata": {
      "needs_background": "light"
     },
     "output_type": "display_data"
    },
    {
     "data": {
      "text/plain": [
       "<Figure size 432x288 with 0 Axes>"
      ]
     },
     "metadata": {},
     "output_type": "display_data"
    }
   ],
   "source": [
    "gen_data_Fp = Fp_distribution(Fp_list.shape[0])\n",
    "Fp_list = real_y[:,1]\n",
    "print(gen_data_Fp.shape, Fp_list.shape)\n",
    "\n",
    "plt.hist(gen_data_Fp, bins = 100, range=[0, 0.02], alpha = 0.5, label = 'gen')\n",
    "\n",
    "plt.hist(Fp_list, bins = 100, range=[0, 0.02], alpha = 0.5, label = 'true')\n",
    "plt.legend()\n",
    "plt.show()\n",
    "plt.clf()"
   ]
  },
  {
   "cell_type": "markdown",
   "metadata": {},
   "source": [
    "# find vp"
   ]
  },
  {
   "cell_type": "code",
   "execution_count": 23,
   "metadata": {},
   "outputs": [
    {
     "data": {
      "image/png": "[encoded data removed]",
      "text/plain": [
       "<Figure size 432x288 with 1 Axes>"
      ]
     },
     "metadata": {
      "needs_background": "light"
     },
     "output_type": "display_data"
    }
   ],
   "source": [
    "#weird discontinieties \n",
    "vp_list = real_y[:,2]\n",
    "vp_list_res = vp_list[(vp_list > 0.01) & (vp_list < 0.99)]\n",
    "\n",
    "plt.hist(vp_list_res, bins = 100 )\n",
    "plt.show()"
   ]
  },
  {
   "cell_type": "code",
   "execution_count": 24,
   "metadata": {},
   "outputs": [
    {
     "name": "stdout",
     "output_type": "stream",
     "text": [
      "p value for norm = 0.0\n",
      "p value for exponweib = 0.0\n",
      "p value for weibull_max = 0.0\n",
      "p value for weibull_min = 0.0\n",
      "p value for pareto = 4.6618397563659426e-222\n",
      "p value for genextreme = 1.386425253018638e-149\n",
      "p value for halfnorm = 0.0\n",
      "Best fitting distribution: genextreme\n",
      "Best p value: 1.386425253018638e-149\n",
      "Parameters for the best fit: (-0.8957657375828095, 0.08444687209554147, 0.08782456984037149)\n"
     ]
    }
   ],
   "source": [
    "best_dist, best_p, params = get_best_distribution(vp_list_res)"
   ]
  },
  {
   "cell_type": "code",
   "execution_count": 25,
   "metadata": {},
   "outputs": [
    {
     "data": {
      "image/png": "[encoded data removed]",
      "text/plain": [
       "<Figure size 432x288 with 1 Axes>"
      ]
     },
     "metadata": {
      "needs_background": "light"
     },
     "output_type": "display_data"
    }
   ],
   "source": [
    "params = (0.20250845633456332, 0.24013607142736623)\n",
    "dist_num = vp_list_res.shape[0]\n",
    "gen_vp_list = st.norm.rvs(params[0], params[1], size=dist_num)\n",
    "\n",
    "plt.hist(gen_vp_list, bins = 100, range=[0, 1], alpha = 0.5)\n",
    "plt.hist(vp_list_res, bins = 100, range=[0, 1], alpha = 0.5)\n",
    "\n",
    "plt.show()"
   ]
  },
  {
   "cell_type": "code",
   "execution_count": 26,
   "metadata": {},
   "outputs": [
    {
     "data": {
      "image/png": "[encoded data removed]",
      "text/plain": [
       "<Figure size 432x288 with 1 Axes>"
      ]
     },
     "metadata": {
      "needs_background": "light"
     },
     "output_type": "display_data"
    },
    {
     "name": "stdout",
     "output_type": "stream",
     "text": [
      "[2864. 2117. 1689. 1412. 1242. 1061. 1083.  919.  862.  782.  742.  670.\n",
      "  669.  581.  575.  540.  498.  497.  454.  434.  424.  362.  374.  349.\n",
      "    0.  343.  347.  287.  316.  255.  250.  247.  244.  271.  250.  229.\n",
      "  245.  221.  192.  193.  189.  179.  198.  188.  187.  178.  194.  176.\n",
      "  149.    0.  166.  171.  184.  152.  150.  144.  153.  140.  162.  150.\n",
      "  136.  147.  116.  128.  124.  115.  114.  132.  106.  109.  110.   87.\n",
      "   95.   96.    0.  105.   96.   93.   87.   95.   80.  106.   92.   91.\n",
      "   94.   88.   91.   91.   93.   80.   88.   80.   93.   90.   74.   93.\n",
      "   76.   81.   85.   89.]\n",
      "[2864.  2117.  1689.  1412.  1242.  1061.  1083.   919.   862.   782.\n",
      "  742.   670.   669.   581.   575.   540.   498.   497.   454.   434.\n",
      "  424.   362.   374.   349.   346.   343.   347.   287.   316.   255.\n",
      "  250.   247.   244.   271.   250.   229.   245.   221.   192.   193.\n",
      "  189.   179.   198.   188.   187.   178.   194.   176.   149.   157.5\n",
      "  166.   171.   184.   152.   150.   144.   153.   140.   162.   150.\n",
      "  136.   147.   116.   128.   124.   115.   114.   132.   106.   109.\n",
      "  110.    87.    95.    96.   100.5  105.    96.    93.    87.    95.\n",
      "   80.   106.    92.    91.    94.    88.    91.    91.    93.    80.\n",
      "   88.    80.    93.    90.    74.    93.    76.    81.    85.    89. ]\n",
      "32146\n"
     ]
    },
    {
     "data": {
      "image/png": "[encoded data removed]",
      "text/plain": [
       "<Figure size 432x288 with 1 Axes>"
      ]
     },
     "metadata": {
      "needs_background": "light"
     },
     "output_type": "display_data"
    },
    {
     "data": {
      "text/plain": [
       "<Figure size 432x288 with 0 Axes>"
      ]
     },
     "metadata": {},
     "output_type": "display_data"
    }
   ],
   "source": [
    "vp_list_res = vp_list[(vp_list > 0.01) &(vp_list < 0.99)]\n",
    "counts, edges, plot = plt.hist(vp_list_res, bins = 100 )\n",
    "plt.show()\n",
    "plt.clf()\n",
    "print(counts)\n",
    "counts = np.array(counts)\n",
    "for i, count in enumerate(counts):\n",
    "    if count == 0:\n",
    "        counts[i] = (counts[i-1] + counts[i+1])/2\n",
    "        \n",
    "print(counts)\n",
    "print(vp_list_res.shape[0])\n",
    "prob_plot = counts/vp_list_res.shape[0]\n",
    "x = np.linspace( 0.01,0.99, num =prob_plot.shape[0])\n",
    "plt.plot(x, prob_plot)\n",
    "plt.show()\n",
    "plt.clf()"
   ]
  },
  {
   "cell_type": "code",
   "execution_count": 27,
   "metadata": {},
   "outputs": [],
   "source": [
    "vp_hist_list = []\n",
    "while len(vp_hist_list) < vp_list_res.shape[0]:\n",
    "    x_val = np.random.uniform( low = 0.01, high= 0.99, size=1)\n",
    "    y_val = np.interp(x_val, x ,prob_plot)\n",
    "    prob = np.random.uniform(size=1)\n",
    "    if prob < y_val:\n",
    "        vp_hist_list.append(x_val)\n",
    "\n"
   ]
  },
  {
   "cell_type": "code",
   "execution_count": 28,
   "metadata": {},
   "outputs": [],
   "source": [
    "vp_hist_list = np.array(vp_hist_list)\n"
   ]
  },
  {
   "cell_type": "code",
   "execution_count": 29,
   "metadata": {},
   "outputs": [
    {
     "data": {
      "text/plain": [
       "(32146,)"
      ]
     },
     "execution_count": 29,
     "metadata": {},
     "output_type": "execute_result"
    }
   ],
   "source": [
    "new_vp = vp_hist_list.reshape(vp_hist_list.shape[0])\n",
    "new_vp.shape"
   ]
  },
  {
   "cell_type": "code",
   "execution_count": 30,
   "metadata": {},
   "outputs": [
    {
     "data": {
      "image/png": "[encoded data removed]",
      "text/plain": [
       "<Figure size 432x288 with 1 Axes>"
      ]
     },
     "metadata": {
      "needs_background": "light"
     },
     "output_type": "display_data"
    }
   ],
   "source": [
    "plt.hist(new_vp, bins= 100, alpha = 0.5, range = [0,1])\n",
    "plt.hist(vp_list_res, bins = 100, alpha = 0.5,  range = [0,1])\n",
    "plt.show()"
   ]
  },
  {
   "cell_type": "code",
   "execution_count": 31,
   "metadata": {},
   "outputs": [
    {
     "name": "stdout",
     "output_type": "stream",
     "text": [
      "p value for norm = 0.0\n",
      "p value for exponweib = 6.59155601401885e-52\n",
      "p value for weibull_max = 0.0\n",
      "p value for weibull_min = 8.581074300054182e-33\n",
      "p value for pareto = 5.752566597173479e-114\n",
      "p value for genextreme = 8.41857127167144e-140\n",
      "p value for halfnorm = 0.0\n",
      "Best fitting distribution: weibull_min\n",
      "Best p value: 8.581074300054182e-33\n",
      "Parameters for the best fit: (0.8362137256431477, 0.010000165486116914, 0.21990609046724802)\n"
     ]
    }
   ],
   "source": [
    "best_dist, best_p, params = get_best_distribution(new_vp)"
   ]
  },
  {
   "cell_type": "code",
   "execution_count": 32,
   "metadata": {},
   "outputs": [
    {
     "data": {
      "image/png": "[encoded data removed]",
      "text/plain": [
       "<Figure size 432x288 with 1 Axes>"
      ]
     },
     "metadata": {
      "needs_background": "light"
     },
     "output_type": "display_data"
    }
   ],
   "source": [
    "params = (0.501198003887801, 1.3306579742427025, 0.010005660986937497, 0.395689314967677)\n",
    "dist_num = new_vp.shape[0]\n",
    "gen_vp_list = st.exponweib.rvs(params[0], params[1], params[2], params[3], size=dist_num)\n",
    "\n",
    "plt.hist(gen_vp_list, bins = 100, range=[0, 1], alpha = 0.5, label = 'Generated')\n",
    "plt.hist(new_vp, bins = 100, range=[0, 1], alpha = 0.5, label = 'Matched')\n",
    "#plt.hist(vp_list_res, bins = 100, range=[0, 1], alpha = 0.5, label = 'True')\n",
    "plt.legend()\n",
    "\n",
    "plt.show()"
   ]
  },
  {
   "cell_type": "code",
   "execution_count": 33,
   "metadata": {},
   "outputs": [
    {
     "data": {
      "text/plain": [
       "(0.16145918918284466, 0.08392215779713139)"
      ]
     },
     "execution_count": 33,
     "metadata": {},
     "output_type": "execute_result"
    }
   ],
   "source": [
    "vp_start = vp_list[(vp_list <= 0.01) ]\n",
    "vp_end = vp_list[(vp_list >= 0.99)]\n",
    "\n",
    "start_percent = vp_start.shape[0]/vp_list.shape[0]\n",
    "end_percent = vp_end.shape[0]/vp_list.shape[0]\n",
    "\n",
    "start_percent, end_percent"
   ]
  },
  {
   "cell_type": "code",
   "execution_count": 34,
   "metadata": {},
   "outputs": [],
   "source": [
    "def vp_distribution(num):\n",
    "    start_percent, end_percent = 0.16145, 0.0839\n",
    "    params = (0.501198003887801, 1.3306579742427025, 0.010005660986937497, 0.395689314967677)\n",
    "    start_nums = int(start_percent*num)\n",
    "    end_nums = int(end_percent*num)\n",
    "    \n",
    "    start = np.random.uniform(low = 0, high= 0.01, size = start_nums)\n",
    "    end = np.random.uniform(low = 0.98, high= 0.99, size = end_nums)\n",
    "    \n",
    "    dist_num = num - start_nums - end_nums\n",
    "    gen_data_vp = st.exponweib.rvs(params[0], params[1], params[2], params[3], size=dist_num)\n",
    "    gen_data_vp = np.array(gen_data_vp)\n",
    "    \n",
    "    true_dist = np.concatenate((start, gen_data_vp), axis=None)\n",
    "    true_dist = np.concatenate((true_dist, end), axis=None)\n",
    "\n",
    "    return true_dist"
   ]
  },
  {
   "cell_type": "code",
   "execution_count": 35,
   "metadata": {},
   "outputs": [
    {
     "name": "stdout",
     "output_type": "stream",
     "text": [
      "(42599,) (42599,)\n"
     ]
    },
    {
     "data": {
      "image/png": "[encoded data removed]",
      "text/plain": [
       "<Figure size 432x288 with 1 Axes>"
      ]
     },
     "metadata": {
      "needs_background": "light"
     },
     "output_type": "display_data"
    }
   ],
   "source": [
    "gen_data_vp = vp_distribution(vp_list.shape[0])\n",
    "print(gen_data_vp.shape, vp_list.shape)\n",
    "\n",
    "plt.hist(gen_data_vp, bins = 100, range=[0, 1.1], alpha = 0.5, label = 'Generated')\n",
    "plt.hist(vp_list, bins = 100, range=[0, 1.1], alpha = 0.5, label = 'True')\n",
    "\n",
    "plt.show()"
   ]
  },
  {
   "cell_type": "code",
   "execution_count": 37,
   "metadata": {},
   "outputs": [
    {
     "data": {
      "text/plain": [
       "(0.16143571445339092, 0.0)"
      ]
     },
     "execution_count": 37,
     "metadata": {},
     "output_type": "execute_result"
    }
   ],
   "source": [
    "from scipy.stats import ks_2samp\n",
    "ksTestStatistic, pValue = ks_2samp(gen_data_vp, vp_list)\n",
    "ksTestStatistic, pValue"
   ]
  },
  {
   "cell_type": "code",
   "execution_count": 40,
   "metadata": {},
   "outputs": [
    {
     "data": {
      "text/plain": [
       "0.9071104955515388"
      ]
     },
     "execution_count": 40,
     "metadata": {},
     "output_type": "execute_result"
    }
   ],
   "source": [
    "ksTestStatistic = ks_2samp(Fp_list, vp_list)[0]\n",
    "ksTestStatistic"
   ]
  },
  {
   "cell_type": "code",
   "execution_count": null,
   "metadata": {},
   "outputs": [],
   "source": []
  },
  {
   "cell_type": "code",
   "execution_count": null,
   "metadata": {},
   "outputs": [],
   "source": []
  },
  {
   "cell_type": "code",
   "execution_count": null,
   "metadata": {},
   "outputs": [],
   "source": []
  },
  {
   "cell_type": "code",
   "execution_count": null,
   "metadata": {},
   "outputs": [],
   "source": []
  },
  {
   "cell_type": "code",
   "execution_count": null,
   "metadata": {},
   "outputs": [],
   "source": []
  },
  {
   "cell_type": "code",
   "execution_count": null,
   "metadata": {},
   "outputs": [],
   "source": []
  },
  {
   "cell_type": "code",
   "execution_count": null,
   "metadata": {},
   "outputs": [],
   "source": []
  },
  {
   "cell_type": "code",
   "execution_count": null,
   "metadata": {},
   "outputs": [],
   "source": []
  }
 ],
 "metadata": {
  "kernelspec": {
   "display_name": "Python 3",
   "language": "python",
   "name": "python3"
  },
  "language_info": {
   "codemirror_mode": {
    "name": "ipython",
    "version": 3
   },
   "file_extension": ".py",
   "mimetype": "text/x-python",
   "name": "python",
   "nbconvert_exporter": "python",
   "pygments_lexer": "ipython3",
   "version": "3.8.10"
  }
 },
 "nbformat": 4,
 "nbformat_minor": 4
}
