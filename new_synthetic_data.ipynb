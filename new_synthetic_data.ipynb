{
 "cells": [
  {
   "cell_type": "code",
   "execution_count": 17,
   "metadata": {},
   "outputs": [],
   "source": [
    "import torch\n",
    "import torch.nn as nn\n",
    "import torch.optim as optim\n",
    "import torch.utils.data as Data\n",
    "import torch.nn.functional as F\n",
    "\n",
    "from torch.autograd import Variable\n",
    "from torchvision import datasets, transforms\n",
    "\n",
    "import numpy as np\n",
    "import matplotlib.pyplot as plt\n",
    "import scipy.stats as st\n",
    "import seaborn as sns\n",
    "\n",
    "from tkmodel.TwoCUM_copy import TwoCUMfittingConc\n",
    "from tkmodel.TwoCUM_copy import TwoCUM"
   ]
  },
  {
   "cell_type": "code",
   "execution_count": 3,
   "metadata": {},
   "outputs": [],
   "source": [
    "from ml_model.data_generation import uterus\n"
   ]
  },
  {
   "cell_type": "code",
   "execution_count": 4,
   "metadata": {},
   "outputs": [],
   "source": [
    "num = 100000\n",
    "    \n",
    "uterus_data = uterus(num)"
   ]
  },
  {
   "cell_type": "code",
   "execution_count": 5,
   "metadata": {},
   "outputs": [],
   "source": [
    "y = uterus_data.y"
   ]
  },
  {
   "cell_type": "code",
   "execution_count": 6,
   "metadata": {
    "scrolled": true
   },
   "outputs": [
    {
     "data": {
      "image/png": "[encoded data removed]",
      "text/plain": [
       "<Figure size 1080x216 with 3 Axes>"
      ]
     },
     "metadata": {
      "needs_background": "light"
     },
     "output_type": "display_data"
    },
    {
     "data": {
      "text/plain": [
       "<Figure size 432x288 with 0 Axes>"
      ]
     },
     "metadata": {},
     "output_type": "display_data"
    }
   ],
   "source": [
    "\n",
    "\n",
    "E = y[:,0]\n",
    "Fp = y[:,1]\n",
    "vp = y[:,2]\n",
    "\n",
    "fig, axs = plt.subplots(1, 3, figsize=(15, 3))\n",
    "\n",
    "axs[0].hist(E,range=[0, 1.01], bins = 100)\n",
    "axs[0].set_xlabel('E')\n",
    "axs[0].set_ylabel('Count')\n",
    "\n",
    "\n",
    "axs[1].hist(100*Fp,range=[0, 1.01], bins = 100)\n",
    "axs[1].set_xlabel('Fp')\n",
    "\n",
    "\n",
    "axs[2].hist(vp,range=[0, 1.01], bins = 100)\n",
    "axs[2].set_xlabel('vp')\n",
    "\n",
    "\n",
    "plt.show()\n",
    "plt.clf()"
   ]
  },
  {
   "cell_type": "code",
   "execution_count": null,
   "metadata": {},
   "outputs": [],
   "source": []
  },
  {
   "cell_type": "code",
   "execution_count": null,
   "metadata": {},
   "outputs": [],
   "source": []
  },
  {
   "cell_type": "code",
   "execution_count": 7,
   "metadata": {},
   "outputs": [],
   "source": [
    "def get_best_distribution(data):\n",
    "    dist_names = [\"norm\", \"exponweib\", \"weibull_max\", \"weibull_min\", \"pareto\", \"genextreme\", \"halfnorm\"]\n",
    "    dist_results = []\n",
    "    params = {}\n",
    "    for dist_name in dist_names:\n",
    "        dist = getattr(st, dist_name)\n",
    "        param = dist.fit(data)\n",
    "\n",
    "        params[dist_name] = param\n",
    "        # Applying the Kolmogorov-Smirnov test\n",
    "        D, p = st.kstest(data, dist_name, args=param)\n",
    "        print(\"p value for \"+dist_name+\" = \"+str(p))\n",
    "        dist_results.append((dist_name, p))\n",
    "\n",
    "    # select the best fitted distribution\n",
    "    best_dist, best_p = (max(dist_results, key=lambda item: item[1]))\n",
    "    # store the name of the best fit and its p value\n",
    "\n",
    "    print(\"Best fitting distribution: \"+str(best_dist))\n",
    "    print(\"Best p value: \"+ str(best_p))\n",
    "    print(\"Parameters for the best fit: \"+ str(params[best_dist]))\n",
    "\n",
    "    return best_dist, best_p, params[best_dist]"
   ]
  },
  {
   "cell_type": "code",
   "execution_count": 8,
   "metadata": {},
   "outputs": [
    {
     "data": {
      "text/plain": [
       "((42599, 150), (42599, 3))"
      ]
     },
     "execution_count": 8,
     "metadata": {},
     "output_type": "execute_result"
    }
   ],
   "source": [
    "real_x = uterus_data.real_x\n",
    "real_y = uterus_data.real_y\n",
    "real_x.shape, real_y.shape"
   ]
  },
  {
   "cell_type": "code",
   "execution_count": 9,
   "metadata": {},
   "outputs": [
    {
     "data": {
      "image/png": "[encoded data removed]",
      "text/plain": [
       "<Figure size 1080x216 with 3 Axes>"
      ]
     },
     "metadata": {
      "needs_background": "light"
     },
     "output_type": "display_data"
    },
    {
     "data": {
      "text/plain": [
       "<Figure size 432x288 with 0 Axes>"
      ]
     },
     "metadata": {},
     "output_type": "display_data"
    }
   ],
   "source": [
    "\n",
    "\n",
    "E = real_y[:,0]\n",
    "Fp = real_y[:,1]\n",
    "vp = real_y[:,2]\n",
    "\n",
    "fig, axs = plt.subplots(1, 3, figsize=(15, 3))\n",
    "\n",
    "axs[0].hist(E,range=[0, 1.01], bins = 100)\n",
    "axs[0].set_xlabel('E')\n",
    "axs[0].set_ylabel('Count')\n",
    "\n",
    "\n",
    "axs[1].hist(100*Fp,range=[0, 1.01], bins = 100)\n",
    "axs[1].set_xlabel('Fp')\n",
    "\n",
    "\n",
    "axs[2].hist(vp,range=[0, 1.01], bins = 100)\n",
    "axs[2].set_xlabel('vp')\n",
    "\n",
    "\n",
    "plt.show()\n",
    "plt.clf()"
   ]
  },
  {
   "cell_type": "markdown",
   "metadata": {},
   "source": [
    "# Find new dist for E"
   ]
  },
  {
   "cell_type": "code",
   "execution_count": 10,
   "metadata": {},
   "outputs": [
    {
     "data": {
      "image/png": "[encoded data removed]",
      "text/plain": [
       "<Figure size 432x288 with 1 Axes>"
      ]
     },
     "metadata": {
      "needs_background": "light"
     },
     "output_type": "display_data"
    }
   ],
   "source": [
    "E_list = real_y[:,0]\n",
    "E_restricted = E_list[(E_list > 0.00001) & (E_list < 0.98)]\n",
    "\n",
    "plt.hist(E_restricted, bins = 100)\n",
    "plt.show()"
   ]
  },
  {
   "cell_type": "code",
   "execution_count": 11,
   "metadata": {},
   "outputs": [
    {
     "name": "stdout",
     "output_type": "stream",
     "text": [
      "p value for norm = 0.0\n",
      "p value for exponweib = 2.282239779129942e-12\n",
      "p value for weibull_max = 0.0\n",
      "p value for weibull_min = 1.3137373629612729e-38\n"
     ]
    },
    {
     "name": "stderr",
     "output_type": "stream",
     "text": [
      "/usr/lib/python3/dist-packages/scipy/stats/_distn_infrastructure.py:2381: RuntimeWarning: invalid value encountered in double_scalars\n",
      "  Lhat = muhat - Shat*mu\n"
     ]
    },
    {
     "name": "stdout",
     "output_type": "stream",
     "text": [
      "p value for pareto = 6.553737875277351e-19\n",
      "p value for genextreme = 2.1278022003165033e-30\n",
      "p value for halfnorm = 0.0\n",
      "Best fitting distribution: exponweib\n",
      "Best p value: 2.282239779129942e-12\n",
      "Parameters for the best fit: (1.7162775627078726, 0.6992052384902265, 7.607697024682173e-06, 0.08199239222931205)\n"
     ]
    }
   ],
   "source": [
    "\n",
    "\n",
    "best_dist, best_p, params = get_best_distribution(E_restricted)"
   ]
  },
  {
   "cell_type": "code",
   "execution_count": 12,
   "metadata": {},
   "outputs": [
    {
     "data": {
      "image/png": "[encoded data removed]",
      "text/plain": [
       "<Figure size 432x288 with 1 Axes>"
      ]
     },
     "metadata": {
      "needs_background": "light"
     },
     "output_type": "display_data"
    }
   ],
   "source": [
    "params = (1.7162775627078726, 0.6992052384902265, 7.607697024682173e-06, 0.08199239222931205)\n",
    "dist_num = E_restricted.shape[0]\n",
    "gen_data_E = st.exponweib.rvs(params[0], params[1], params[2], params[3], size=dist_num)\n",
    "\n",
    "plt.hist(gen_data_E, bins = 100, range=[0, 1], alpha = 0.5)\n",
    "plt.hist(E_restricted, bins = 100, range=[0, 1], alpha = 0.5)\n",
    "\n",
    "plt.show()"
   ]
  },
  {
   "cell_type": "code",
   "execution_count": 13,
   "metadata": {},
   "outputs": [
    {
     "data": {
      "text/plain": [
       "(0.21577971313880606, 0.08969694124275218)"
      ]
     },
     "execution_count": 13,
     "metadata": {},
     "output_type": "execute_result"
    }
   ],
   "source": [
    "#find percentage values at the edges\n",
    "size = E_list.shape[0]\n",
    "\n",
    "start = E_list[(E_list < 0.00001)]\n",
    "end = E_list[(E_list > 0.99)]\n",
    "\n",
    "start_percent = start.shape[0]/size\n",
    "end_percent = end.shape[0]/size\n",
    "\n",
    "start_percent, end_percent"
   ]
  },
  {
   "cell_type": "code",
   "execution_count": 14,
   "metadata": {},
   "outputs": [],
   "source": [
    "def E_distribution(num):\n",
    "    start_percent, end_percent = 0.2157, 0.089\n",
    "    params = (1.7162775627078726, 0.6992052384902265, 7.607697024682173e-06, 0.08199239222931205)\n",
    "    start_nums = int(start_percent*num)\n",
    "    end_nums = int(end_percent*num)\n",
    "    \n",
    "    start = np.random.uniform(low = 0, high= 0.00001, size = start_nums)\n",
    "    end = np.random.uniform(low = 0.99, high= 1, size = end_nums)\n",
    "    \n",
    "    dist_num = num - start_nums - end_nums\n",
    "    gen_data_E = st.exponweib.rvs(params[0], params[1], params[2], params[3], size=dist_num)\n",
    "    gen_data_E = np.array(gen_data_E)\n",
    "    \n",
    "    true_dist = np.concatenate((start, gen_data_E), axis=None)\n",
    "    true_dist = np.concatenate((true_dist, end), axis=None)\n",
    "\n",
    "    return true_dist"
   ]
  },
  {
   "cell_type": "code",
   "execution_count": 15,
   "metadata": {},
   "outputs": [
    {
     "name": "stdout",
     "output_type": "stream",
     "text": [
      "(42599,) (42599,)\n"
     ]
    },
    {
     "data": {
      "image/png": "[encoded data removed]",
      "text/plain": [
       "<Figure size 432x288 with 1 Axes>"
      ]
     },
     "metadata": {
      "needs_background": "light"
     },
     "output_type": "display_data"
    }
   ],
   "source": [
    "gen_data_E = E_distribution(E_list.shape[0])\n",
    "print(gen_data_E.shape, E_list.shape)\n",
    "\n",
    "plt.hist(gen_data_E, bins = 100, range=[0, 1.1], alpha = 0.5)\n",
    "plt.hist(E_list, bins = 100, range=[0, 1.1], alpha = 0.5)\n",
    "\n",
    "plt.show()"
   ]
  },
  {
   "cell_type": "code",
   "execution_count": 35,
   "metadata": {},
   "outputs": [
    {
     "data": {
      "image/png": "[encoded data removed]",
      "text/plain": [
       "<Figure size 432x288 with 1 Axes>"
      ]
     },
     "metadata": {
      "needs_background": "light"
     },
     "output_type": "display_data"
    },
    {
     "data": {
      "text/plain": [
       "<Figure size 432x288 with 0 Axes>"
      ]
     },
     "metadata": {},
     "output_type": "display_data"
    }
   ],
   "source": [
    "\n",
    "\n",
    "fig, ax = plt.subplots()\n",
    "ax.hist(real_y[:,1], label = 'Predicted', alpha = 0.5, range = [0,0.02],bins = 100)\n",
    "\n",
    "fig.legend()\n",
    "plt.show()\n",
    "plt.clf()"
   ]
  },
  {
   "cell_type": "code",
   "execution_count": null,
   "metadata": {},
   "outputs": [],
   "source": []
  }
 ],
 "metadata": {
  "kernelspec": {
   "display_name": "Python 3",
   "language": "python",
   "name": "python3"
  },
  "language_info": {
   "codemirror_mode": {
    "name": "ipython",
    "version": 3
   },
   "file_extension": ".py",
   "mimetype": "text/x-python",
   "name": "python",
   "nbconvert_exporter": "python",
   "pygments_lexer": "ipython3",
   "version": "3.8.10"
  }
 },
 "nbformat": 4,
 "nbformat_minor": 4
}
