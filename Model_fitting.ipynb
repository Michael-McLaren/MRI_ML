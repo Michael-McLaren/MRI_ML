{
 "cells": [
  {
   "cell_type": "code",
   "execution_count": 1,
   "id": "aad0698b",
   "metadata": {},
   "outputs": [],
   "source": [
    "import torch\n",
    "import numpy as np\n",
    "from IPython.core.debugger import set_trace\n",
    "import imageio\n",
    "import matplotlib.pyplot as plt\n",
    "import torch.nn as nn\n",
    "import torch.optim as optim\n",
    "import torch.utils.data as Data\n",
    "from torch.autograd import Variable\n",
    "import torch.nn.functional as F\n",
    "\n",
    "\n",
    "import importlib.util\n",
    "\n",
    "\n",
    "from tkmodel.TwoCUM import TwoCUMfittingConc\n",
    "from tkmodel.TwoCUM import TwoCUM"
   ]
  },
  {
   "cell_type": "code",
   "execution_count": 2,
   "id": "97d823a1",
   "metadata": {},
   "outputs": [
    {
     "data": {
      "text/plain": [
       "'\\nQuestions for 03/11/2021\\nIs my data generation okay, im worried what kind of random distribution i should use.\\nShould i normalise Fp to between 0 and 1 like the others?\\nPossibly add uncertainty to replicate the test data set a bit more?\\n'"
      ]
     },
     "execution_count": 2,
     "metadata": {},
     "output_type": "execute_result"
    }
   ],
   "source": [
    "'''\n",
    "Questions for 03/11/2021\n",
    "Is my data generation okay, im worried what kind of random distribution i should use.\n",
    "Should i normalise Fp to between 0 and 1 like the others?\n",
    "Possibly add uncertainty to replicate the test data set a bit more?\n",
    "'''"
   ]
  },
  {
   "cell_type": "code",
   "execution_count": 18,
   "id": "294b7492",
   "metadata": {},
   "outputs": [],
   "source": [
    "#useful functions\n",
    "\n",
    "def plot_PK(output, true):\n",
    "    AIF_plot = np.load(\"data/AIF.npy\")\n",
    "    t_plot = np.arange(0,366,2.45)\n",
    "    fitted_curve = TwoCUM(output, t_plot, AIF_plot, 0)\n",
    "    plt.plot(t_plot, fitted_curve, label = 'Prediction')\n",
    "    fitted_curve = TwoCUM(true, t_plot, AIF_plot, 0)\n",
    "    plt.plot(t_plot, fitted_curve, label = 'True')\n",
    "    plt.legend()\n",
    "    plt.show()\n",
    "    \n",
    "def generate_xy(num_curves):\n",
    "    AIF = np.load(\"data/AIF.npy\")\n",
    "    data_size = AIF.shape[0]\n",
    "    t = np.arange(0,366,2.45)\n",
    "\n",
    "    E = np.random.rand(1,num_curves) #0 to 1 for both E and vp\n",
    "    vp = np.random.rand(1,num_curves)\n",
    "    Fp = 1e-5*np.random.rand(1,num_curves)\n",
    "    \n",
    "#     Fp = abs(np.random.normal(size=num_curves, loc= 1e-5, scale = 1e-4)[None,:])\n",
    "\n",
    "    E_Fp = np.concatenate((E, Fp), axis =0)\n",
    "    y = np.concatenate((E_Fp, vp), axis =0)\n",
    "\n",
    "\n",
    "    x = np.zeros((num_curves, data_size))\n",
    "    for i in range(num_curves):\n",
    "        x[i] = TwoCUM(y[:,i], t, AIF, 0)\n",
    "\n",
    "    y = y.T \n",
    "    \n",
    "    return x,y\n",
    "\n",
    "def training_loop(x, y, epochs, plot = True):\n",
    "    #x is the inputs, y is the true value of the predictions\n",
    "    optimizer = torch.optim.SGD(net.parameters(), lr=0.000001, momentum=0.9)\n",
    "    loss_func = torch.nn.MSELoss()\n",
    "\n",
    "    x = torch.from_numpy(x).float()\n",
    "    y = torch.from_numpy(y).float()\n",
    "    inputs = Variable(x)\n",
    "    outputs = Variable(y)\n",
    "    torch_dataset = Data.TensorDataset(x, y) #wrapper to join x and y into one dataloader\n",
    "\n",
    "    dataloader = Data.DataLoader(torch_dataset, batch_size=50, shuffle=True) #dataloader for batching and shuffle every epoch\n",
    "\n",
    "    enum = epochs\n",
    "    loss_list = []\n",
    "    for epoch in range(enum):\n",
    "        \n",
    "        for i, (mini_x, mini_y) in enumerate(dataloader): # take out a batch for each step\n",
    "            \n",
    "            \n",
    "            \n",
    "            mini_x = Variable(mini_x)\n",
    "            mini_y = Variable(mini_y)\n",
    "\n",
    "            prediction = net(mini_x)     # input x and predict based on x\n",
    "            #adjust prediction so that it simply needs to choose between 0 and 1\n",
    "            prediction[:,1] = 1e-5*prediction[:,1]\n",
    "            loss = loss_func(prediction, mini_y)\n",
    "            \n",
    "                \n",
    "            optimizer.zero_grad()   # clear gradients so it doesn't stack up over the loops\n",
    "            loss.backward()         # backprop\n",
    "            optimizer.step() \n",
    "            \n",
    "        loss_list.append(loss.detach().numpy())\n",
    "        print(epoch, loss)\n",
    "        if epoch%10 == 0 and plot == True:\n",
    "            #plot one example of prediction vs true values\n",
    "            print('Prediction, True Values')\n",
    "            print(prediction[0].detach().numpy() , mini_y[0].detach().numpy())\n",
    "            plot_PK(prediction[0].detach().numpy(), mini_y[0].detach().numpy())\n",
    "    \n",
    "    #plot the loss over epochs\n",
    "    plt.plot(list(range(enum)), loss_list)\n",
    "    plt.xlabel('Epoch')\n",
    "    plt.ylabel('Loss')\n",
    "    plt.show()\n"
   ]
  },
  {
   "cell_type": "code",
   "execution_count": 19,
   "id": "a30c6ede",
   "metadata": {},
   "outputs": [
    {
     "name": "stdout",
     "output_type": "stream",
     "text": [
      "Net(\n",
      "  (hidden): Linear(in_features=150, out_features=2000, bias=True)\n",
      "  (hidden2): Linear(in_features=2000, out_features=1000, bias=True)\n",
      "  (hidden3): Linear(in_features=1000, out_features=500, bias=True)\n",
      "  (hidden4): Linear(in_features=500, out_features=300, bias=True)\n",
      "  (hidden5): Linear(in_features=300, out_features=200, bias=True)\n",
      "  (predict): Linear(in_features=200, out_features=3, bias=True)\n",
      ")\n"
     ]
    }
   ],
   "source": [
    "class Net(nn.Module):\n",
    "    def __init__(self):\n",
    "        super(Net, self).__init__()\n",
    "        self.hidden = torch.nn.Linear(150, 2000)   # hidden layer\n",
    "        self.hidden2 = torch.nn.Linear(2000, 1000)   # hidden layer\n",
    "        self.hidden3 = torch.nn.Linear(1000, 500)\n",
    "        self.hidden4 = torch.nn.Linear(500, 300)\n",
    "        self.hidden5 = torch.nn.Linear(300, 200)\n",
    "        self.predict = torch.nn.Linear(200, 3)\n",
    "\n",
    "    def forward(self, x):\n",
    "        x = F.relu(self.hidden(x))      # activation function for hidden layer\n",
    "        x = F.relu(self.hidden2(x))\n",
    "        x = F.relu(self.hidden3(x))\n",
    "        x = F.relu(self.hidden4(x))\n",
    "        x = F.relu(self.hidden5(x))\n",
    "        x = self.predict(x)             # linear output\n",
    "        return x\n",
    "    \n",
    "#example custom loss function\n",
    "class RMSELoss(nn.Module):\n",
    "    def __init__(self, eps=1e-6):\n",
    "        super().__init__()\n",
    "        self.mse = nn.MSELoss()\n",
    "        self.eps = eps\n",
    "        \n",
    "    def forward(self,y_pred, y_true):\n",
    "        loss = torch.sqrt(self.mse(yhat,y) + self.eps)\n",
    "        return loss\n",
    "    \n",
    "print(Net())"
   ]
  },
  {
   "cell_type": "code",
   "execution_count": 20,
   "id": "d794ffde",
   "metadata": {},
   "outputs": [],
   "source": [
    "#maybe functions\n",
    "def loss_fn(outputs, targets):\n",
    "    #E, Fp, vp\n",
    "    \n",
    "    \n",
    "    #For outputs\n",
    "    #First calculate the parameter Tp\n",
    "    \n",
    "    Tp=(vp/Fp)*(1-E)\n",
    "    #Calculate the IRF\n",
    "    exptTp= torch.exp(-1*t/Tp)\n",
    "    R=exptTp*(1-E) + E\n",
    "    #Calculate the convolution\n",
    "    AIF1 = AIF.view(1, 1, -1)\n",
    "    R = torch.flip(R, (0,)).view(1, 1, -1)\n",
    "    temp = t[1]*torch.nn.functional.conv1d(AIF1, R, padding = AIF.shape[0]-1).view(-1)\n",
    "    F_out = Fp*temp[0:len(t)]\n",
    "    \n",
    "    #For targets - copy pasted\n",
    "    E, Fp ,vp = targets[0], targets[1], targets[2]\n",
    "    Tp=(vp/Fp)*(1-E)\n",
    "    #Calculate the IRF\n",
    "    exptTp= torch.exp(-1*t/Tp)\n",
    "    R=exptTp*(1-E) + E\n",
    "    #Calculate the convolution\n",
    "    AIF1 = AIF.view(1, 1, -1)\n",
    "    R = torch.flip(R, (0,)).view(1, 1, -1)\n",
    "    temp = t[1]*torch.nn.functional.conv1d(AIF1, R, padding = AIF.shape[0]-1).view(-1)\n",
    "    F_targets = Fp*temp[0:len(t)]\n",
    "    \n",
    "    return torch.sum((F_out - F_targets)**2)/F_out.shape[0]"
   ]
  },
  {
   "cell_type": "code",
   "execution_count": 21,
   "id": "f9efc044",
   "metadata": {},
   "outputs": [
    {
     "name": "stdout",
     "output_type": "stream",
     "text": [
      "(1199932,)\n",
      "0 tensor(0.2139, grad_fn=<MseLossBackward>)\n",
      "Prediction, True Values\n",
      "[ 7.9802107e-03 -2.9261838e-07  4.6417736e-02] [4.3404713e-01 4.5689999e-06 8.2330477e-01]\n"
     ]
    },
    {
     "data": {
      "image/png": "[encoded data removed]",
      "text/plain": [
       "<Figure size 432x288 with 1 Axes>"
      ]
     },
     "metadata": {
      "needs_background": "light"
     },
     "output_type": "display_data"
    },
    {
     "name": "stdout",
     "output_type": "stream",
     "text": [
      "1 tensor(0.2101, grad_fn=<MseLossBackward>)\n",
      "2 tensor(0.1946, grad_fn=<MseLossBackward>)\n",
      "3 tensor(0.1897, grad_fn=<MseLossBackward>)\n",
      "4 tensor(0.2002, grad_fn=<MseLossBackward>)\n",
      "5 tensor(0.1939, grad_fn=<MseLossBackward>)\n",
      "6 tensor(0.1935, grad_fn=<MseLossBackward>)\n",
      "7 tensor(0.1645, grad_fn=<MseLossBackward>)\n",
      "8 tensor(0.1608, grad_fn=<MseLossBackward>)\n",
      "9 tensor(0.1771, grad_fn=<MseLossBackward>)\n",
      "10 tensor(0.1799, grad_fn=<MseLossBackward>)\n",
      "Prediction, True Values\n",
      "[ 8.6698703e-02 -2.7888152e-07  1.2080582e-01] [9.9517173e-01 5.4835423e-06 9.1731900e-01]\n"
     ]
    },
    {
     "data": {
      "image/png": "[encoded data removed]",
      "text/plain": [
       "<Figure size 432x288 with 1 Axes>"
      ]
     },
     "metadata": {
      "needs_background": "light"
     },
     "output_type": "display_data"
    },
    {
     "name": "stdout",
     "output_type": "stream",
     "text": [
      "11 tensor(0.1583, grad_fn=<MseLossBackward>)\n",
      "12 tensor(0.1415, grad_fn=<MseLossBackward>)\n",
      "13 tensor(0.1434, grad_fn=<MseLossBackward>)\n",
      "14 tensor(0.1227, grad_fn=<MseLossBackward>)\n",
      "15 tensor(0.1439, grad_fn=<MseLossBackward>)\n",
      "16 tensor(0.1540, grad_fn=<MseLossBackward>)\n",
      "17 tensor(0.1608, grad_fn=<MseLossBackward>)\n",
      "18 tensor(0.1280, grad_fn=<MseLossBackward>)\n",
      "19 tensor(0.1268, grad_fn=<MseLossBackward>)\n",
      "20 tensor(0.1320, grad_fn=<MseLossBackward>)\n",
      "Prediction, True Values\n",
      "[ 1.5247810e-01 -2.6743044e-07  1.8270785e-01] [3.592013e-02 8.944743e-06 5.545112e-01]\n"
     ]
    },
    {
     "data": {
      "image/png": "[encoded data removed]",
      "text/plain": [
       "<Figure size 432x288 with 1 Axes>"
      ]
     },
     "metadata": {
      "needs_background": "light"
     },
     "output_type": "display_data"
    },
    {
     "name": "stdout",
     "output_type": "stream",
     "text": [
      "21 tensor(0.1081, grad_fn=<MseLossBackward>)\n",
      "22 tensor(0.1221, grad_fn=<MseLossBackward>)\n",
      "23 tensor(0.1226, grad_fn=<MseLossBackward>)\n",
      "24 tensor(0.1170, grad_fn=<MseLossBackward>)\n",
      "25 tensor(0.1291, grad_fn=<MseLossBackward>)\n",
      "26 tensor(0.0990, grad_fn=<MseLossBackward>)\n",
      "27 tensor(0.1361, grad_fn=<MseLossBackward>)\n",
      "28 tensor(0.1019, grad_fn=<MseLossBackward>)\n",
      "29 tensor(0.0883, grad_fn=<MseLossBackward>)\n",
      "30 tensor(0.1163, grad_fn=<MseLossBackward>)\n",
      "Prediction, True Values\n",
      "[ 2.0745254e-01 -2.5809072e-07  2.3383987e-01] [1.7764562e-01 4.2578918e-06 9.8001254e-01]\n"
     ]
    },
    {
     "data": {
      "image/png": "[encoded data removed]",
      "text/plain": [
       "<Figure size 432x288 with 1 Axes>"
      ]
     },
     "metadata": {
      "needs_background": "light"
     },
     "output_type": "display_data"
    },
    {
     "name": "stdout",
     "output_type": "stream",
     "text": [
      "31 tensor(0.1118, grad_fn=<MseLossBackward>)\n",
      "32 tensor(0.0895, grad_fn=<MseLossBackward>)\n",
      "33 tensor(0.1215, grad_fn=<MseLossBackward>)\n",
      "34 tensor(0.0996, grad_fn=<MseLossBackward>)\n",
      "35 tensor(0.1043, grad_fn=<MseLossBackward>)\n"
     ]
    },
    {
     "ename": "KeyboardInterrupt",
     "evalue": "",
     "output_type": "error",
     "traceback": [
      "\u001b[0;31m---------------------------------------------------------------------------\u001b[0m",
      "\u001b[0;31mKeyboardInterrupt\u001b[0m                         Traceback (most recent call last)",
      "\u001b[0;32m/var/folders/2m/v5d7mznx1v39h5mv6nwjnvxm0000gn/T/ipykernel_13202/4023786441.py\u001b[0m in \u001b[0;36m<module>\u001b[0;34m\u001b[0m\n\u001b[1;32m      3\u001b[0m \u001b[0mnet\u001b[0m \u001b[0;34m=\u001b[0m \u001b[0mNet\u001b[0m\u001b[0;34m(\u001b[0m\u001b[0;34m)\u001b[0m\u001b[0;34m\u001b[0m\u001b[0;34m\u001b[0m\u001b[0m\n\u001b[1;32m      4\u001b[0m \u001b[0;34m\u001b[0m\u001b[0m\n\u001b[0;32m----> 5\u001b[0;31m \u001b[0mtraining_loop\u001b[0m\u001b[0;34m(\u001b[0m\u001b[0mx\u001b[0m \u001b[0;34m,\u001b[0m\u001b[0my\u001b[0m \u001b[0;34m,\u001b[0m\u001b[0mepochs\u001b[0m\u001b[0;34m=\u001b[0m\u001b[0;36m100\u001b[0m\u001b[0;34m)\u001b[0m\u001b[0;34m\u001b[0m\u001b[0;34m\u001b[0m\u001b[0m\n\u001b[0m",
      "\u001b[0;32m/var/folders/2m/v5d7mznx1v39h5mv6nwjnvxm0000gn/T/ipykernel_13202/98901015.py\u001b[0m in \u001b[0;36mtraining_loop\u001b[0;34m(x, y, epochs, plot)\u001b[0m\n\u001b[1;32m     65\u001b[0m \u001b[0;34m\u001b[0m\u001b[0m\n\u001b[1;32m     66\u001b[0m             \u001b[0moptimizer\u001b[0m\u001b[0;34m.\u001b[0m\u001b[0mzero_grad\u001b[0m\u001b[0;34m(\u001b[0m\u001b[0;34m)\u001b[0m   \u001b[0;31m# clear gradients so it doesn't stack up over the loops\u001b[0m\u001b[0;34m\u001b[0m\u001b[0;34m\u001b[0m\u001b[0m\n\u001b[0;32m---> 67\u001b[0;31m             \u001b[0mloss\u001b[0m\u001b[0;34m.\u001b[0m\u001b[0mbackward\u001b[0m\u001b[0;34m(\u001b[0m\u001b[0;34m)\u001b[0m         \u001b[0;31m# backprop\u001b[0m\u001b[0;34m\u001b[0m\u001b[0;34m\u001b[0m\u001b[0m\n\u001b[0m\u001b[1;32m     68\u001b[0m             \u001b[0moptimizer\u001b[0m\u001b[0;34m.\u001b[0m\u001b[0mstep\u001b[0m\u001b[0;34m(\u001b[0m\u001b[0;34m)\u001b[0m\u001b[0;34m\u001b[0m\u001b[0;34m\u001b[0m\u001b[0m\n\u001b[1;32m     69\u001b[0m \u001b[0;34m\u001b[0m\u001b[0m\n",
      "\u001b[0;32m/opt/anaconda3/envs/pytorch/lib/python3.9/site-packages/torch/_tensor.py\u001b[0m in \u001b[0;36mbackward\u001b[0;34m(self, gradient, retain_graph, create_graph, inputs)\u001b[0m\n\u001b[1;32m    253\u001b[0m                 \u001b[0mcreate_graph\u001b[0m\u001b[0;34m=\u001b[0m\u001b[0mcreate_graph\u001b[0m\u001b[0;34m,\u001b[0m\u001b[0;34m\u001b[0m\u001b[0;34m\u001b[0m\u001b[0m\n\u001b[1;32m    254\u001b[0m                 inputs=inputs)\n\u001b[0;32m--> 255\u001b[0;31m         \u001b[0mtorch\u001b[0m\u001b[0;34m.\u001b[0m\u001b[0mautograd\u001b[0m\u001b[0;34m.\u001b[0m\u001b[0mbackward\u001b[0m\u001b[0;34m(\u001b[0m\u001b[0mself\u001b[0m\u001b[0;34m,\u001b[0m \u001b[0mgradient\u001b[0m\u001b[0;34m,\u001b[0m \u001b[0mretain_graph\u001b[0m\u001b[0;34m,\u001b[0m \u001b[0mcreate_graph\u001b[0m\u001b[0;34m,\u001b[0m \u001b[0minputs\u001b[0m\u001b[0;34m=\u001b[0m\u001b[0minputs\u001b[0m\u001b[0;34m)\u001b[0m\u001b[0;34m\u001b[0m\u001b[0;34m\u001b[0m\u001b[0m\n\u001b[0m\u001b[1;32m    256\u001b[0m \u001b[0;34m\u001b[0m\u001b[0m\n\u001b[1;32m    257\u001b[0m     \u001b[0;32mdef\u001b[0m \u001b[0mregister_hook\u001b[0m\u001b[0;34m(\u001b[0m\u001b[0mself\u001b[0m\u001b[0;34m,\u001b[0m \u001b[0mhook\u001b[0m\u001b[0;34m)\u001b[0m\u001b[0;34m:\u001b[0m\u001b[0;34m\u001b[0m\u001b[0;34m\u001b[0m\u001b[0m\n",
      "\u001b[0;32m/opt/anaconda3/envs/pytorch/lib/python3.9/site-packages/torch/autograd/__init__.py\u001b[0m in \u001b[0;36mbackward\u001b[0;34m(tensors, grad_tensors, retain_graph, create_graph, grad_variables, inputs)\u001b[0m\n\u001b[1;32m    145\u001b[0m         \u001b[0mretain_graph\u001b[0m \u001b[0;34m=\u001b[0m \u001b[0mcreate_graph\u001b[0m\u001b[0;34m\u001b[0m\u001b[0;34m\u001b[0m\u001b[0m\n\u001b[1;32m    146\u001b[0m \u001b[0;34m\u001b[0m\u001b[0m\n\u001b[0;32m--> 147\u001b[0;31m     Variable._execution_engine.run_backward(\n\u001b[0m\u001b[1;32m    148\u001b[0m         \u001b[0mtensors\u001b[0m\u001b[0;34m,\u001b[0m \u001b[0mgrad_tensors_\u001b[0m\u001b[0;34m,\u001b[0m \u001b[0mretain_graph\u001b[0m\u001b[0;34m,\u001b[0m \u001b[0mcreate_graph\u001b[0m\u001b[0;34m,\u001b[0m \u001b[0minputs\u001b[0m\u001b[0;34m,\u001b[0m\u001b[0;34m\u001b[0m\u001b[0;34m\u001b[0m\u001b[0m\n\u001b[1;32m    149\u001b[0m         allow_unreachable=True, accumulate_grad=True)  # allow_unreachable flag\n",
      "\u001b[0;31mKeyboardInterrupt\u001b[0m: "
     ]
    }
   ],
   "source": [
    "x, y = generate_xy(100000)\n",
    "print(x[x<0].shape)\n",
    "net = Net()\n",
    "\n",
    "training_loop(x ,y ,epochs=100)"
   ]
  },
  {
   "cell_type": "code",
   "execution_count": null,
   "id": "5dd0357a",
   "metadata": {},
   "outputs": [],
   "source": []
  }
 ],
 "metadata": {
  "kernelspec": {
   "display_name": "Python 3 (ipykernel)",
   "language": "python",
   "name": "python3"
  },
  "language_info": {
   "codemirror_mode": {
    "name": "ipython",
    "version": 3
   },
   "file_extension": ".py",
   "mimetype": "text/x-python",
   "name": "python",
   "nbconvert_exporter": "python",
   "pygments_lexer": "ipython3",
   "version": "3.9.7"
  }
 },
 "nbformat": 4,
 "nbformat_minor": 5
}
